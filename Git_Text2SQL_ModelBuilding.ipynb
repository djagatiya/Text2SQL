{
  "nbformat": 4,
  "nbformat_minor": 0,
  "metadata": {
    "colab": {
      "provenance": [],
      "gpuType": "T4",
      "mount_file_id": "1Aa226GCZqtyKzn4FK4T7Dv9VSitEZQDr",
      "authorship_tag": "ABX9TyNQoeJT2CQL0h/WqE6yug7L"
    },
    "kernelspec": {
      "name": "python3",
      "display_name": "Python 3"
    },
    "language_info": {
      "name": "python"
    },
    "accelerator": "GPU",
    "widgets": {
      "application/vnd.jupyter.widget-state+json": {
        "c297d43f6fcb41948820e872e72a8fb2": {
          "model_module": "@jupyter-widgets/controls",
          "model_name": "HBoxModel",
          "model_module_version": "1.5.0",
          "state": {
            "_dom_classes": [],
            "_model_module": "@jupyter-widgets/controls",
            "_model_module_version": "1.5.0",
            "_model_name": "HBoxModel",
            "_view_count": null,
            "_view_module": "@jupyter-widgets/controls",
            "_view_module_version": "1.5.0",
            "_view_name": "HBoxView",
            "box_style": "",
            "children": [
              "IPY_MODEL_67eeb2654674481cbc75a996f09fbfdf",
              "IPY_MODEL_0ff9c14e2119403daa6630197757dff2",
              "IPY_MODEL_3bcd33395c0e44a486e90086580fbb04"
            ],
            "layout": "IPY_MODEL_01ea85d527e04257b88b69700740ee23"
          }
        },
        "67eeb2654674481cbc75a996f09fbfdf": {
          "model_module": "@jupyter-widgets/controls",
          "model_name": "HTMLModel",
          "model_module_version": "1.5.0",
          "state": {
            "_dom_classes": [],
            "_model_module": "@jupyter-widgets/controls",
            "_model_module_version": "1.5.0",
            "_model_name": "HTMLModel",
            "_view_count": null,
            "_view_module": "@jupyter-widgets/controls",
            "_view_module_version": "1.5.0",
            "_view_name": "HTMLView",
            "description": "",
            "description_tooltip": null,
            "layout": "IPY_MODEL_25f76c4e17e9438295aa803b33c56149",
            "placeholder": "​",
            "style": "IPY_MODEL_a7f7f29fac344882847ed6dd883a8516",
            "value": "tokenizer_config.json: 100%"
          }
        },
        "0ff9c14e2119403daa6630197757dff2": {
          "model_module": "@jupyter-widgets/controls",
          "model_name": "FloatProgressModel",
          "model_module_version": "1.5.0",
          "state": {
            "_dom_classes": [],
            "_model_module": "@jupyter-widgets/controls",
            "_model_module_version": "1.5.0",
            "_model_name": "FloatProgressModel",
            "_view_count": null,
            "_view_module": "@jupyter-widgets/controls",
            "_view_module_version": "1.5.0",
            "_view_name": "ProgressView",
            "bar_style": "success",
            "description": "",
            "description_tooltip": null,
            "layout": "IPY_MODEL_233721379ee14a328e6898d71a44818e",
            "max": 7339,
            "min": 0,
            "orientation": "horizontal",
            "style": "IPY_MODEL_6684f4ed329c4915bcc076a0ed657939",
            "value": 7339
          }
        },
        "3bcd33395c0e44a486e90086580fbb04": {
          "model_module": "@jupyter-widgets/controls",
          "model_name": "HTMLModel",
          "model_module_version": "1.5.0",
          "state": {
            "_dom_classes": [],
            "_model_module": "@jupyter-widgets/controls",
            "_model_module_version": "1.5.0",
            "_model_name": "HTMLModel",
            "_view_count": null,
            "_view_module": "@jupyter-widgets/controls",
            "_view_module_version": "1.5.0",
            "_view_name": "HTMLView",
            "description": "",
            "description_tooltip": null,
            "layout": "IPY_MODEL_32b2db82f94b4adf98a4c0068cd8adf6",
            "placeholder": "​",
            "style": "IPY_MODEL_bb6dc497d5a449c6bf23bf9fdee7b670",
            "value": " 7.34k/7.34k [00:00&lt;00:00, 227kB/s]"
          }
        },
        "01ea85d527e04257b88b69700740ee23": {
          "model_module": "@jupyter-widgets/base",
          "model_name": "LayoutModel",
          "model_module_version": "1.2.0",
          "state": {
            "_model_module": "@jupyter-widgets/base",
            "_model_module_version": "1.2.0",
            "_model_name": "LayoutModel",
            "_view_count": null,
            "_view_module": "@jupyter-widgets/base",
            "_view_module_version": "1.2.0",
            "_view_name": "LayoutView",
            "align_content": null,
            "align_items": null,
            "align_self": null,
            "border": null,
            "bottom": null,
            "display": null,
            "flex": null,
            "flex_flow": null,
            "grid_area": null,
            "grid_auto_columns": null,
            "grid_auto_flow": null,
            "grid_auto_rows": null,
            "grid_column": null,
            "grid_gap": null,
            "grid_row": null,
            "grid_template_areas": null,
            "grid_template_columns": null,
            "grid_template_rows": null,
            "height": null,
            "justify_content": null,
            "justify_items": null,
            "left": null,
            "margin": null,
            "max_height": null,
            "max_width": null,
            "min_height": null,
            "min_width": null,
            "object_fit": null,
            "object_position": null,
            "order": null,
            "overflow": null,
            "overflow_x": null,
            "overflow_y": null,
            "padding": null,
            "right": null,
            "top": null,
            "visibility": null,
            "width": null
          }
        },
        "25f76c4e17e9438295aa803b33c56149": {
          "model_module": "@jupyter-widgets/base",
          "model_name": "LayoutModel",
          "model_module_version": "1.2.0",
          "state": {
            "_model_module": "@jupyter-widgets/base",
            "_model_module_version": "1.2.0",
            "_model_name": "LayoutModel",
            "_view_count": null,
            "_view_module": "@jupyter-widgets/base",
            "_view_module_version": "1.2.0",
            "_view_name": "LayoutView",
            "align_content": null,
            "align_items": null,
            "align_self": null,
            "border": null,
            "bottom": null,
            "display": null,
            "flex": null,
            "flex_flow": null,
            "grid_area": null,
            "grid_auto_columns": null,
            "grid_auto_flow": null,
            "grid_auto_rows": null,
            "grid_column": null,
            "grid_gap": null,
            "grid_row": null,
            "grid_template_areas": null,
            "grid_template_columns": null,
            "grid_template_rows": null,
            "height": null,
            "justify_content": null,
            "justify_items": null,
            "left": null,
            "margin": null,
            "max_height": null,
            "max_width": null,
            "min_height": null,
            "min_width": null,
            "object_fit": null,
            "object_position": null,
            "order": null,
            "overflow": null,
            "overflow_x": null,
            "overflow_y": null,
            "padding": null,
            "right": null,
            "top": null,
            "visibility": null,
            "width": null
          }
        },
        "a7f7f29fac344882847ed6dd883a8516": {
          "model_module": "@jupyter-widgets/controls",
          "model_name": "DescriptionStyleModel",
          "model_module_version": "1.5.0",
          "state": {
            "_model_module": "@jupyter-widgets/controls",
            "_model_module_version": "1.5.0",
            "_model_name": "DescriptionStyleModel",
            "_view_count": null,
            "_view_module": "@jupyter-widgets/base",
            "_view_module_version": "1.2.0",
            "_view_name": "StyleView",
            "description_width": ""
          }
        },
        "233721379ee14a328e6898d71a44818e": {
          "model_module": "@jupyter-widgets/base",
          "model_name": "LayoutModel",
          "model_module_version": "1.2.0",
          "state": {
            "_model_module": "@jupyter-widgets/base",
            "_model_module_version": "1.2.0",
            "_model_name": "LayoutModel",
            "_view_count": null,
            "_view_module": "@jupyter-widgets/base",
            "_view_module_version": "1.2.0",
            "_view_name": "LayoutView",
            "align_content": null,
            "align_items": null,
            "align_self": null,
            "border": null,
            "bottom": null,
            "display": null,
            "flex": null,
            "flex_flow": null,
            "grid_area": null,
            "grid_auto_columns": null,
            "grid_auto_flow": null,
            "grid_auto_rows": null,
            "grid_column": null,
            "grid_gap": null,
            "grid_row": null,
            "grid_template_areas": null,
            "grid_template_columns": null,
            "grid_template_rows": null,
            "height": null,
            "justify_content": null,
            "justify_items": null,
            "left": null,
            "margin": null,
            "max_height": null,
            "max_width": null,
            "min_height": null,
            "min_width": null,
            "object_fit": null,
            "object_position": null,
            "order": null,
            "overflow": null,
            "overflow_x": null,
            "overflow_y": null,
            "padding": null,
            "right": null,
            "top": null,
            "visibility": null,
            "width": null
          }
        },
        "6684f4ed329c4915bcc076a0ed657939": {
          "model_module": "@jupyter-widgets/controls",
          "model_name": "ProgressStyleModel",
          "model_module_version": "1.5.0",
          "state": {
            "_model_module": "@jupyter-widgets/controls",
            "_model_module_version": "1.5.0",
            "_model_name": "ProgressStyleModel",
            "_view_count": null,
            "_view_module": "@jupyter-widgets/base",
            "_view_module_version": "1.2.0",
            "_view_name": "StyleView",
            "bar_color": null,
            "description_width": ""
          }
        },
        "32b2db82f94b4adf98a4c0068cd8adf6": {
          "model_module": "@jupyter-widgets/base",
          "model_name": "LayoutModel",
          "model_module_version": "1.2.0",
          "state": {
            "_model_module": "@jupyter-widgets/base",
            "_model_module_version": "1.2.0",
            "_model_name": "LayoutModel",
            "_view_count": null,
            "_view_module": "@jupyter-widgets/base",
            "_view_module_version": "1.2.0",
            "_view_name": "LayoutView",
            "align_content": null,
            "align_items": null,
            "align_self": null,
            "border": null,
            "bottom": null,
            "display": null,
            "flex": null,
            "flex_flow": null,
            "grid_area": null,
            "grid_auto_columns": null,
            "grid_auto_flow": null,
            "grid_auto_rows": null,
            "grid_column": null,
            "grid_gap": null,
            "grid_row": null,
            "grid_template_areas": null,
            "grid_template_columns": null,
            "grid_template_rows": null,
            "height": null,
            "justify_content": null,
            "justify_items": null,
            "left": null,
            "margin": null,
            "max_height": null,
            "max_width": null,
            "min_height": null,
            "min_width": null,
            "object_fit": null,
            "object_position": null,
            "order": null,
            "overflow": null,
            "overflow_x": null,
            "overflow_y": null,
            "padding": null,
            "right": null,
            "top": null,
            "visibility": null,
            "width": null
          }
        },
        "bb6dc497d5a449c6bf23bf9fdee7b670": {
          "model_module": "@jupyter-widgets/controls",
          "model_name": "DescriptionStyleModel",
          "model_module_version": "1.5.0",
          "state": {
            "_model_module": "@jupyter-widgets/controls",
            "_model_module_version": "1.5.0",
            "_model_name": "DescriptionStyleModel",
            "_view_count": null,
            "_view_module": "@jupyter-widgets/base",
            "_view_module_version": "1.2.0",
            "_view_name": "StyleView",
            "description_width": ""
          }
        },
        "1540718316e443598cf6f44567e1fe84": {
          "model_module": "@jupyter-widgets/controls",
          "model_name": "HBoxModel",
          "model_module_version": "1.5.0",
          "state": {
            "_dom_classes": [],
            "_model_module": "@jupyter-widgets/controls",
            "_model_module_version": "1.5.0",
            "_model_name": "HBoxModel",
            "_view_count": null,
            "_view_module": "@jupyter-widgets/controls",
            "_view_module_version": "1.5.0",
            "_view_name": "HBoxView",
            "box_style": "",
            "children": [
              "IPY_MODEL_868e7cff901743238cfab288c1310219",
              "IPY_MODEL_3d97fb55e7464650bbd2f941745f7495",
              "IPY_MODEL_d210e6282e8e4e939ac0482a46bc5a78"
            ],
            "layout": "IPY_MODEL_217643eb22204cc5ba83a85cafb2bca7"
          }
        },
        "868e7cff901743238cfab288c1310219": {
          "model_module": "@jupyter-widgets/controls",
          "model_name": "HTMLModel",
          "model_module_version": "1.5.0",
          "state": {
            "_dom_classes": [],
            "_model_module": "@jupyter-widgets/controls",
            "_model_module_version": "1.5.0",
            "_model_name": "HTMLModel",
            "_view_count": null,
            "_view_module": "@jupyter-widgets/controls",
            "_view_module_version": "1.5.0",
            "_view_name": "HTMLView",
            "description": "",
            "description_tooltip": null,
            "layout": "IPY_MODEL_19eeced442474c19af6d5eb917c6479a",
            "placeholder": "​",
            "style": "IPY_MODEL_22c4bb1b890b41ba9d5a9b236b012bc9",
            "value": "vocab.json: 100%"
          }
        },
        "3d97fb55e7464650bbd2f941745f7495": {
          "model_module": "@jupyter-widgets/controls",
          "model_name": "FloatProgressModel",
          "model_module_version": "1.5.0",
          "state": {
            "_dom_classes": [],
            "_model_module": "@jupyter-widgets/controls",
            "_model_module_version": "1.5.0",
            "_model_name": "FloatProgressModel",
            "_view_count": null,
            "_view_module": "@jupyter-widgets/controls",
            "_view_module_version": "1.5.0",
            "_view_name": "ProgressView",
            "bar_style": "success",
            "description": "",
            "description_tooltip": null,
            "layout": "IPY_MODEL_30d0ab1bf323459684824a0fcf6f5609",
            "max": 798156,
            "min": 0,
            "orientation": "horizontal",
            "style": "IPY_MODEL_802135d62a664cc991dec29f3117d7d2",
            "value": 798156
          }
        },
        "d210e6282e8e4e939ac0482a46bc5a78": {
          "model_module": "@jupyter-widgets/controls",
          "model_name": "HTMLModel",
          "model_module_version": "1.5.0",
          "state": {
            "_dom_classes": [],
            "_model_module": "@jupyter-widgets/controls",
            "_model_module_version": "1.5.0",
            "_model_name": "HTMLModel",
            "_view_count": null,
            "_view_module": "@jupyter-widgets/controls",
            "_view_module_version": "1.5.0",
            "_view_name": "HTMLView",
            "description": "",
            "description_tooltip": null,
            "layout": "IPY_MODEL_16559b3274c9486b9b53442428143add",
            "placeholder": "​",
            "style": "IPY_MODEL_6374207233be46638176178b6094983b",
            "value": " 798k/798k [00:00&lt;00:00, 1.74MB/s]"
          }
        },
        "217643eb22204cc5ba83a85cafb2bca7": {
          "model_module": "@jupyter-widgets/base",
          "model_name": "LayoutModel",
          "model_module_version": "1.2.0",
          "state": {
            "_model_module": "@jupyter-widgets/base",
            "_model_module_version": "1.2.0",
            "_model_name": "LayoutModel",
            "_view_count": null,
            "_view_module": "@jupyter-widgets/base",
            "_view_module_version": "1.2.0",
            "_view_name": "LayoutView",
            "align_content": null,
            "align_items": null,
            "align_self": null,
            "border": null,
            "bottom": null,
            "display": null,
            "flex": null,
            "flex_flow": null,
            "grid_area": null,
            "grid_auto_columns": null,
            "grid_auto_flow": null,
            "grid_auto_rows": null,
            "grid_column": null,
            "grid_gap": null,
            "grid_row": null,
            "grid_template_areas": null,
            "grid_template_columns": null,
            "grid_template_rows": null,
            "height": null,
            "justify_content": null,
            "justify_items": null,
            "left": null,
            "margin": null,
            "max_height": null,
            "max_width": null,
            "min_height": null,
            "min_width": null,
            "object_fit": null,
            "object_position": null,
            "order": null,
            "overflow": null,
            "overflow_x": null,
            "overflow_y": null,
            "padding": null,
            "right": null,
            "top": null,
            "visibility": null,
            "width": null
          }
        },
        "19eeced442474c19af6d5eb917c6479a": {
          "model_module": "@jupyter-widgets/base",
          "model_name": "LayoutModel",
          "model_module_version": "1.2.0",
          "state": {
            "_model_module": "@jupyter-widgets/base",
            "_model_module_version": "1.2.0",
            "_model_name": "LayoutModel",
            "_view_count": null,
            "_view_module": "@jupyter-widgets/base",
            "_view_module_version": "1.2.0",
            "_view_name": "LayoutView",
            "align_content": null,
            "align_items": null,
            "align_self": null,
            "border": null,
            "bottom": null,
            "display": null,
            "flex": null,
            "flex_flow": null,
            "grid_area": null,
            "grid_auto_columns": null,
            "grid_auto_flow": null,
            "grid_auto_rows": null,
            "grid_column": null,
            "grid_gap": null,
            "grid_row": null,
            "grid_template_areas": null,
            "grid_template_columns": null,
            "grid_template_rows": null,
            "height": null,
            "justify_content": null,
            "justify_items": null,
            "left": null,
            "margin": null,
            "max_height": null,
            "max_width": null,
            "min_height": null,
            "min_width": null,
            "object_fit": null,
            "object_position": null,
            "order": null,
            "overflow": null,
            "overflow_x": null,
            "overflow_y": null,
            "padding": null,
            "right": null,
            "top": null,
            "visibility": null,
            "width": null
          }
        },
        "22c4bb1b890b41ba9d5a9b236b012bc9": {
          "model_module": "@jupyter-widgets/controls",
          "model_name": "DescriptionStyleModel",
          "model_module_version": "1.5.0",
          "state": {
            "_model_module": "@jupyter-widgets/controls",
            "_model_module_version": "1.5.0",
            "_model_name": "DescriptionStyleModel",
            "_view_count": null,
            "_view_module": "@jupyter-widgets/base",
            "_view_module_version": "1.2.0",
            "_view_name": "StyleView",
            "description_width": ""
          }
        },
        "30d0ab1bf323459684824a0fcf6f5609": {
          "model_module": "@jupyter-widgets/base",
          "model_name": "LayoutModel",
          "model_module_version": "1.2.0",
          "state": {
            "_model_module": "@jupyter-widgets/base",
            "_model_module_version": "1.2.0",
            "_model_name": "LayoutModel",
            "_view_count": null,
            "_view_module": "@jupyter-widgets/base",
            "_view_module_version": "1.2.0",
            "_view_name": "LayoutView",
            "align_content": null,
            "align_items": null,
            "align_self": null,
            "border": null,
            "bottom": null,
            "display": null,
            "flex": null,
            "flex_flow": null,
            "grid_area": null,
            "grid_auto_columns": null,
            "grid_auto_flow": null,
            "grid_auto_rows": null,
            "grid_column": null,
            "grid_gap": null,
            "grid_row": null,
            "grid_template_areas": null,
            "grid_template_columns": null,
            "grid_template_rows": null,
            "height": null,
            "justify_content": null,
            "justify_items": null,
            "left": null,
            "margin": null,
            "max_height": null,
            "max_width": null,
            "min_height": null,
            "min_width": null,
            "object_fit": null,
            "object_position": null,
            "order": null,
            "overflow": null,
            "overflow_x": null,
            "overflow_y": null,
            "padding": null,
            "right": null,
            "top": null,
            "visibility": null,
            "width": null
          }
        },
        "802135d62a664cc991dec29f3117d7d2": {
          "model_module": "@jupyter-widgets/controls",
          "model_name": "ProgressStyleModel",
          "model_module_version": "1.5.0",
          "state": {
            "_model_module": "@jupyter-widgets/controls",
            "_model_module_version": "1.5.0",
            "_model_name": "ProgressStyleModel",
            "_view_count": null,
            "_view_module": "@jupyter-widgets/base",
            "_view_module_version": "1.2.0",
            "_view_name": "StyleView",
            "bar_color": null,
            "description_width": ""
          }
        },
        "16559b3274c9486b9b53442428143add": {
          "model_module": "@jupyter-widgets/base",
          "model_name": "LayoutModel",
          "model_module_version": "1.2.0",
          "state": {
            "_model_module": "@jupyter-widgets/base",
            "_model_module_version": "1.2.0",
            "_model_name": "LayoutModel",
            "_view_count": null,
            "_view_module": "@jupyter-widgets/base",
            "_view_module_version": "1.2.0",
            "_view_name": "LayoutView",
            "align_content": null,
            "align_items": null,
            "align_self": null,
            "border": null,
            "bottom": null,
            "display": null,
            "flex": null,
            "flex_flow": null,
            "grid_area": null,
            "grid_auto_columns": null,
            "grid_auto_flow": null,
            "grid_auto_rows": null,
            "grid_column": null,
            "grid_gap": null,
            "grid_row": null,
            "grid_template_areas": null,
            "grid_template_columns": null,
            "grid_template_rows": null,
            "height": null,
            "justify_content": null,
            "justify_items": null,
            "left": null,
            "margin": null,
            "max_height": null,
            "max_width": null,
            "min_height": null,
            "min_width": null,
            "object_fit": null,
            "object_position": null,
            "order": null,
            "overflow": null,
            "overflow_x": null,
            "overflow_y": null,
            "padding": null,
            "right": null,
            "top": null,
            "visibility": null,
            "width": null
          }
        },
        "6374207233be46638176178b6094983b": {
          "model_module": "@jupyter-widgets/controls",
          "model_name": "DescriptionStyleModel",
          "model_module_version": "1.5.0",
          "state": {
            "_model_module": "@jupyter-widgets/controls",
            "_model_module_version": "1.5.0",
            "_model_name": "DescriptionStyleModel",
            "_view_count": null,
            "_view_module": "@jupyter-widgets/base",
            "_view_module_version": "1.2.0",
            "_view_name": "StyleView",
            "description_width": ""
          }
        },
        "3e0e5d3f41054035b58725f4b7159101": {
          "model_module": "@jupyter-widgets/controls",
          "model_name": "HBoxModel",
          "model_module_version": "1.5.0",
          "state": {
            "_dom_classes": [],
            "_model_module": "@jupyter-widgets/controls",
            "_model_module_version": "1.5.0",
            "_model_name": "HBoxModel",
            "_view_count": null,
            "_view_module": "@jupyter-widgets/controls",
            "_view_module_version": "1.5.0",
            "_view_name": "HBoxView",
            "box_style": "",
            "children": [
              "IPY_MODEL_59304aaf3f8e409cbad68e5dfe8ddd33",
              "IPY_MODEL_eaaa88c684c44f2e84911854c69a2cf6",
              "IPY_MODEL_27a2c0ee100b4888bb6e2d55ad6fed44"
            ],
            "layout": "IPY_MODEL_699cd992e40c4831adeee2c6d0e65272"
          }
        },
        "59304aaf3f8e409cbad68e5dfe8ddd33": {
          "model_module": "@jupyter-widgets/controls",
          "model_name": "HTMLModel",
          "model_module_version": "1.5.0",
          "state": {
            "_dom_classes": [],
            "_model_module": "@jupyter-widgets/controls",
            "_model_module_version": "1.5.0",
            "_model_name": "HTMLModel",
            "_view_count": null,
            "_view_module": "@jupyter-widgets/controls",
            "_view_module_version": "1.5.0",
            "_view_name": "HTMLView",
            "description": "",
            "description_tooltip": null,
            "layout": "IPY_MODEL_04bb86f33b9d4d7789f6c46b60f47aea",
            "placeholder": "​",
            "style": "IPY_MODEL_d7b57048fe4b40d999512f69a9fef471",
            "value": "merges.txt: 100%"
          }
        },
        "eaaa88c684c44f2e84911854c69a2cf6": {
          "model_module": "@jupyter-widgets/controls",
          "model_name": "FloatProgressModel",
          "model_module_version": "1.5.0",
          "state": {
            "_dom_classes": [],
            "_model_module": "@jupyter-widgets/controls",
            "_model_module_version": "1.5.0",
            "_model_name": "FloatProgressModel",
            "_view_count": null,
            "_view_module": "@jupyter-widgets/controls",
            "_view_module_version": "1.5.0",
            "_view_name": "ProgressView",
            "bar_style": "success",
            "description": "",
            "description_tooltip": null,
            "layout": "IPY_MODEL_547b22dfe1e848bdbcb9272222933eb5",
            "max": 456318,
            "min": 0,
            "orientation": "horizontal",
            "style": "IPY_MODEL_452a88d1e90e401d92869aa15ea9ea06",
            "value": 456318
          }
        },
        "27a2c0ee100b4888bb6e2d55ad6fed44": {
          "model_module": "@jupyter-widgets/controls",
          "model_name": "HTMLModel",
          "model_module_version": "1.5.0",
          "state": {
            "_dom_classes": [],
            "_model_module": "@jupyter-widgets/controls",
            "_model_module_version": "1.5.0",
            "_model_name": "HTMLModel",
            "_view_count": null,
            "_view_module": "@jupyter-widgets/controls",
            "_view_module_version": "1.5.0",
            "_view_name": "HTMLView",
            "description": "",
            "description_tooltip": null,
            "layout": "IPY_MODEL_ca6f775c14254fedbdbe219d9a6c0870",
            "placeholder": "​",
            "style": "IPY_MODEL_0cd2142237e8459882f88162f1add727",
            "value": " 456k/456k [00:00&lt;00:00, 2.25MB/s]"
          }
        },
        "699cd992e40c4831adeee2c6d0e65272": {
          "model_module": "@jupyter-widgets/base",
          "model_name": "LayoutModel",
          "model_module_version": "1.2.0",
          "state": {
            "_model_module": "@jupyter-widgets/base",
            "_model_module_version": "1.2.0",
            "_model_name": "LayoutModel",
            "_view_count": null,
            "_view_module": "@jupyter-widgets/base",
            "_view_module_version": "1.2.0",
            "_view_name": "LayoutView",
            "align_content": null,
            "align_items": null,
            "align_self": null,
            "border": null,
            "bottom": null,
            "display": null,
            "flex": null,
            "flex_flow": null,
            "grid_area": null,
            "grid_auto_columns": null,
            "grid_auto_flow": null,
            "grid_auto_rows": null,
            "grid_column": null,
            "grid_gap": null,
            "grid_row": null,
            "grid_template_areas": null,
            "grid_template_columns": null,
            "grid_template_rows": null,
            "height": null,
            "justify_content": null,
            "justify_items": null,
            "left": null,
            "margin": null,
            "max_height": null,
            "max_width": null,
            "min_height": null,
            "min_width": null,
            "object_fit": null,
            "object_position": null,
            "order": null,
            "overflow": null,
            "overflow_x": null,
            "overflow_y": null,
            "padding": null,
            "right": null,
            "top": null,
            "visibility": null,
            "width": null
          }
        },
        "04bb86f33b9d4d7789f6c46b60f47aea": {
          "model_module": "@jupyter-widgets/base",
          "model_name": "LayoutModel",
          "model_module_version": "1.2.0",
          "state": {
            "_model_module": "@jupyter-widgets/base",
            "_model_module_version": "1.2.0",
            "_model_name": "LayoutModel",
            "_view_count": null,
            "_view_module": "@jupyter-widgets/base",
            "_view_module_version": "1.2.0",
            "_view_name": "LayoutView",
            "align_content": null,
            "align_items": null,
            "align_self": null,
            "border": null,
            "bottom": null,
            "display": null,
            "flex": null,
            "flex_flow": null,
            "grid_area": null,
            "grid_auto_columns": null,
            "grid_auto_flow": null,
            "grid_auto_rows": null,
            "grid_column": null,
            "grid_gap": null,
            "grid_row": null,
            "grid_template_areas": null,
            "grid_template_columns": null,
            "grid_template_rows": null,
            "height": null,
            "justify_content": null,
            "justify_items": null,
            "left": null,
            "margin": null,
            "max_height": null,
            "max_width": null,
            "min_height": null,
            "min_width": null,
            "object_fit": null,
            "object_position": null,
            "order": null,
            "overflow": null,
            "overflow_x": null,
            "overflow_y": null,
            "padding": null,
            "right": null,
            "top": null,
            "visibility": null,
            "width": null
          }
        },
        "d7b57048fe4b40d999512f69a9fef471": {
          "model_module": "@jupyter-widgets/controls",
          "model_name": "DescriptionStyleModel",
          "model_module_version": "1.5.0",
          "state": {
            "_model_module": "@jupyter-widgets/controls",
            "_model_module_version": "1.5.0",
            "_model_name": "DescriptionStyleModel",
            "_view_count": null,
            "_view_module": "@jupyter-widgets/base",
            "_view_module_version": "1.2.0",
            "_view_name": "StyleView",
            "description_width": ""
          }
        },
        "547b22dfe1e848bdbcb9272222933eb5": {
          "model_module": "@jupyter-widgets/base",
          "model_name": "LayoutModel",
          "model_module_version": "1.2.0",
          "state": {
            "_model_module": "@jupyter-widgets/base",
            "_model_module_version": "1.2.0",
            "_model_name": "LayoutModel",
            "_view_count": null,
            "_view_module": "@jupyter-widgets/base",
            "_view_module_version": "1.2.0",
            "_view_name": "LayoutView",
            "align_content": null,
            "align_items": null,
            "align_self": null,
            "border": null,
            "bottom": null,
            "display": null,
            "flex": null,
            "flex_flow": null,
            "grid_area": null,
            "grid_auto_columns": null,
            "grid_auto_flow": null,
            "grid_auto_rows": null,
            "grid_column": null,
            "grid_gap": null,
            "grid_row": null,
            "grid_template_areas": null,
            "grid_template_columns": null,
            "grid_template_rows": null,
            "height": null,
            "justify_content": null,
            "justify_items": null,
            "left": null,
            "margin": null,
            "max_height": null,
            "max_width": null,
            "min_height": null,
            "min_width": null,
            "object_fit": null,
            "object_position": null,
            "order": null,
            "overflow": null,
            "overflow_x": null,
            "overflow_y": null,
            "padding": null,
            "right": null,
            "top": null,
            "visibility": null,
            "width": null
          }
        },
        "452a88d1e90e401d92869aa15ea9ea06": {
          "model_module": "@jupyter-widgets/controls",
          "model_name": "ProgressStyleModel",
          "model_module_version": "1.5.0",
          "state": {
            "_model_module": "@jupyter-widgets/controls",
            "_model_module_version": "1.5.0",
            "_model_name": "ProgressStyleModel",
            "_view_count": null,
            "_view_module": "@jupyter-widgets/base",
            "_view_module_version": "1.2.0",
            "_view_name": "StyleView",
            "bar_color": null,
            "description_width": ""
          }
        },
        "ca6f775c14254fedbdbe219d9a6c0870": {
          "model_module": "@jupyter-widgets/base",
          "model_name": "LayoutModel",
          "model_module_version": "1.2.0",
          "state": {
            "_model_module": "@jupyter-widgets/base",
            "_model_module_version": "1.2.0",
            "_model_name": "LayoutModel",
            "_view_count": null,
            "_view_module": "@jupyter-widgets/base",
            "_view_module_version": "1.2.0",
            "_view_name": "LayoutView",
            "align_content": null,
            "align_items": null,
            "align_self": null,
            "border": null,
            "bottom": null,
            "display": null,
            "flex": null,
            "flex_flow": null,
            "grid_area": null,
            "grid_auto_columns": null,
            "grid_auto_flow": null,
            "grid_auto_rows": null,
            "grid_column": null,
            "grid_gap": null,
            "grid_row": null,
            "grid_template_areas": null,
            "grid_template_columns": null,
            "grid_template_rows": null,
            "height": null,
            "justify_content": null,
            "justify_items": null,
            "left": null,
            "margin": null,
            "max_height": null,
            "max_width": null,
            "min_height": null,
            "min_width": null,
            "object_fit": null,
            "object_position": null,
            "order": null,
            "overflow": null,
            "overflow_x": null,
            "overflow_y": null,
            "padding": null,
            "right": null,
            "top": null,
            "visibility": null,
            "width": null
          }
        },
        "0cd2142237e8459882f88162f1add727": {
          "model_module": "@jupyter-widgets/controls",
          "model_name": "DescriptionStyleModel",
          "model_module_version": "1.5.0",
          "state": {
            "_model_module": "@jupyter-widgets/controls",
            "_model_module_version": "1.5.0",
            "_model_name": "DescriptionStyleModel",
            "_view_count": null,
            "_view_module": "@jupyter-widgets/base",
            "_view_module_version": "1.2.0",
            "_view_name": "StyleView",
            "description_width": ""
          }
        },
        "809e48e61ae24507830ece23b799a49b": {
          "model_module": "@jupyter-widgets/controls",
          "model_name": "HBoxModel",
          "model_module_version": "1.5.0",
          "state": {
            "_dom_classes": [],
            "_model_module": "@jupyter-widgets/controls",
            "_model_module_version": "1.5.0",
            "_model_name": "HBoxModel",
            "_view_count": null,
            "_view_module": "@jupyter-widgets/controls",
            "_view_module_version": "1.5.0",
            "_view_name": "HBoxView",
            "box_style": "",
            "children": [
              "IPY_MODEL_4f4c3015039146ee86f1b53d78eff737",
              "IPY_MODEL_6359ca3af5d347a4bbdb1f5fafff6e19",
              "IPY_MODEL_7adfe5f5091845e7b29574dfbcd5ba41"
            ],
            "layout": "IPY_MODEL_af628ce873074b4f884d21aa3aa91f4e"
          }
        },
        "4f4c3015039146ee86f1b53d78eff737": {
          "model_module": "@jupyter-widgets/controls",
          "model_name": "HTMLModel",
          "model_module_version": "1.5.0",
          "state": {
            "_dom_classes": [],
            "_model_module": "@jupyter-widgets/controls",
            "_model_module_version": "1.5.0",
            "_model_name": "HTMLModel",
            "_view_count": null,
            "_view_module": "@jupyter-widgets/controls",
            "_view_module_version": "1.5.0",
            "_view_name": "HTMLView",
            "description": "",
            "description_tooltip": null,
            "layout": "IPY_MODEL_db71f0025b1947219baf24672b621b93",
            "placeholder": "​",
            "style": "IPY_MODEL_bcfb48fc93d747d3bfbfa7b7dc7909d9",
            "value": "added_tokens.json: 100%"
          }
        },
        "6359ca3af5d347a4bbdb1f5fafff6e19": {
          "model_module": "@jupyter-widgets/controls",
          "model_name": "FloatProgressModel",
          "model_module_version": "1.5.0",
          "state": {
            "_dom_classes": [],
            "_model_module": "@jupyter-widgets/controls",
            "_model_module_version": "1.5.0",
            "_model_name": "FloatProgressModel",
            "_view_count": null,
            "_view_module": "@jupyter-widgets/controls",
            "_view_module_version": "1.5.0",
            "_view_name": "ProgressView",
            "bar_style": "success",
            "description": "",
            "description_tooltip": null,
            "layout": "IPY_MODEL_9878c73b27704fc9b1a379c6d9dc7228",
            "max": 1080,
            "min": 0,
            "orientation": "horizontal",
            "style": "IPY_MODEL_7fcc98dfc5594c038c9ff4a1177e3887",
            "value": 1080
          }
        },
        "7adfe5f5091845e7b29574dfbcd5ba41": {
          "model_module": "@jupyter-widgets/controls",
          "model_name": "HTMLModel",
          "model_module_version": "1.5.0",
          "state": {
            "_dom_classes": [],
            "_model_module": "@jupyter-widgets/controls",
            "_model_module_version": "1.5.0",
            "_model_name": "HTMLModel",
            "_view_count": null,
            "_view_module": "@jupyter-widgets/controls",
            "_view_module_version": "1.5.0",
            "_view_name": "HTMLView",
            "description": "",
            "description_tooltip": null,
            "layout": "IPY_MODEL_ded9eedb026e4599b2c15dedfa0e0621",
            "placeholder": "​",
            "style": "IPY_MODEL_fb1892654eaf49b695d6a6a4b17b91a4",
            "value": " 1.08k/1.08k [00:00&lt;00:00, 29.9kB/s]"
          }
        },
        "af628ce873074b4f884d21aa3aa91f4e": {
          "model_module": "@jupyter-widgets/base",
          "model_name": "LayoutModel",
          "model_module_version": "1.2.0",
          "state": {
            "_model_module": "@jupyter-widgets/base",
            "_model_module_version": "1.2.0",
            "_model_name": "LayoutModel",
            "_view_count": null,
            "_view_module": "@jupyter-widgets/base",
            "_view_module_version": "1.2.0",
            "_view_name": "LayoutView",
            "align_content": null,
            "align_items": null,
            "align_self": null,
            "border": null,
            "bottom": null,
            "display": null,
            "flex": null,
            "flex_flow": null,
            "grid_area": null,
            "grid_auto_columns": null,
            "grid_auto_flow": null,
            "grid_auto_rows": null,
            "grid_column": null,
            "grid_gap": null,
            "grid_row": null,
            "grid_template_areas": null,
            "grid_template_columns": null,
            "grid_template_rows": null,
            "height": null,
            "justify_content": null,
            "justify_items": null,
            "left": null,
            "margin": null,
            "max_height": null,
            "max_width": null,
            "min_height": null,
            "min_width": null,
            "object_fit": null,
            "object_position": null,
            "order": null,
            "overflow": null,
            "overflow_x": null,
            "overflow_y": null,
            "padding": null,
            "right": null,
            "top": null,
            "visibility": null,
            "width": null
          }
        },
        "db71f0025b1947219baf24672b621b93": {
          "model_module": "@jupyter-widgets/base",
          "model_name": "LayoutModel",
          "model_module_version": "1.2.0",
          "state": {
            "_model_module": "@jupyter-widgets/base",
            "_model_module_version": "1.2.0",
            "_model_name": "LayoutModel",
            "_view_count": null,
            "_view_module": "@jupyter-widgets/base",
            "_view_module_version": "1.2.0",
            "_view_name": "LayoutView",
            "align_content": null,
            "align_items": null,
            "align_self": null,
            "border": null,
            "bottom": null,
            "display": null,
            "flex": null,
            "flex_flow": null,
            "grid_area": null,
            "grid_auto_columns": null,
            "grid_auto_flow": null,
            "grid_auto_rows": null,
            "grid_column": null,
            "grid_gap": null,
            "grid_row": null,
            "grid_template_areas": null,
            "grid_template_columns": null,
            "grid_template_rows": null,
            "height": null,
            "justify_content": null,
            "justify_items": null,
            "left": null,
            "margin": null,
            "max_height": null,
            "max_width": null,
            "min_height": null,
            "min_width": null,
            "object_fit": null,
            "object_position": null,
            "order": null,
            "overflow": null,
            "overflow_x": null,
            "overflow_y": null,
            "padding": null,
            "right": null,
            "top": null,
            "visibility": null,
            "width": null
          }
        },
        "bcfb48fc93d747d3bfbfa7b7dc7909d9": {
          "model_module": "@jupyter-widgets/controls",
          "model_name": "DescriptionStyleModel",
          "model_module_version": "1.5.0",
          "state": {
            "_model_module": "@jupyter-widgets/controls",
            "_model_module_version": "1.5.0",
            "_model_name": "DescriptionStyleModel",
            "_view_count": null,
            "_view_module": "@jupyter-widgets/base",
            "_view_module_version": "1.2.0",
            "_view_name": "StyleView",
            "description_width": ""
          }
        },
        "9878c73b27704fc9b1a379c6d9dc7228": {
          "model_module": "@jupyter-widgets/base",
          "model_name": "LayoutModel",
          "model_module_version": "1.2.0",
          "state": {
            "_model_module": "@jupyter-widgets/base",
            "_model_module_version": "1.2.0",
            "_model_name": "LayoutModel",
            "_view_count": null,
            "_view_module": "@jupyter-widgets/base",
            "_view_module_version": "1.2.0",
            "_view_name": "LayoutView",
            "align_content": null,
            "align_items": null,
            "align_self": null,
            "border": null,
            "bottom": null,
            "display": null,
            "flex": null,
            "flex_flow": null,
            "grid_area": null,
            "grid_auto_columns": null,
            "grid_auto_flow": null,
            "grid_auto_rows": null,
            "grid_column": null,
            "grid_gap": null,
            "grid_row": null,
            "grid_template_areas": null,
            "grid_template_columns": null,
            "grid_template_rows": null,
            "height": null,
            "justify_content": null,
            "justify_items": null,
            "left": null,
            "margin": null,
            "max_height": null,
            "max_width": null,
            "min_height": null,
            "min_width": null,
            "object_fit": null,
            "object_position": null,
            "order": null,
            "overflow": null,
            "overflow_x": null,
            "overflow_y": null,
            "padding": null,
            "right": null,
            "top": null,
            "visibility": null,
            "width": null
          }
        },
        "7fcc98dfc5594c038c9ff4a1177e3887": {
          "model_module": "@jupyter-widgets/controls",
          "model_name": "ProgressStyleModel",
          "model_module_version": "1.5.0",
          "state": {
            "_model_module": "@jupyter-widgets/controls",
            "_model_module_version": "1.5.0",
            "_model_name": "ProgressStyleModel",
            "_view_count": null,
            "_view_module": "@jupyter-widgets/base",
            "_view_module_version": "1.2.0",
            "_view_name": "StyleView",
            "bar_color": null,
            "description_width": ""
          }
        },
        "ded9eedb026e4599b2c15dedfa0e0621": {
          "model_module": "@jupyter-widgets/base",
          "model_name": "LayoutModel",
          "model_module_version": "1.2.0",
          "state": {
            "_model_module": "@jupyter-widgets/base",
            "_model_module_version": "1.2.0",
            "_model_name": "LayoutModel",
            "_view_count": null,
            "_view_module": "@jupyter-widgets/base",
            "_view_module_version": "1.2.0",
            "_view_name": "LayoutView",
            "align_content": null,
            "align_items": null,
            "align_self": null,
            "border": null,
            "bottom": null,
            "display": null,
            "flex": null,
            "flex_flow": null,
            "grid_area": null,
            "grid_auto_columns": null,
            "grid_auto_flow": null,
            "grid_auto_rows": null,
            "grid_column": null,
            "grid_gap": null,
            "grid_row": null,
            "grid_template_areas": null,
            "grid_template_columns": null,
            "grid_template_rows": null,
            "height": null,
            "justify_content": null,
            "justify_items": null,
            "left": null,
            "margin": null,
            "max_height": null,
            "max_width": null,
            "min_height": null,
            "min_width": null,
            "object_fit": null,
            "object_position": null,
            "order": null,
            "overflow": null,
            "overflow_x": null,
            "overflow_y": null,
            "padding": null,
            "right": null,
            "top": null,
            "visibility": null,
            "width": null
          }
        },
        "fb1892654eaf49b695d6a6a4b17b91a4": {
          "model_module": "@jupyter-widgets/controls",
          "model_name": "DescriptionStyleModel",
          "model_module_version": "1.5.0",
          "state": {
            "_model_module": "@jupyter-widgets/controls",
            "_model_module_version": "1.5.0",
            "_model_name": "DescriptionStyleModel",
            "_view_count": null,
            "_view_module": "@jupyter-widgets/base",
            "_view_module_version": "1.2.0",
            "_view_name": "StyleView",
            "description_width": ""
          }
        },
        "76834fb7788e4d2c8619a71c3e49bd89": {
          "model_module": "@jupyter-widgets/controls",
          "model_name": "HBoxModel",
          "model_module_version": "1.5.0",
          "state": {
            "_dom_classes": [],
            "_model_module": "@jupyter-widgets/controls",
            "_model_module_version": "1.5.0",
            "_model_name": "HBoxModel",
            "_view_count": null,
            "_view_module": "@jupyter-widgets/controls",
            "_view_module_version": "1.5.0",
            "_view_name": "HBoxView",
            "box_style": "",
            "children": [
              "IPY_MODEL_a68f7e6d7aeb41d69fecf87585063026",
              "IPY_MODEL_b1c26b1618dd4b40a7a9637794f5ab5b",
              "IPY_MODEL_ecfd445d3fce41c9b3b2cf8e38feb528"
            ],
            "layout": "IPY_MODEL_4262eb1dc254431c8940f89131a95474"
          }
        },
        "a68f7e6d7aeb41d69fecf87585063026": {
          "model_module": "@jupyter-widgets/controls",
          "model_name": "HTMLModel",
          "model_module_version": "1.5.0",
          "state": {
            "_dom_classes": [],
            "_model_module": "@jupyter-widgets/controls",
            "_model_module_version": "1.5.0",
            "_model_name": "HTMLModel",
            "_view_count": null,
            "_view_module": "@jupyter-widgets/controls",
            "_view_module_version": "1.5.0",
            "_view_name": "HTMLView",
            "description": "",
            "description_tooltip": null,
            "layout": "IPY_MODEL_8e7f7a683e57455b8edfb58a74b9b304",
            "placeholder": "​",
            "style": "IPY_MODEL_d0bbcf615158453b99143877dec3eb51",
            "value": "special_tokens_map.json: 100%"
          }
        },
        "b1c26b1618dd4b40a7a9637794f5ab5b": {
          "model_module": "@jupyter-widgets/controls",
          "model_name": "FloatProgressModel",
          "model_module_version": "1.5.0",
          "state": {
            "_dom_classes": [],
            "_model_module": "@jupyter-widgets/controls",
            "_model_module_version": "1.5.0",
            "_model_name": "FloatProgressModel",
            "_view_count": null,
            "_view_module": "@jupyter-widgets/controls",
            "_view_module_version": "1.5.0",
            "_view_name": "ProgressView",
            "bar_style": "success",
            "description": "",
            "description_tooltip": null,
            "layout": "IPY_MODEL_8eb081ea8dc6413b833b186a6626bee0",
            "max": 99,
            "min": 0,
            "orientation": "horizontal",
            "style": "IPY_MODEL_88cc4b82c1b242c480c400988b3ed30d",
            "value": 99
          }
        },
        "ecfd445d3fce41c9b3b2cf8e38feb528": {
          "model_module": "@jupyter-widgets/controls",
          "model_name": "HTMLModel",
          "model_module_version": "1.5.0",
          "state": {
            "_dom_classes": [],
            "_model_module": "@jupyter-widgets/controls",
            "_model_module_version": "1.5.0",
            "_model_name": "HTMLModel",
            "_view_count": null,
            "_view_module": "@jupyter-widgets/controls",
            "_view_module_version": "1.5.0",
            "_view_name": "HTMLView",
            "description": "",
            "description_tooltip": null,
            "layout": "IPY_MODEL_f0ae98e420e44268883ddae58a1a6918",
            "placeholder": "​",
            "style": "IPY_MODEL_d585308d6bb64f8c8171af838506fe38",
            "value": " 99.0/99.0 [00:00&lt;00:00, 1.61kB/s]"
          }
        },
        "4262eb1dc254431c8940f89131a95474": {
          "model_module": "@jupyter-widgets/base",
          "model_name": "LayoutModel",
          "model_module_version": "1.2.0",
          "state": {
            "_model_module": "@jupyter-widgets/base",
            "_model_module_version": "1.2.0",
            "_model_name": "LayoutModel",
            "_view_count": null,
            "_view_module": "@jupyter-widgets/base",
            "_view_module_version": "1.2.0",
            "_view_name": "LayoutView",
            "align_content": null,
            "align_items": null,
            "align_self": null,
            "border": null,
            "bottom": null,
            "display": null,
            "flex": null,
            "flex_flow": null,
            "grid_area": null,
            "grid_auto_columns": null,
            "grid_auto_flow": null,
            "grid_auto_rows": null,
            "grid_column": null,
            "grid_gap": null,
            "grid_row": null,
            "grid_template_areas": null,
            "grid_template_columns": null,
            "grid_template_rows": null,
            "height": null,
            "justify_content": null,
            "justify_items": null,
            "left": null,
            "margin": null,
            "max_height": null,
            "max_width": null,
            "min_height": null,
            "min_width": null,
            "object_fit": null,
            "object_position": null,
            "order": null,
            "overflow": null,
            "overflow_x": null,
            "overflow_y": null,
            "padding": null,
            "right": null,
            "top": null,
            "visibility": null,
            "width": null
          }
        },
        "8e7f7a683e57455b8edfb58a74b9b304": {
          "model_module": "@jupyter-widgets/base",
          "model_name": "LayoutModel",
          "model_module_version": "1.2.0",
          "state": {
            "_model_module": "@jupyter-widgets/base",
            "_model_module_version": "1.2.0",
            "_model_name": "LayoutModel",
            "_view_count": null,
            "_view_module": "@jupyter-widgets/base",
            "_view_module_version": "1.2.0",
            "_view_name": "LayoutView",
            "align_content": null,
            "align_items": null,
            "align_self": null,
            "border": null,
            "bottom": null,
            "display": null,
            "flex": null,
            "flex_flow": null,
            "grid_area": null,
            "grid_auto_columns": null,
            "grid_auto_flow": null,
            "grid_auto_rows": null,
            "grid_column": null,
            "grid_gap": null,
            "grid_row": null,
            "grid_template_areas": null,
            "grid_template_columns": null,
            "grid_template_rows": null,
            "height": null,
            "justify_content": null,
            "justify_items": null,
            "left": null,
            "margin": null,
            "max_height": null,
            "max_width": null,
            "min_height": null,
            "min_width": null,
            "object_fit": null,
            "object_position": null,
            "order": null,
            "overflow": null,
            "overflow_x": null,
            "overflow_y": null,
            "padding": null,
            "right": null,
            "top": null,
            "visibility": null,
            "width": null
          }
        },
        "d0bbcf615158453b99143877dec3eb51": {
          "model_module": "@jupyter-widgets/controls",
          "model_name": "DescriptionStyleModel",
          "model_module_version": "1.5.0",
          "state": {
            "_model_module": "@jupyter-widgets/controls",
            "_model_module_version": "1.5.0",
            "_model_name": "DescriptionStyleModel",
            "_view_count": null,
            "_view_module": "@jupyter-widgets/base",
            "_view_module_version": "1.2.0",
            "_view_name": "StyleView",
            "description_width": ""
          }
        },
        "8eb081ea8dc6413b833b186a6626bee0": {
          "model_module": "@jupyter-widgets/base",
          "model_name": "LayoutModel",
          "model_module_version": "1.2.0",
          "state": {
            "_model_module": "@jupyter-widgets/base",
            "_model_module_version": "1.2.0",
            "_model_name": "LayoutModel",
            "_view_count": null,
            "_view_module": "@jupyter-widgets/base",
            "_view_module_version": "1.2.0",
            "_view_name": "LayoutView",
            "align_content": null,
            "align_items": null,
            "align_self": null,
            "border": null,
            "bottom": null,
            "display": null,
            "flex": null,
            "flex_flow": null,
            "grid_area": null,
            "grid_auto_columns": null,
            "grid_auto_flow": null,
            "grid_auto_rows": null,
            "grid_column": null,
            "grid_gap": null,
            "grid_row": null,
            "grid_template_areas": null,
            "grid_template_columns": null,
            "grid_template_rows": null,
            "height": null,
            "justify_content": null,
            "justify_items": null,
            "left": null,
            "margin": null,
            "max_height": null,
            "max_width": null,
            "min_height": null,
            "min_width": null,
            "object_fit": null,
            "object_position": null,
            "order": null,
            "overflow": null,
            "overflow_x": null,
            "overflow_y": null,
            "padding": null,
            "right": null,
            "top": null,
            "visibility": null,
            "width": null
          }
        },
        "88cc4b82c1b242c480c400988b3ed30d": {
          "model_module": "@jupyter-widgets/controls",
          "model_name": "ProgressStyleModel",
          "model_module_version": "1.5.0",
          "state": {
            "_model_module": "@jupyter-widgets/controls",
            "_model_module_version": "1.5.0",
            "_model_name": "ProgressStyleModel",
            "_view_count": null,
            "_view_module": "@jupyter-widgets/base",
            "_view_module_version": "1.2.0",
            "_view_name": "StyleView",
            "bar_color": null,
            "description_width": ""
          }
        },
        "f0ae98e420e44268883ddae58a1a6918": {
          "model_module": "@jupyter-widgets/base",
          "model_name": "LayoutModel",
          "model_module_version": "1.2.0",
          "state": {
            "_model_module": "@jupyter-widgets/base",
            "_model_module_version": "1.2.0",
            "_model_name": "LayoutModel",
            "_view_count": null,
            "_view_module": "@jupyter-widgets/base",
            "_view_module_version": "1.2.0",
            "_view_name": "LayoutView",
            "align_content": null,
            "align_items": null,
            "align_self": null,
            "border": null,
            "bottom": null,
            "display": null,
            "flex": null,
            "flex_flow": null,
            "grid_area": null,
            "grid_auto_columns": null,
            "grid_auto_flow": null,
            "grid_auto_rows": null,
            "grid_column": null,
            "grid_gap": null,
            "grid_row": null,
            "grid_template_areas": null,
            "grid_template_columns": null,
            "grid_template_rows": null,
            "height": null,
            "justify_content": null,
            "justify_items": null,
            "left": null,
            "margin": null,
            "max_height": null,
            "max_width": null,
            "min_height": null,
            "min_width": null,
            "object_fit": null,
            "object_position": null,
            "order": null,
            "overflow": null,
            "overflow_x": null,
            "overflow_y": null,
            "padding": null,
            "right": null,
            "top": null,
            "visibility": null,
            "width": null
          }
        },
        "d585308d6bb64f8c8171af838506fe38": {
          "model_module": "@jupyter-widgets/controls",
          "model_name": "DescriptionStyleModel",
          "model_module_version": "1.5.0",
          "state": {
            "_model_module": "@jupyter-widgets/controls",
            "_model_module_version": "1.5.0",
            "_model_name": "DescriptionStyleModel",
            "_view_count": null,
            "_view_module": "@jupyter-widgets/base",
            "_view_module_version": "1.2.0",
            "_view_name": "StyleView",
            "description_width": ""
          }
        },
        "c4402960083a47e6b495031380eeca9f": {
          "model_module": "@jupyter-widgets/controls",
          "model_name": "HBoxModel",
          "model_module_version": "1.5.0",
          "state": {
            "_dom_classes": [],
            "_model_module": "@jupyter-widgets/controls",
            "_model_module_version": "1.5.0",
            "_model_name": "HBoxModel",
            "_view_count": null,
            "_view_module": "@jupyter-widgets/controls",
            "_view_module_version": "1.5.0",
            "_view_name": "HBoxView",
            "box_style": "",
            "children": [
              "IPY_MODEL_502e63038ef544dc9e2862e9b951272c",
              "IPY_MODEL_56d082ccd8f84ad79c7523bf60a39ad1",
              "IPY_MODEL_9f21d74c3a4d4796aa1f7c40f165b3ef"
            ],
            "layout": "IPY_MODEL_7eae4f39410b4385b13c167d9bbb715e"
          }
        },
        "502e63038ef544dc9e2862e9b951272c": {
          "model_module": "@jupyter-widgets/controls",
          "model_name": "HTMLModel",
          "model_module_version": "1.5.0",
          "state": {
            "_dom_classes": [],
            "_model_module": "@jupyter-widgets/controls",
            "_model_module_version": "1.5.0",
            "_model_name": "HTMLModel",
            "_view_count": null,
            "_view_module": "@jupyter-widgets/controls",
            "_view_module_version": "1.5.0",
            "_view_name": "HTMLView",
            "description": "",
            "description_tooltip": null,
            "layout": "IPY_MODEL_5cf0a9ed2f61460781bcd9ac9ed738d2",
            "placeholder": "​",
            "style": "IPY_MODEL_c3c55ba1cd384fdc803ff3e71e6f8dee",
            "value": "tokenizer.json: 100%"
          }
        },
        "56d082ccd8f84ad79c7523bf60a39ad1": {
          "model_module": "@jupyter-widgets/controls",
          "model_name": "FloatProgressModel",
          "model_module_version": "1.5.0",
          "state": {
            "_dom_classes": [],
            "_model_module": "@jupyter-widgets/controls",
            "_model_module_version": "1.5.0",
            "_model_name": "FloatProgressModel",
            "_view_count": null,
            "_view_module": "@jupyter-widgets/controls",
            "_view_module_version": "1.5.0",
            "_view_name": "ProgressView",
            "bar_style": "success",
            "description": "",
            "description_tooltip": null,
            "layout": "IPY_MODEL_120d82940bd746b68fb32d79d8642d1c",
            "max": 2114924,
            "min": 0,
            "orientation": "horizontal",
            "style": "IPY_MODEL_40118636efbf419282fdc38cd79ad50f",
            "value": 2114924
          }
        },
        "9f21d74c3a4d4796aa1f7c40f165b3ef": {
          "model_module": "@jupyter-widgets/controls",
          "model_name": "HTMLModel",
          "model_module_version": "1.5.0",
          "state": {
            "_dom_classes": [],
            "_model_module": "@jupyter-widgets/controls",
            "_model_module_version": "1.5.0",
            "_model_name": "HTMLModel",
            "_view_count": null,
            "_view_module": "@jupyter-widgets/controls",
            "_view_module_version": "1.5.0",
            "_view_name": "HTMLView",
            "description": "",
            "description_tooltip": null,
            "layout": "IPY_MODEL_040f54b0bab741a2aef1b185ebf967a1",
            "placeholder": "​",
            "style": "IPY_MODEL_f8f3153308c74499936a6f78356d46f7",
            "value": " 2.11M/2.11M [00:00&lt;00:00, 2.92MB/s]"
          }
        },
        "7eae4f39410b4385b13c167d9bbb715e": {
          "model_module": "@jupyter-widgets/base",
          "model_name": "LayoutModel",
          "model_module_version": "1.2.0",
          "state": {
            "_model_module": "@jupyter-widgets/base",
            "_model_module_version": "1.2.0",
            "_model_name": "LayoutModel",
            "_view_count": null,
            "_view_module": "@jupyter-widgets/base",
            "_view_module_version": "1.2.0",
            "_view_name": "LayoutView",
            "align_content": null,
            "align_items": null,
            "align_self": null,
            "border": null,
            "bottom": null,
            "display": null,
            "flex": null,
            "flex_flow": null,
            "grid_area": null,
            "grid_auto_columns": null,
            "grid_auto_flow": null,
            "grid_auto_rows": null,
            "grid_column": null,
            "grid_gap": null,
            "grid_row": null,
            "grid_template_areas": null,
            "grid_template_columns": null,
            "grid_template_rows": null,
            "height": null,
            "justify_content": null,
            "justify_items": null,
            "left": null,
            "margin": null,
            "max_height": null,
            "max_width": null,
            "min_height": null,
            "min_width": null,
            "object_fit": null,
            "object_position": null,
            "order": null,
            "overflow": null,
            "overflow_x": null,
            "overflow_y": null,
            "padding": null,
            "right": null,
            "top": null,
            "visibility": null,
            "width": null
          }
        },
        "5cf0a9ed2f61460781bcd9ac9ed738d2": {
          "model_module": "@jupyter-widgets/base",
          "model_name": "LayoutModel",
          "model_module_version": "1.2.0",
          "state": {
            "_model_module": "@jupyter-widgets/base",
            "_model_module_version": "1.2.0",
            "_model_name": "LayoutModel",
            "_view_count": null,
            "_view_module": "@jupyter-widgets/base",
            "_view_module_version": "1.2.0",
            "_view_name": "LayoutView",
            "align_content": null,
            "align_items": null,
            "align_self": null,
            "border": null,
            "bottom": null,
            "display": null,
            "flex": null,
            "flex_flow": null,
            "grid_area": null,
            "grid_auto_columns": null,
            "grid_auto_flow": null,
            "grid_auto_rows": null,
            "grid_column": null,
            "grid_gap": null,
            "grid_row": null,
            "grid_template_areas": null,
            "grid_template_columns": null,
            "grid_template_rows": null,
            "height": null,
            "justify_content": null,
            "justify_items": null,
            "left": null,
            "margin": null,
            "max_height": null,
            "max_width": null,
            "min_height": null,
            "min_width": null,
            "object_fit": null,
            "object_position": null,
            "order": null,
            "overflow": null,
            "overflow_x": null,
            "overflow_y": null,
            "padding": null,
            "right": null,
            "top": null,
            "visibility": null,
            "width": null
          }
        },
        "c3c55ba1cd384fdc803ff3e71e6f8dee": {
          "model_module": "@jupyter-widgets/controls",
          "model_name": "DescriptionStyleModel",
          "model_module_version": "1.5.0",
          "state": {
            "_model_module": "@jupyter-widgets/controls",
            "_model_module_version": "1.5.0",
            "_model_name": "DescriptionStyleModel",
            "_view_count": null,
            "_view_module": "@jupyter-widgets/base",
            "_view_module_version": "1.2.0",
            "_view_name": "StyleView",
            "description_width": ""
          }
        },
        "120d82940bd746b68fb32d79d8642d1c": {
          "model_module": "@jupyter-widgets/base",
          "model_name": "LayoutModel",
          "model_module_version": "1.2.0",
          "state": {
            "_model_module": "@jupyter-widgets/base",
            "_model_module_version": "1.2.0",
            "_model_name": "LayoutModel",
            "_view_count": null,
            "_view_module": "@jupyter-widgets/base",
            "_view_module_version": "1.2.0",
            "_view_name": "LayoutView",
            "align_content": null,
            "align_items": null,
            "align_self": null,
            "border": null,
            "bottom": null,
            "display": null,
            "flex": null,
            "flex_flow": null,
            "grid_area": null,
            "grid_auto_columns": null,
            "grid_auto_flow": null,
            "grid_auto_rows": null,
            "grid_column": null,
            "grid_gap": null,
            "grid_row": null,
            "grid_template_areas": null,
            "grid_template_columns": null,
            "grid_template_rows": null,
            "height": null,
            "justify_content": null,
            "justify_items": null,
            "left": null,
            "margin": null,
            "max_height": null,
            "max_width": null,
            "min_height": null,
            "min_width": null,
            "object_fit": null,
            "object_position": null,
            "order": null,
            "overflow": null,
            "overflow_x": null,
            "overflow_y": null,
            "padding": null,
            "right": null,
            "top": null,
            "visibility": null,
            "width": null
          }
        },
        "40118636efbf419282fdc38cd79ad50f": {
          "model_module": "@jupyter-widgets/controls",
          "model_name": "ProgressStyleModel",
          "model_module_version": "1.5.0",
          "state": {
            "_model_module": "@jupyter-widgets/controls",
            "_model_module_version": "1.5.0",
            "_model_name": "ProgressStyleModel",
            "_view_count": null,
            "_view_module": "@jupyter-widgets/base",
            "_view_module_version": "1.2.0",
            "_view_name": "StyleView",
            "bar_color": null,
            "description_width": ""
          }
        },
        "040f54b0bab741a2aef1b185ebf967a1": {
          "model_module": "@jupyter-widgets/base",
          "model_name": "LayoutModel",
          "model_module_version": "1.2.0",
          "state": {
            "_model_module": "@jupyter-widgets/base",
            "_model_module_version": "1.2.0",
            "_model_name": "LayoutModel",
            "_view_count": null,
            "_view_module": "@jupyter-widgets/base",
            "_view_module_version": "1.2.0",
            "_view_name": "LayoutView",
            "align_content": null,
            "align_items": null,
            "align_self": null,
            "border": null,
            "bottom": null,
            "display": null,
            "flex": null,
            "flex_flow": null,
            "grid_area": null,
            "grid_auto_columns": null,
            "grid_auto_flow": null,
            "grid_auto_rows": null,
            "grid_column": null,
            "grid_gap": null,
            "grid_row": null,
            "grid_template_areas": null,
            "grid_template_columns": null,
            "grid_template_rows": null,
            "height": null,
            "justify_content": null,
            "justify_items": null,
            "left": null,
            "margin": null,
            "max_height": null,
            "max_width": null,
            "min_height": null,
            "min_width": null,
            "object_fit": null,
            "object_position": null,
            "order": null,
            "overflow": null,
            "overflow_x": null,
            "overflow_y": null,
            "padding": null,
            "right": null,
            "top": null,
            "visibility": null,
            "width": null
          }
        },
        "f8f3153308c74499936a6f78356d46f7": {
          "model_module": "@jupyter-widgets/controls",
          "model_name": "DescriptionStyleModel",
          "model_module_version": "1.5.0",
          "state": {
            "_model_module": "@jupyter-widgets/controls",
            "_model_module_version": "1.5.0",
            "_model_name": "DescriptionStyleModel",
            "_view_count": null,
            "_view_module": "@jupyter-widgets/base",
            "_view_module_version": "1.2.0",
            "_view_name": "StyleView",
            "description_width": ""
          }
        },
        "db6cb6b0fe77473ea0237ea41b5c47ad": {
          "model_module": "@jupyter-widgets/controls",
          "model_name": "HBoxModel",
          "model_module_version": "1.5.0",
          "state": {
            "_dom_classes": [],
            "_model_module": "@jupyter-widgets/controls",
            "_model_module_version": "1.5.0",
            "_model_name": "HBoxModel",
            "_view_count": null,
            "_view_module": "@jupyter-widgets/controls",
            "_view_module_version": "1.5.0",
            "_view_name": "HBoxView",
            "box_style": "",
            "children": [
              "IPY_MODEL_83699ff773194fbcaafa8dc29e5d5f5d",
              "IPY_MODEL_7c3b723311ef428298235a003f5feb25",
              "IPY_MODEL_ed0fa5fcb8d74492a6a2dbea1a1352ad"
            ],
            "layout": "IPY_MODEL_469bdb2d29914e93b67d3e63af9ba6a7"
          }
        },
        "83699ff773194fbcaafa8dc29e5d5f5d": {
          "model_module": "@jupyter-widgets/controls",
          "model_name": "HTMLModel",
          "model_module_version": "1.5.0",
          "state": {
            "_dom_classes": [],
            "_model_module": "@jupyter-widgets/controls",
            "_model_module_version": "1.5.0",
            "_model_name": "HTMLModel",
            "_view_count": null,
            "_view_module": "@jupyter-widgets/controls",
            "_view_module_version": "1.5.0",
            "_view_name": "HTMLView",
            "description": "",
            "description_tooltip": null,
            "layout": "IPY_MODEL_0d4e1d791d2b498dab3d01cdd09df66c",
            "placeholder": "​",
            "style": "IPY_MODEL_78de069401bf46d1baa50b16d4bc2bcc",
            "value": "Loading checkpoint shards: 100%"
          }
        },
        "7c3b723311ef428298235a003f5feb25": {
          "model_module": "@jupyter-widgets/controls",
          "model_name": "FloatProgressModel",
          "model_module_version": "1.5.0",
          "state": {
            "_dom_classes": [],
            "_model_module": "@jupyter-widgets/controls",
            "_model_module_version": "1.5.0",
            "_model_name": "FloatProgressModel",
            "_view_count": null,
            "_view_module": "@jupyter-widgets/controls",
            "_view_module_version": "1.5.0",
            "_view_name": "ProgressView",
            "bar_style": "success",
            "description": "",
            "description_tooltip": null,
            "layout": "IPY_MODEL_f3b01bbc02244b2d8fd8ed573c852b2d",
            "max": 2,
            "min": 0,
            "orientation": "horizontal",
            "style": "IPY_MODEL_0483e70095e04ab5913be568daec6001",
            "value": 2
          }
        },
        "ed0fa5fcb8d74492a6a2dbea1a1352ad": {
          "model_module": "@jupyter-widgets/controls",
          "model_name": "HTMLModel",
          "model_module_version": "1.5.0",
          "state": {
            "_dom_classes": [],
            "_model_module": "@jupyter-widgets/controls",
            "_model_module_version": "1.5.0",
            "_model_name": "HTMLModel",
            "_view_count": null,
            "_view_module": "@jupyter-widgets/controls",
            "_view_module_version": "1.5.0",
            "_view_name": "HTMLView",
            "description": "",
            "description_tooltip": null,
            "layout": "IPY_MODEL_f74c979956f546589eba2615b4ffc503",
            "placeholder": "​",
            "style": "IPY_MODEL_a84fd072d16441308481acbfdb932b12",
            "value": " 2/2 [00:33&lt;00:00, 14.20s/it]"
          }
        },
        "469bdb2d29914e93b67d3e63af9ba6a7": {
          "model_module": "@jupyter-widgets/base",
          "model_name": "LayoutModel",
          "model_module_version": "1.2.0",
          "state": {
            "_model_module": "@jupyter-widgets/base",
            "_model_module_version": "1.2.0",
            "_model_name": "LayoutModel",
            "_view_count": null,
            "_view_module": "@jupyter-widgets/base",
            "_view_module_version": "1.2.0",
            "_view_name": "LayoutView",
            "align_content": null,
            "align_items": null,
            "align_self": null,
            "border": null,
            "bottom": null,
            "display": null,
            "flex": null,
            "flex_flow": null,
            "grid_area": null,
            "grid_auto_columns": null,
            "grid_auto_flow": null,
            "grid_auto_rows": null,
            "grid_column": null,
            "grid_gap": null,
            "grid_row": null,
            "grid_template_areas": null,
            "grid_template_columns": null,
            "grid_template_rows": null,
            "height": null,
            "justify_content": null,
            "justify_items": null,
            "left": null,
            "margin": null,
            "max_height": null,
            "max_width": null,
            "min_height": null,
            "min_width": null,
            "object_fit": null,
            "object_position": null,
            "order": null,
            "overflow": null,
            "overflow_x": null,
            "overflow_y": null,
            "padding": null,
            "right": null,
            "top": null,
            "visibility": null,
            "width": null
          }
        },
        "0d4e1d791d2b498dab3d01cdd09df66c": {
          "model_module": "@jupyter-widgets/base",
          "model_name": "LayoutModel",
          "model_module_version": "1.2.0",
          "state": {
            "_model_module": "@jupyter-widgets/base",
            "_model_module_version": "1.2.0",
            "_model_name": "LayoutModel",
            "_view_count": null,
            "_view_module": "@jupyter-widgets/base",
            "_view_module_version": "1.2.0",
            "_view_name": "LayoutView",
            "align_content": null,
            "align_items": null,
            "align_self": null,
            "border": null,
            "bottom": null,
            "display": null,
            "flex": null,
            "flex_flow": null,
            "grid_area": null,
            "grid_auto_columns": null,
            "grid_auto_flow": null,
            "grid_auto_rows": null,
            "grid_column": null,
            "grid_gap": null,
            "grid_row": null,
            "grid_template_areas": null,
            "grid_template_columns": null,
            "grid_template_rows": null,
            "height": null,
            "justify_content": null,
            "justify_items": null,
            "left": null,
            "margin": null,
            "max_height": null,
            "max_width": null,
            "min_height": null,
            "min_width": null,
            "object_fit": null,
            "object_position": null,
            "order": null,
            "overflow": null,
            "overflow_x": null,
            "overflow_y": null,
            "padding": null,
            "right": null,
            "top": null,
            "visibility": null,
            "width": null
          }
        },
        "78de069401bf46d1baa50b16d4bc2bcc": {
          "model_module": "@jupyter-widgets/controls",
          "model_name": "DescriptionStyleModel",
          "model_module_version": "1.5.0",
          "state": {
            "_model_module": "@jupyter-widgets/controls",
            "_model_module_version": "1.5.0",
            "_model_name": "DescriptionStyleModel",
            "_view_count": null,
            "_view_module": "@jupyter-widgets/base",
            "_view_module_version": "1.2.0",
            "_view_name": "StyleView",
            "description_width": ""
          }
        },
        "f3b01bbc02244b2d8fd8ed573c852b2d": {
          "model_module": "@jupyter-widgets/base",
          "model_name": "LayoutModel",
          "model_module_version": "1.2.0",
          "state": {
            "_model_module": "@jupyter-widgets/base",
            "_model_module_version": "1.2.0",
            "_model_name": "LayoutModel",
            "_view_count": null,
            "_view_module": "@jupyter-widgets/base",
            "_view_module_version": "1.2.0",
            "_view_name": "LayoutView",
            "align_content": null,
            "align_items": null,
            "align_self": null,
            "border": null,
            "bottom": null,
            "display": null,
            "flex": null,
            "flex_flow": null,
            "grid_area": null,
            "grid_auto_columns": null,
            "grid_auto_flow": null,
            "grid_auto_rows": null,
            "grid_column": null,
            "grid_gap": null,
            "grid_row": null,
            "grid_template_areas": null,
            "grid_template_columns": null,
            "grid_template_rows": null,
            "height": null,
            "justify_content": null,
            "justify_items": null,
            "left": null,
            "margin": null,
            "max_height": null,
            "max_width": null,
            "min_height": null,
            "min_width": null,
            "object_fit": null,
            "object_position": null,
            "order": null,
            "overflow": null,
            "overflow_x": null,
            "overflow_y": null,
            "padding": null,
            "right": null,
            "top": null,
            "visibility": null,
            "width": null
          }
        },
        "0483e70095e04ab5913be568daec6001": {
          "model_module": "@jupyter-widgets/controls",
          "model_name": "ProgressStyleModel",
          "model_module_version": "1.5.0",
          "state": {
            "_model_module": "@jupyter-widgets/controls",
            "_model_module_version": "1.5.0",
            "_model_name": "ProgressStyleModel",
            "_view_count": null,
            "_view_module": "@jupyter-widgets/base",
            "_view_module_version": "1.2.0",
            "_view_name": "StyleView",
            "bar_color": null,
            "description_width": ""
          }
        },
        "f74c979956f546589eba2615b4ffc503": {
          "model_module": "@jupyter-widgets/base",
          "model_name": "LayoutModel",
          "model_module_version": "1.2.0",
          "state": {
            "_model_module": "@jupyter-widgets/base",
            "_model_module_version": "1.2.0",
            "_model_name": "LayoutModel",
            "_view_count": null,
            "_view_module": "@jupyter-widgets/base",
            "_view_module_version": "1.2.0",
            "_view_name": "LayoutView",
            "align_content": null,
            "align_items": null,
            "align_self": null,
            "border": null,
            "bottom": null,
            "display": null,
            "flex": null,
            "flex_flow": null,
            "grid_area": null,
            "grid_auto_columns": null,
            "grid_auto_flow": null,
            "grid_auto_rows": null,
            "grid_column": null,
            "grid_gap": null,
            "grid_row": null,
            "grid_template_areas": null,
            "grid_template_columns": null,
            "grid_template_rows": null,
            "height": null,
            "justify_content": null,
            "justify_items": null,
            "left": null,
            "margin": null,
            "max_height": null,
            "max_width": null,
            "min_height": null,
            "min_width": null,
            "object_fit": null,
            "object_position": null,
            "order": null,
            "overflow": null,
            "overflow_x": null,
            "overflow_y": null,
            "padding": null,
            "right": null,
            "top": null,
            "visibility": null,
            "width": null
          }
        },
        "a84fd072d16441308481acbfdb932b12": {
          "model_module": "@jupyter-widgets/controls",
          "model_name": "DescriptionStyleModel",
          "model_module_version": "1.5.0",
          "state": {
            "_model_module": "@jupyter-widgets/controls",
            "_model_module_version": "1.5.0",
            "_model_name": "DescriptionStyleModel",
            "_view_count": null,
            "_view_module": "@jupyter-widgets/base",
            "_view_module_version": "1.2.0",
            "_view_name": "StyleView",
            "description_width": ""
          }
        },
        "b674767459b7429c84973a4282617d0d": {
          "model_module": "@jupyter-widgets/controls",
          "model_name": "HBoxModel",
          "model_module_version": "1.5.0",
          "state": {
            "_dom_classes": [],
            "_model_module": "@jupyter-widgets/controls",
            "_model_module_version": "1.5.0",
            "_model_name": "HBoxModel",
            "_view_count": null,
            "_view_module": "@jupyter-widgets/controls",
            "_view_module_version": "1.5.0",
            "_view_name": "HBoxView",
            "box_style": "",
            "children": [
              "IPY_MODEL_14cdff0d76f14d69b8f3b2a19bc355ab",
              "IPY_MODEL_6ff32fdcbfaa4a0eb006a6bad80c0003",
              "IPY_MODEL_ad42e3fb83254bac87e4270da2e036a7"
            ],
            "layout": "IPY_MODEL_68ce93a630b8425e9cc5bdfddc7c738f"
          }
        },
        "14cdff0d76f14d69b8f3b2a19bc355ab": {
          "model_module": "@jupyter-widgets/controls",
          "model_name": "HTMLModel",
          "model_module_version": "1.5.0",
          "state": {
            "_dom_classes": [],
            "_model_module": "@jupyter-widgets/controls",
            "_model_module_version": "1.5.0",
            "_model_name": "HTMLModel",
            "_view_count": null,
            "_view_module": "@jupyter-widgets/controls",
            "_view_module_version": "1.5.0",
            "_view_name": "HTMLView",
            "description": "",
            "description_tooltip": null,
            "layout": "IPY_MODEL_f8b4775ed2d9481381a8e839ebe70805",
            "placeholder": "​",
            "style": "IPY_MODEL_7023487e77f24d32906e938864324357",
            "value": "Downloading readme: 100%"
          }
        },
        "6ff32fdcbfaa4a0eb006a6bad80c0003": {
          "model_module": "@jupyter-widgets/controls",
          "model_name": "FloatProgressModel",
          "model_module_version": "1.5.0",
          "state": {
            "_dom_classes": [],
            "_model_module": "@jupyter-widgets/controls",
            "_model_module_version": "1.5.0",
            "_model_name": "FloatProgressModel",
            "_view_count": null,
            "_view_module": "@jupyter-widgets/controls",
            "_view_module_version": "1.5.0",
            "_view_name": "ProgressView",
            "bar_style": "success",
            "description": "",
            "description_tooltip": null,
            "layout": "IPY_MODEL_7884a60c3c584eb8a8795246f9a941a8",
            "max": 1570,
            "min": 0,
            "orientation": "horizontal",
            "style": "IPY_MODEL_9c82564d98a046e5bceef88db9aee1d5",
            "value": 1570
          }
        },
        "ad42e3fb83254bac87e4270da2e036a7": {
          "model_module": "@jupyter-widgets/controls",
          "model_name": "HTMLModel",
          "model_module_version": "1.5.0",
          "state": {
            "_dom_classes": [],
            "_model_module": "@jupyter-widgets/controls",
            "_model_module_version": "1.5.0",
            "_model_name": "HTMLModel",
            "_view_count": null,
            "_view_module": "@jupyter-widgets/controls",
            "_view_module_version": "1.5.0",
            "_view_name": "HTMLView",
            "description": "",
            "description_tooltip": null,
            "layout": "IPY_MODEL_15399ffab5ea4d30aa1a552059610d24",
            "placeholder": "​",
            "style": "IPY_MODEL_86aae9ce66f047b88705b0643238d190",
            "value": " 1.57k/1.57k [00:00&lt;00:00, 72.2kB/s]"
          }
        },
        "68ce93a630b8425e9cc5bdfddc7c738f": {
          "model_module": "@jupyter-widgets/base",
          "model_name": "LayoutModel",
          "model_module_version": "1.2.0",
          "state": {
            "_model_module": "@jupyter-widgets/base",
            "_model_module_version": "1.2.0",
            "_model_name": "LayoutModel",
            "_view_count": null,
            "_view_module": "@jupyter-widgets/base",
            "_view_module_version": "1.2.0",
            "_view_name": "LayoutView",
            "align_content": null,
            "align_items": null,
            "align_self": null,
            "border": null,
            "bottom": null,
            "display": null,
            "flex": null,
            "flex_flow": null,
            "grid_area": null,
            "grid_auto_columns": null,
            "grid_auto_flow": null,
            "grid_auto_rows": null,
            "grid_column": null,
            "grid_gap": null,
            "grid_row": null,
            "grid_template_areas": null,
            "grid_template_columns": null,
            "grid_template_rows": null,
            "height": null,
            "justify_content": null,
            "justify_items": null,
            "left": null,
            "margin": null,
            "max_height": null,
            "max_width": null,
            "min_height": null,
            "min_width": null,
            "object_fit": null,
            "object_position": null,
            "order": null,
            "overflow": null,
            "overflow_x": null,
            "overflow_y": null,
            "padding": null,
            "right": null,
            "top": null,
            "visibility": null,
            "width": null
          }
        },
        "f8b4775ed2d9481381a8e839ebe70805": {
          "model_module": "@jupyter-widgets/base",
          "model_name": "LayoutModel",
          "model_module_version": "1.2.0",
          "state": {
            "_model_module": "@jupyter-widgets/base",
            "_model_module_version": "1.2.0",
            "_model_name": "LayoutModel",
            "_view_count": null,
            "_view_module": "@jupyter-widgets/base",
            "_view_module_version": "1.2.0",
            "_view_name": "LayoutView",
            "align_content": null,
            "align_items": null,
            "align_self": null,
            "border": null,
            "bottom": null,
            "display": null,
            "flex": null,
            "flex_flow": null,
            "grid_area": null,
            "grid_auto_columns": null,
            "grid_auto_flow": null,
            "grid_auto_rows": null,
            "grid_column": null,
            "grid_gap": null,
            "grid_row": null,
            "grid_template_areas": null,
            "grid_template_columns": null,
            "grid_template_rows": null,
            "height": null,
            "justify_content": null,
            "justify_items": null,
            "left": null,
            "margin": null,
            "max_height": null,
            "max_width": null,
            "min_height": null,
            "min_width": null,
            "object_fit": null,
            "object_position": null,
            "order": null,
            "overflow": null,
            "overflow_x": null,
            "overflow_y": null,
            "padding": null,
            "right": null,
            "top": null,
            "visibility": null,
            "width": null
          }
        },
        "7023487e77f24d32906e938864324357": {
          "model_module": "@jupyter-widgets/controls",
          "model_name": "DescriptionStyleModel",
          "model_module_version": "1.5.0",
          "state": {
            "_model_module": "@jupyter-widgets/controls",
            "_model_module_version": "1.5.0",
            "_model_name": "DescriptionStyleModel",
            "_view_count": null,
            "_view_module": "@jupyter-widgets/base",
            "_view_module_version": "1.2.0",
            "_view_name": "StyleView",
            "description_width": ""
          }
        },
        "7884a60c3c584eb8a8795246f9a941a8": {
          "model_module": "@jupyter-widgets/base",
          "model_name": "LayoutModel",
          "model_module_version": "1.2.0",
          "state": {
            "_model_module": "@jupyter-widgets/base",
            "_model_module_version": "1.2.0",
            "_model_name": "LayoutModel",
            "_view_count": null,
            "_view_module": "@jupyter-widgets/base",
            "_view_module_version": "1.2.0",
            "_view_name": "LayoutView",
            "align_content": null,
            "align_items": null,
            "align_self": null,
            "border": null,
            "bottom": null,
            "display": null,
            "flex": null,
            "flex_flow": null,
            "grid_area": null,
            "grid_auto_columns": null,
            "grid_auto_flow": null,
            "grid_auto_rows": null,
            "grid_column": null,
            "grid_gap": null,
            "grid_row": null,
            "grid_template_areas": null,
            "grid_template_columns": null,
            "grid_template_rows": null,
            "height": null,
            "justify_content": null,
            "justify_items": null,
            "left": null,
            "margin": null,
            "max_height": null,
            "max_width": null,
            "min_height": null,
            "min_width": null,
            "object_fit": null,
            "object_position": null,
            "order": null,
            "overflow": null,
            "overflow_x": null,
            "overflow_y": null,
            "padding": null,
            "right": null,
            "top": null,
            "visibility": null,
            "width": null
          }
        },
        "9c82564d98a046e5bceef88db9aee1d5": {
          "model_module": "@jupyter-widgets/controls",
          "model_name": "ProgressStyleModel",
          "model_module_version": "1.5.0",
          "state": {
            "_model_module": "@jupyter-widgets/controls",
            "_model_module_version": "1.5.0",
            "_model_name": "ProgressStyleModel",
            "_view_count": null,
            "_view_module": "@jupyter-widgets/base",
            "_view_module_version": "1.2.0",
            "_view_name": "StyleView",
            "bar_color": null,
            "description_width": ""
          }
        },
        "15399ffab5ea4d30aa1a552059610d24": {
          "model_module": "@jupyter-widgets/base",
          "model_name": "LayoutModel",
          "model_module_version": "1.2.0",
          "state": {
            "_model_module": "@jupyter-widgets/base",
            "_model_module_version": "1.2.0",
            "_model_name": "LayoutModel",
            "_view_count": null,
            "_view_module": "@jupyter-widgets/base",
            "_view_module_version": "1.2.0",
            "_view_name": "LayoutView",
            "align_content": null,
            "align_items": null,
            "align_self": null,
            "border": null,
            "bottom": null,
            "display": null,
            "flex": null,
            "flex_flow": null,
            "grid_area": null,
            "grid_auto_columns": null,
            "grid_auto_flow": null,
            "grid_auto_rows": null,
            "grid_column": null,
            "grid_gap": null,
            "grid_row": null,
            "grid_template_areas": null,
            "grid_template_columns": null,
            "grid_template_rows": null,
            "height": null,
            "justify_content": null,
            "justify_items": null,
            "left": null,
            "margin": null,
            "max_height": null,
            "max_width": null,
            "min_height": null,
            "min_width": null,
            "object_fit": null,
            "object_position": null,
            "order": null,
            "overflow": null,
            "overflow_x": null,
            "overflow_y": null,
            "padding": null,
            "right": null,
            "top": null,
            "visibility": null,
            "width": null
          }
        },
        "86aae9ce66f047b88705b0643238d190": {
          "model_module": "@jupyter-widgets/controls",
          "model_name": "DescriptionStyleModel",
          "model_module_version": "1.5.0",
          "state": {
            "_model_module": "@jupyter-widgets/controls",
            "_model_module_version": "1.5.0",
            "_model_name": "DescriptionStyleModel",
            "_view_count": null,
            "_view_module": "@jupyter-widgets/base",
            "_view_module_version": "1.2.0",
            "_view_name": "StyleView",
            "description_width": ""
          }
        },
        "eacb247f3378445da2578754bd36076d": {
          "model_module": "@jupyter-widgets/controls",
          "model_name": "HBoxModel",
          "model_module_version": "1.5.0",
          "state": {
            "_dom_classes": [],
            "_model_module": "@jupyter-widgets/controls",
            "_model_module_version": "1.5.0",
            "_model_name": "HBoxModel",
            "_view_count": null,
            "_view_module": "@jupyter-widgets/controls",
            "_view_module_version": "1.5.0",
            "_view_name": "HBoxView",
            "box_style": "",
            "children": [
              "IPY_MODEL_3a8932ac3f0e4c0d8f1a51cad236ecd1",
              "IPY_MODEL_ada66a759b5641179c0d1a717b895958",
              "IPY_MODEL_2ed4541e0cfc463381826326cbbccc0f"
            ],
            "layout": "IPY_MODEL_c2046a7f227846588dc8b3c425afefe0"
          }
        },
        "3a8932ac3f0e4c0d8f1a51cad236ecd1": {
          "model_module": "@jupyter-widgets/controls",
          "model_name": "HTMLModel",
          "model_module_version": "1.5.0",
          "state": {
            "_dom_classes": [],
            "_model_module": "@jupyter-widgets/controls",
            "_model_module_version": "1.5.0",
            "_model_name": "HTMLModel",
            "_view_count": null,
            "_view_module": "@jupyter-widgets/controls",
            "_view_module_version": "1.5.0",
            "_view_name": "HTMLView",
            "description": "",
            "description_tooltip": null,
            "layout": "IPY_MODEL_b86d89c0ddca4ba1a089582289dd3643",
            "placeholder": "​",
            "style": "IPY_MODEL_c835e08ee51a4883bac6e75ccf558941",
            "value": "Downloading data: 100%"
          }
        },
        "ada66a759b5641179c0d1a717b895958": {
          "model_module": "@jupyter-widgets/controls",
          "model_name": "FloatProgressModel",
          "model_module_version": "1.5.0",
          "state": {
            "_dom_classes": [],
            "_model_module": "@jupyter-widgets/controls",
            "_model_module_version": "1.5.0",
            "_model_name": "FloatProgressModel",
            "_view_count": null,
            "_view_module": "@jupyter-widgets/controls",
            "_view_module_version": "1.5.0",
            "_view_name": "ProgressView",
            "bar_style": "success",
            "description": "",
            "description_tooltip": null,
            "layout": "IPY_MODEL_4eab65a856b148fdbe767eb778e0e997",
            "max": 1476511,
            "min": 0,
            "orientation": "horizontal",
            "style": "IPY_MODEL_3bf1cdcf6c4e4f8681be4811c07fd9d8",
            "value": 1476511
          }
        },
        "2ed4541e0cfc463381826326cbbccc0f": {
          "model_module": "@jupyter-widgets/controls",
          "model_name": "HTMLModel",
          "model_module_version": "1.5.0",
          "state": {
            "_dom_classes": [],
            "_model_module": "@jupyter-widgets/controls",
            "_model_module_version": "1.5.0",
            "_model_name": "HTMLModel",
            "_view_count": null,
            "_view_module": "@jupyter-widgets/controls",
            "_view_module_version": "1.5.0",
            "_view_name": "HTMLView",
            "description": "",
            "description_tooltip": null,
            "layout": "IPY_MODEL_c2bbbf675d1c4ad7a7c47f66302ebae5",
            "placeholder": "​",
            "style": "IPY_MODEL_ee9f3aea34994544a3979b8b587e4655",
            "value": " 1.48M/1.48M [00:00&lt;00:00, 1.80MB/s]"
          }
        },
        "c2046a7f227846588dc8b3c425afefe0": {
          "model_module": "@jupyter-widgets/base",
          "model_name": "LayoutModel",
          "model_module_version": "1.2.0",
          "state": {
            "_model_module": "@jupyter-widgets/base",
            "_model_module_version": "1.2.0",
            "_model_name": "LayoutModel",
            "_view_count": null,
            "_view_module": "@jupyter-widgets/base",
            "_view_module_version": "1.2.0",
            "_view_name": "LayoutView",
            "align_content": null,
            "align_items": null,
            "align_self": null,
            "border": null,
            "bottom": null,
            "display": null,
            "flex": null,
            "flex_flow": null,
            "grid_area": null,
            "grid_auto_columns": null,
            "grid_auto_flow": null,
            "grid_auto_rows": null,
            "grid_column": null,
            "grid_gap": null,
            "grid_row": null,
            "grid_template_areas": null,
            "grid_template_columns": null,
            "grid_template_rows": null,
            "height": null,
            "justify_content": null,
            "justify_items": null,
            "left": null,
            "margin": null,
            "max_height": null,
            "max_width": null,
            "min_height": null,
            "min_width": null,
            "object_fit": null,
            "object_position": null,
            "order": null,
            "overflow": null,
            "overflow_x": null,
            "overflow_y": null,
            "padding": null,
            "right": null,
            "top": null,
            "visibility": null,
            "width": null
          }
        },
        "b86d89c0ddca4ba1a089582289dd3643": {
          "model_module": "@jupyter-widgets/base",
          "model_name": "LayoutModel",
          "model_module_version": "1.2.0",
          "state": {
            "_model_module": "@jupyter-widgets/base",
            "_model_module_version": "1.2.0",
            "_model_name": "LayoutModel",
            "_view_count": null,
            "_view_module": "@jupyter-widgets/base",
            "_view_module_version": "1.2.0",
            "_view_name": "LayoutView",
            "align_content": null,
            "align_items": null,
            "align_self": null,
            "border": null,
            "bottom": null,
            "display": null,
            "flex": null,
            "flex_flow": null,
            "grid_area": null,
            "grid_auto_columns": null,
            "grid_auto_flow": null,
            "grid_auto_rows": null,
            "grid_column": null,
            "grid_gap": null,
            "grid_row": null,
            "grid_template_areas": null,
            "grid_template_columns": null,
            "grid_template_rows": null,
            "height": null,
            "justify_content": null,
            "justify_items": null,
            "left": null,
            "margin": null,
            "max_height": null,
            "max_width": null,
            "min_height": null,
            "min_width": null,
            "object_fit": null,
            "object_position": null,
            "order": null,
            "overflow": null,
            "overflow_x": null,
            "overflow_y": null,
            "padding": null,
            "right": null,
            "top": null,
            "visibility": null,
            "width": null
          }
        },
        "c835e08ee51a4883bac6e75ccf558941": {
          "model_module": "@jupyter-widgets/controls",
          "model_name": "DescriptionStyleModel",
          "model_module_version": "1.5.0",
          "state": {
            "_model_module": "@jupyter-widgets/controls",
            "_model_module_version": "1.5.0",
            "_model_name": "DescriptionStyleModel",
            "_view_count": null,
            "_view_module": "@jupyter-widgets/base",
            "_view_module_version": "1.2.0",
            "_view_name": "StyleView",
            "description_width": ""
          }
        },
        "4eab65a856b148fdbe767eb778e0e997": {
          "model_module": "@jupyter-widgets/base",
          "model_name": "LayoutModel",
          "model_module_version": "1.2.0",
          "state": {
            "_model_module": "@jupyter-widgets/base",
            "_model_module_version": "1.2.0",
            "_model_name": "LayoutModel",
            "_view_count": null,
            "_view_module": "@jupyter-widgets/base",
            "_view_module_version": "1.2.0",
            "_view_name": "LayoutView",
            "align_content": null,
            "align_items": null,
            "align_self": null,
            "border": null,
            "bottom": null,
            "display": null,
            "flex": null,
            "flex_flow": null,
            "grid_area": null,
            "grid_auto_columns": null,
            "grid_auto_flow": null,
            "grid_auto_rows": null,
            "grid_column": null,
            "grid_gap": null,
            "grid_row": null,
            "grid_template_areas": null,
            "grid_template_columns": null,
            "grid_template_rows": null,
            "height": null,
            "justify_content": null,
            "justify_items": null,
            "left": null,
            "margin": null,
            "max_height": null,
            "max_width": null,
            "min_height": null,
            "min_width": null,
            "object_fit": null,
            "object_position": null,
            "order": null,
            "overflow": null,
            "overflow_x": null,
            "overflow_y": null,
            "padding": null,
            "right": null,
            "top": null,
            "visibility": null,
            "width": null
          }
        },
        "3bf1cdcf6c4e4f8681be4811c07fd9d8": {
          "model_module": "@jupyter-widgets/controls",
          "model_name": "ProgressStyleModel",
          "model_module_version": "1.5.0",
          "state": {
            "_model_module": "@jupyter-widgets/controls",
            "_model_module_version": "1.5.0",
            "_model_name": "ProgressStyleModel",
            "_view_count": null,
            "_view_module": "@jupyter-widgets/base",
            "_view_module_version": "1.2.0",
            "_view_name": "StyleView",
            "bar_color": null,
            "description_width": ""
          }
        },
        "c2bbbf675d1c4ad7a7c47f66302ebae5": {
          "model_module": "@jupyter-widgets/base",
          "model_name": "LayoutModel",
          "model_module_version": "1.2.0",
          "state": {
            "_model_module": "@jupyter-widgets/base",
            "_model_module_version": "1.2.0",
            "_model_name": "LayoutModel",
            "_view_count": null,
            "_view_module": "@jupyter-widgets/base",
            "_view_module_version": "1.2.0",
            "_view_name": "LayoutView",
            "align_content": null,
            "align_items": null,
            "align_self": null,
            "border": null,
            "bottom": null,
            "display": null,
            "flex": null,
            "flex_flow": null,
            "grid_area": null,
            "grid_auto_columns": null,
            "grid_auto_flow": null,
            "grid_auto_rows": null,
            "grid_column": null,
            "grid_gap": null,
            "grid_row": null,
            "grid_template_areas": null,
            "grid_template_columns": null,
            "grid_template_rows": null,
            "height": null,
            "justify_content": null,
            "justify_items": null,
            "left": null,
            "margin": null,
            "max_height": null,
            "max_width": null,
            "min_height": null,
            "min_width": null,
            "object_fit": null,
            "object_position": null,
            "order": null,
            "overflow": null,
            "overflow_x": null,
            "overflow_y": null,
            "padding": null,
            "right": null,
            "top": null,
            "visibility": null,
            "width": null
          }
        },
        "ee9f3aea34994544a3979b8b587e4655": {
          "model_module": "@jupyter-widgets/controls",
          "model_name": "DescriptionStyleModel",
          "model_module_version": "1.5.0",
          "state": {
            "_model_module": "@jupyter-widgets/controls",
            "_model_module_version": "1.5.0",
            "_model_name": "DescriptionStyleModel",
            "_view_count": null,
            "_view_module": "@jupyter-widgets/base",
            "_view_module_version": "1.2.0",
            "_view_name": "StyleView",
            "description_width": ""
          }
        },
        "9ea1278f131f450aaa00aa38eb01c932": {
          "model_module": "@jupyter-widgets/controls",
          "model_name": "HBoxModel",
          "model_module_version": "1.5.0",
          "state": {
            "_dom_classes": [],
            "_model_module": "@jupyter-widgets/controls",
            "_model_module_version": "1.5.0",
            "_model_name": "HBoxModel",
            "_view_count": null,
            "_view_module": "@jupyter-widgets/controls",
            "_view_module_version": "1.5.0",
            "_view_name": "HBoxView",
            "box_style": "",
            "children": [
              "IPY_MODEL_319ab16ca7524546b391021da5ab43d6",
              "IPY_MODEL_77fbb4c001a540ebbebc4abce2aee165",
              "IPY_MODEL_1b2586d6554d465cabc16b9109f30125"
            ],
            "layout": "IPY_MODEL_659390c80d204f438b05dad68a49f053"
          }
        },
        "319ab16ca7524546b391021da5ab43d6": {
          "model_module": "@jupyter-widgets/controls",
          "model_name": "HTMLModel",
          "model_module_version": "1.5.0",
          "state": {
            "_dom_classes": [],
            "_model_module": "@jupyter-widgets/controls",
            "_model_module_version": "1.5.0",
            "_model_name": "HTMLModel",
            "_view_count": null,
            "_view_module": "@jupyter-widgets/controls",
            "_view_module_version": "1.5.0",
            "_view_name": "HTMLView",
            "description": "",
            "description_tooltip": null,
            "layout": "IPY_MODEL_dec457f3e55c4fc386489fbee474f68c",
            "placeholder": "​",
            "style": "IPY_MODEL_e92a4576ccbf4ddd82d0fa379e5a0b9b",
            "value": "Downloading data: 100%"
          }
        },
        "77fbb4c001a540ebbebc4abce2aee165": {
          "model_module": "@jupyter-widgets/controls",
          "model_name": "FloatProgressModel",
          "model_module_version": "1.5.0",
          "state": {
            "_dom_classes": [],
            "_model_module": "@jupyter-widgets/controls",
            "_model_module_version": "1.5.0",
            "_model_name": "FloatProgressModel",
            "_view_count": null,
            "_view_module": "@jupyter-widgets/controls",
            "_view_module_version": "1.5.0",
            "_view_name": "ProgressView",
            "bar_style": "success",
            "description": "",
            "description_tooltip": null,
            "layout": "IPY_MODEL_0f660dd22568457f9d80333943a51dbd",
            "max": 95692,
            "min": 0,
            "orientation": "horizontal",
            "style": "IPY_MODEL_9c27b2c02aee4ca38caac2a9fafcc691",
            "value": 95692
          }
        },
        "1b2586d6554d465cabc16b9109f30125": {
          "model_module": "@jupyter-widgets/controls",
          "model_name": "HTMLModel",
          "model_module_version": "1.5.0",
          "state": {
            "_dom_classes": [],
            "_model_module": "@jupyter-widgets/controls",
            "_model_module_version": "1.5.0",
            "_model_name": "HTMLModel",
            "_view_count": null,
            "_view_module": "@jupyter-widgets/controls",
            "_view_module_version": "1.5.0",
            "_view_name": "HTMLView",
            "description": "",
            "description_tooltip": null,
            "layout": "IPY_MODEL_54ac9eacc3fc4d0a8ac3f7a254e5a0f3",
            "placeholder": "​",
            "style": "IPY_MODEL_d8e76d3066974d3eb19c0da5090503cd",
            "value": " 95.7k/95.7k [00:00&lt;00:00, 171kB/s]"
          }
        },
        "659390c80d204f438b05dad68a49f053": {
          "model_module": "@jupyter-widgets/base",
          "model_name": "LayoutModel",
          "model_module_version": "1.2.0",
          "state": {
            "_model_module": "@jupyter-widgets/base",
            "_model_module_version": "1.2.0",
            "_model_name": "LayoutModel",
            "_view_count": null,
            "_view_module": "@jupyter-widgets/base",
            "_view_module_version": "1.2.0",
            "_view_name": "LayoutView",
            "align_content": null,
            "align_items": null,
            "align_self": null,
            "border": null,
            "bottom": null,
            "display": null,
            "flex": null,
            "flex_flow": null,
            "grid_area": null,
            "grid_auto_columns": null,
            "grid_auto_flow": null,
            "grid_auto_rows": null,
            "grid_column": null,
            "grid_gap": null,
            "grid_row": null,
            "grid_template_areas": null,
            "grid_template_columns": null,
            "grid_template_rows": null,
            "height": null,
            "justify_content": null,
            "justify_items": null,
            "left": null,
            "margin": null,
            "max_height": null,
            "max_width": null,
            "min_height": null,
            "min_width": null,
            "object_fit": null,
            "object_position": null,
            "order": null,
            "overflow": null,
            "overflow_x": null,
            "overflow_y": null,
            "padding": null,
            "right": null,
            "top": null,
            "visibility": null,
            "width": null
          }
        },
        "dec457f3e55c4fc386489fbee474f68c": {
          "model_module": "@jupyter-widgets/base",
          "model_name": "LayoutModel",
          "model_module_version": "1.2.0",
          "state": {
            "_model_module": "@jupyter-widgets/base",
            "_model_module_version": "1.2.0",
            "_model_name": "LayoutModel",
            "_view_count": null,
            "_view_module": "@jupyter-widgets/base",
            "_view_module_version": "1.2.0",
            "_view_name": "LayoutView",
            "align_content": null,
            "align_items": null,
            "align_self": null,
            "border": null,
            "bottom": null,
            "display": null,
            "flex": null,
            "flex_flow": null,
            "grid_area": null,
            "grid_auto_columns": null,
            "grid_auto_flow": null,
            "grid_auto_rows": null,
            "grid_column": null,
            "grid_gap": null,
            "grid_row": null,
            "grid_template_areas": null,
            "grid_template_columns": null,
            "grid_template_rows": null,
            "height": null,
            "justify_content": null,
            "justify_items": null,
            "left": null,
            "margin": null,
            "max_height": null,
            "max_width": null,
            "min_height": null,
            "min_width": null,
            "object_fit": null,
            "object_position": null,
            "order": null,
            "overflow": null,
            "overflow_x": null,
            "overflow_y": null,
            "padding": null,
            "right": null,
            "top": null,
            "visibility": null,
            "width": null
          }
        },
        "e92a4576ccbf4ddd82d0fa379e5a0b9b": {
          "model_module": "@jupyter-widgets/controls",
          "model_name": "DescriptionStyleModel",
          "model_module_version": "1.5.0",
          "state": {
            "_model_module": "@jupyter-widgets/controls",
            "_model_module_version": "1.5.0",
            "_model_name": "DescriptionStyleModel",
            "_view_count": null,
            "_view_module": "@jupyter-widgets/base",
            "_view_module_version": "1.2.0",
            "_view_name": "StyleView",
            "description_width": ""
          }
        },
        "0f660dd22568457f9d80333943a51dbd": {
          "model_module": "@jupyter-widgets/base",
          "model_name": "LayoutModel",
          "model_module_version": "1.2.0",
          "state": {
            "_model_module": "@jupyter-widgets/base",
            "_model_module_version": "1.2.0",
            "_model_name": "LayoutModel",
            "_view_count": null,
            "_view_module": "@jupyter-widgets/base",
            "_view_module_version": "1.2.0",
            "_view_name": "LayoutView",
            "align_content": null,
            "align_items": null,
            "align_self": null,
            "border": null,
            "bottom": null,
            "display": null,
            "flex": null,
            "flex_flow": null,
            "grid_area": null,
            "grid_auto_columns": null,
            "grid_auto_flow": null,
            "grid_auto_rows": null,
            "grid_column": null,
            "grid_gap": null,
            "grid_row": null,
            "grid_template_areas": null,
            "grid_template_columns": null,
            "grid_template_rows": null,
            "height": null,
            "justify_content": null,
            "justify_items": null,
            "left": null,
            "margin": null,
            "max_height": null,
            "max_width": null,
            "min_height": null,
            "min_width": null,
            "object_fit": null,
            "object_position": null,
            "order": null,
            "overflow": null,
            "overflow_x": null,
            "overflow_y": null,
            "padding": null,
            "right": null,
            "top": null,
            "visibility": null,
            "width": null
          }
        },
        "9c27b2c02aee4ca38caac2a9fafcc691": {
          "model_module": "@jupyter-widgets/controls",
          "model_name": "ProgressStyleModel",
          "model_module_version": "1.5.0",
          "state": {
            "_model_module": "@jupyter-widgets/controls",
            "_model_module_version": "1.5.0",
            "_model_name": "ProgressStyleModel",
            "_view_count": null,
            "_view_module": "@jupyter-widgets/base",
            "_view_module_version": "1.2.0",
            "_view_name": "StyleView",
            "bar_color": null,
            "description_width": ""
          }
        },
        "54ac9eacc3fc4d0a8ac3f7a254e5a0f3": {
          "model_module": "@jupyter-widgets/base",
          "model_name": "LayoutModel",
          "model_module_version": "1.2.0",
          "state": {
            "_model_module": "@jupyter-widgets/base",
            "_model_module_version": "1.2.0",
            "_model_name": "LayoutModel",
            "_view_count": null,
            "_view_module": "@jupyter-widgets/base",
            "_view_module_version": "1.2.0",
            "_view_name": "LayoutView",
            "align_content": null,
            "align_items": null,
            "align_self": null,
            "border": null,
            "bottom": null,
            "display": null,
            "flex": null,
            "flex_flow": null,
            "grid_area": null,
            "grid_auto_columns": null,
            "grid_auto_flow": null,
            "grid_auto_rows": null,
            "grid_column": null,
            "grid_gap": null,
            "grid_row": null,
            "grid_template_areas": null,
            "grid_template_columns": null,
            "grid_template_rows": null,
            "height": null,
            "justify_content": null,
            "justify_items": null,
            "left": null,
            "margin": null,
            "max_height": null,
            "max_width": null,
            "min_height": null,
            "min_width": null,
            "object_fit": null,
            "object_position": null,
            "order": null,
            "overflow": null,
            "overflow_x": null,
            "overflow_y": null,
            "padding": null,
            "right": null,
            "top": null,
            "visibility": null,
            "width": null
          }
        },
        "d8e76d3066974d3eb19c0da5090503cd": {
          "model_module": "@jupyter-widgets/controls",
          "model_name": "DescriptionStyleModel",
          "model_module_version": "1.5.0",
          "state": {
            "_model_module": "@jupyter-widgets/controls",
            "_model_module_version": "1.5.0",
            "_model_name": "DescriptionStyleModel",
            "_view_count": null,
            "_view_module": "@jupyter-widgets/base",
            "_view_module_version": "1.2.0",
            "_view_name": "StyleView",
            "description_width": ""
          }
        },
        "d298eae7a4074a7f8c0719ab0120f56a": {
          "model_module": "@jupyter-widgets/controls",
          "model_name": "HBoxModel",
          "model_module_version": "1.5.0",
          "state": {
            "_dom_classes": [],
            "_model_module": "@jupyter-widgets/controls",
            "_model_module_version": "1.5.0",
            "_model_name": "HBoxModel",
            "_view_count": null,
            "_view_module": "@jupyter-widgets/controls",
            "_view_module_version": "1.5.0",
            "_view_name": "HBoxView",
            "box_style": "",
            "children": [
              "IPY_MODEL_e42d22ebb6094f4b89f8353b2805a381",
              "IPY_MODEL_445ca18bc94040bc9e2971a3d0f48db6",
              "IPY_MODEL_17999f8b4c4a497d934421d16f68c156"
            ],
            "layout": "IPY_MODEL_ce2dd5b7bdfa4207af2919c91bc1e56f"
          }
        },
        "e42d22ebb6094f4b89f8353b2805a381": {
          "model_module": "@jupyter-widgets/controls",
          "model_name": "HTMLModel",
          "model_module_version": "1.5.0",
          "state": {
            "_dom_classes": [],
            "_model_module": "@jupyter-widgets/controls",
            "_model_module_version": "1.5.0",
            "_model_name": "HTMLModel",
            "_view_count": null,
            "_view_module": "@jupyter-widgets/controls",
            "_view_module_version": "1.5.0",
            "_view_name": "HTMLView",
            "description": "",
            "description_tooltip": null,
            "layout": "IPY_MODEL_af3a21cde1c649dca9b9703edb332b85",
            "placeholder": "​",
            "style": "IPY_MODEL_98fccd8bec324fb3a902a189a35a408f",
            "value": "Generating train split: 100%"
          }
        },
        "445ca18bc94040bc9e2971a3d0f48db6": {
          "model_module": "@jupyter-widgets/controls",
          "model_name": "FloatProgressModel",
          "model_module_version": "1.5.0",
          "state": {
            "_dom_classes": [],
            "_model_module": "@jupyter-widgets/controls",
            "_model_module_version": "1.5.0",
            "_model_name": "FloatProgressModel",
            "_view_count": null,
            "_view_module": "@jupyter-widgets/controls",
            "_view_module_version": "1.5.0",
            "_view_name": "ProgressView",
            "bar_style": "success",
            "description": "",
            "description_tooltip": null,
            "layout": "IPY_MODEL_2829411f8b274d9b820d4acd6448418d",
            "max": 6713,
            "min": 0,
            "orientation": "horizontal",
            "style": "IPY_MODEL_db291b53537a4b8c884861d0acd1c654",
            "value": 6713
          }
        },
        "17999f8b4c4a497d934421d16f68c156": {
          "model_module": "@jupyter-widgets/controls",
          "model_name": "HTMLModel",
          "model_module_version": "1.5.0",
          "state": {
            "_dom_classes": [],
            "_model_module": "@jupyter-widgets/controls",
            "_model_module_version": "1.5.0",
            "_model_name": "HTMLModel",
            "_view_count": null,
            "_view_module": "@jupyter-widgets/controls",
            "_view_module_version": "1.5.0",
            "_view_name": "HTMLView",
            "description": "",
            "description_tooltip": null,
            "layout": "IPY_MODEL_e3c47678a1804f558415346e12d4ba9d",
            "placeholder": "​",
            "style": "IPY_MODEL_94555e391ec343d6baeca4a4f53a6f46",
            "value": " 6713/6713 [00:00&lt;00:00, 90171.34 examples/s]"
          }
        },
        "ce2dd5b7bdfa4207af2919c91bc1e56f": {
          "model_module": "@jupyter-widgets/base",
          "model_name": "LayoutModel",
          "model_module_version": "1.2.0",
          "state": {
            "_model_module": "@jupyter-widgets/base",
            "_model_module_version": "1.2.0",
            "_model_name": "LayoutModel",
            "_view_count": null,
            "_view_module": "@jupyter-widgets/base",
            "_view_module_version": "1.2.0",
            "_view_name": "LayoutView",
            "align_content": null,
            "align_items": null,
            "align_self": null,
            "border": null,
            "bottom": null,
            "display": null,
            "flex": null,
            "flex_flow": null,
            "grid_area": null,
            "grid_auto_columns": null,
            "grid_auto_flow": null,
            "grid_auto_rows": null,
            "grid_column": null,
            "grid_gap": null,
            "grid_row": null,
            "grid_template_areas": null,
            "grid_template_columns": null,
            "grid_template_rows": null,
            "height": null,
            "justify_content": null,
            "justify_items": null,
            "left": null,
            "margin": null,
            "max_height": null,
            "max_width": null,
            "min_height": null,
            "min_width": null,
            "object_fit": null,
            "object_position": null,
            "order": null,
            "overflow": null,
            "overflow_x": null,
            "overflow_y": null,
            "padding": null,
            "right": null,
            "top": null,
            "visibility": null,
            "width": null
          }
        },
        "af3a21cde1c649dca9b9703edb332b85": {
          "model_module": "@jupyter-widgets/base",
          "model_name": "LayoutModel",
          "model_module_version": "1.2.0",
          "state": {
            "_model_module": "@jupyter-widgets/base",
            "_model_module_version": "1.2.0",
            "_model_name": "LayoutModel",
            "_view_count": null,
            "_view_module": "@jupyter-widgets/base",
            "_view_module_version": "1.2.0",
            "_view_name": "LayoutView",
            "align_content": null,
            "align_items": null,
            "align_self": null,
            "border": null,
            "bottom": null,
            "display": null,
            "flex": null,
            "flex_flow": null,
            "grid_area": null,
            "grid_auto_columns": null,
            "grid_auto_flow": null,
            "grid_auto_rows": null,
            "grid_column": null,
            "grid_gap": null,
            "grid_row": null,
            "grid_template_areas": null,
            "grid_template_columns": null,
            "grid_template_rows": null,
            "height": null,
            "justify_content": null,
            "justify_items": null,
            "left": null,
            "margin": null,
            "max_height": null,
            "max_width": null,
            "min_height": null,
            "min_width": null,
            "object_fit": null,
            "object_position": null,
            "order": null,
            "overflow": null,
            "overflow_x": null,
            "overflow_y": null,
            "padding": null,
            "right": null,
            "top": null,
            "visibility": null,
            "width": null
          }
        },
        "98fccd8bec324fb3a902a189a35a408f": {
          "model_module": "@jupyter-widgets/controls",
          "model_name": "DescriptionStyleModel",
          "model_module_version": "1.5.0",
          "state": {
            "_model_module": "@jupyter-widgets/controls",
            "_model_module_version": "1.5.0",
            "_model_name": "DescriptionStyleModel",
            "_view_count": null,
            "_view_module": "@jupyter-widgets/base",
            "_view_module_version": "1.2.0",
            "_view_name": "StyleView",
            "description_width": ""
          }
        },
        "2829411f8b274d9b820d4acd6448418d": {
          "model_module": "@jupyter-widgets/base",
          "model_name": "LayoutModel",
          "model_module_version": "1.2.0",
          "state": {
            "_model_module": "@jupyter-widgets/base",
            "_model_module_version": "1.2.0",
            "_model_name": "LayoutModel",
            "_view_count": null,
            "_view_module": "@jupyter-widgets/base",
            "_view_module_version": "1.2.0",
            "_view_name": "LayoutView",
            "align_content": null,
            "align_items": null,
            "align_self": null,
            "border": null,
            "bottom": null,
            "display": null,
            "flex": null,
            "flex_flow": null,
            "grid_area": null,
            "grid_auto_columns": null,
            "grid_auto_flow": null,
            "grid_auto_rows": null,
            "grid_column": null,
            "grid_gap": null,
            "grid_row": null,
            "grid_template_areas": null,
            "grid_template_columns": null,
            "grid_template_rows": null,
            "height": null,
            "justify_content": null,
            "justify_items": null,
            "left": null,
            "margin": null,
            "max_height": null,
            "max_width": null,
            "min_height": null,
            "min_width": null,
            "object_fit": null,
            "object_position": null,
            "order": null,
            "overflow": null,
            "overflow_x": null,
            "overflow_y": null,
            "padding": null,
            "right": null,
            "top": null,
            "visibility": null,
            "width": null
          }
        },
        "db291b53537a4b8c884861d0acd1c654": {
          "model_module": "@jupyter-widgets/controls",
          "model_name": "ProgressStyleModel",
          "model_module_version": "1.5.0",
          "state": {
            "_model_module": "@jupyter-widgets/controls",
            "_model_module_version": "1.5.0",
            "_model_name": "ProgressStyleModel",
            "_view_count": null,
            "_view_module": "@jupyter-widgets/base",
            "_view_module_version": "1.2.0",
            "_view_name": "StyleView",
            "bar_color": null,
            "description_width": ""
          }
        },
        "e3c47678a1804f558415346e12d4ba9d": {
          "model_module": "@jupyter-widgets/base",
          "model_name": "LayoutModel",
          "model_module_version": "1.2.0",
          "state": {
            "_model_module": "@jupyter-widgets/base",
            "_model_module_version": "1.2.0",
            "_model_name": "LayoutModel",
            "_view_count": null,
            "_view_module": "@jupyter-widgets/base",
            "_view_module_version": "1.2.0",
            "_view_name": "LayoutView",
            "align_content": null,
            "align_items": null,
            "align_self": null,
            "border": null,
            "bottom": null,
            "display": null,
            "flex": null,
            "flex_flow": null,
            "grid_area": null,
            "grid_auto_columns": null,
            "grid_auto_flow": null,
            "grid_auto_rows": null,
            "grid_column": null,
            "grid_gap": null,
            "grid_row": null,
            "grid_template_areas": null,
            "grid_template_columns": null,
            "grid_template_rows": null,
            "height": null,
            "justify_content": null,
            "justify_items": null,
            "left": null,
            "margin": null,
            "max_height": null,
            "max_width": null,
            "min_height": null,
            "min_width": null,
            "object_fit": null,
            "object_position": null,
            "order": null,
            "overflow": null,
            "overflow_x": null,
            "overflow_y": null,
            "padding": null,
            "right": null,
            "top": null,
            "visibility": null,
            "width": null
          }
        },
        "94555e391ec343d6baeca4a4f53a6f46": {
          "model_module": "@jupyter-widgets/controls",
          "model_name": "DescriptionStyleModel",
          "model_module_version": "1.5.0",
          "state": {
            "_model_module": "@jupyter-widgets/controls",
            "_model_module_version": "1.5.0",
            "_model_name": "DescriptionStyleModel",
            "_view_count": null,
            "_view_module": "@jupyter-widgets/base",
            "_view_module_version": "1.2.0",
            "_view_name": "StyleView",
            "description_width": ""
          }
        },
        "0c852898161440e2836245776b4a6972": {
          "model_module": "@jupyter-widgets/controls",
          "model_name": "HBoxModel",
          "model_module_version": "1.5.0",
          "state": {
            "_dom_classes": [],
            "_model_module": "@jupyter-widgets/controls",
            "_model_module_version": "1.5.0",
            "_model_name": "HBoxModel",
            "_view_count": null,
            "_view_module": "@jupyter-widgets/controls",
            "_view_module_version": "1.5.0",
            "_view_name": "HBoxView",
            "box_style": "",
            "children": [
              "IPY_MODEL_60bec06fcfca40729e5c01023ca0b8b9",
              "IPY_MODEL_657fbe359cc442749a2e20b4ca50636d",
              "IPY_MODEL_a5b4563849cd417a8597619c23727f1f"
            ],
            "layout": "IPY_MODEL_6823f1b3a5e0446a953413d8bb8a1538"
          }
        },
        "60bec06fcfca40729e5c01023ca0b8b9": {
          "model_module": "@jupyter-widgets/controls",
          "model_name": "HTMLModel",
          "model_module_version": "1.5.0",
          "state": {
            "_dom_classes": [],
            "_model_module": "@jupyter-widgets/controls",
            "_model_module_version": "1.5.0",
            "_model_name": "HTMLModel",
            "_view_count": null,
            "_view_module": "@jupyter-widgets/controls",
            "_view_module_version": "1.5.0",
            "_view_name": "HTMLView",
            "description": "",
            "description_tooltip": null,
            "layout": "IPY_MODEL_e95c6c8886524358b8e4e652e6f074d0",
            "placeholder": "​",
            "style": "IPY_MODEL_f87ae37d6354492d988af7f7ecd1f33e",
            "value": "Generating test split: 100%"
          }
        },
        "657fbe359cc442749a2e20b4ca50636d": {
          "model_module": "@jupyter-widgets/controls",
          "model_name": "FloatProgressModel",
          "model_module_version": "1.5.0",
          "state": {
            "_dom_classes": [],
            "_model_module": "@jupyter-widgets/controls",
            "_model_module_version": "1.5.0",
            "_model_name": "FloatProgressModel",
            "_view_count": null,
            "_view_module": "@jupyter-widgets/controls",
            "_view_module_version": "1.5.0",
            "_view_name": "ProgressView",
            "bar_style": "success",
            "description": "",
            "description_tooltip": null,
            "layout": "IPY_MODEL_77f3d1fcfa4d42ba9f931332a550024c",
            "max": 408,
            "min": 0,
            "orientation": "horizontal",
            "style": "IPY_MODEL_e9315fa1f1be4c158e007a527d55b85c",
            "value": 408
          }
        },
        "a5b4563849cd417a8597619c23727f1f": {
          "model_module": "@jupyter-widgets/controls",
          "model_name": "HTMLModel",
          "model_module_version": "1.5.0",
          "state": {
            "_dom_classes": [],
            "_model_module": "@jupyter-widgets/controls",
            "_model_module_version": "1.5.0",
            "_model_name": "HTMLModel",
            "_view_count": null,
            "_view_module": "@jupyter-widgets/controls",
            "_view_module_version": "1.5.0",
            "_view_name": "HTMLView",
            "description": "",
            "description_tooltip": null,
            "layout": "IPY_MODEL_76ef2f98521d4db682c4a140a113f77d",
            "placeholder": "​",
            "style": "IPY_MODEL_4f0dc8ab17454a84bf83fa7a34275a38",
            "value": " 408/408 [00:00&lt;00:00, 19728.12 examples/s]"
          }
        },
        "6823f1b3a5e0446a953413d8bb8a1538": {
          "model_module": "@jupyter-widgets/base",
          "model_name": "LayoutModel",
          "model_module_version": "1.2.0",
          "state": {
            "_model_module": "@jupyter-widgets/base",
            "_model_module_version": "1.2.0",
            "_model_name": "LayoutModel",
            "_view_count": null,
            "_view_module": "@jupyter-widgets/base",
            "_view_module_version": "1.2.0",
            "_view_name": "LayoutView",
            "align_content": null,
            "align_items": null,
            "align_self": null,
            "border": null,
            "bottom": null,
            "display": null,
            "flex": null,
            "flex_flow": null,
            "grid_area": null,
            "grid_auto_columns": null,
            "grid_auto_flow": null,
            "grid_auto_rows": null,
            "grid_column": null,
            "grid_gap": null,
            "grid_row": null,
            "grid_template_areas": null,
            "grid_template_columns": null,
            "grid_template_rows": null,
            "height": null,
            "justify_content": null,
            "justify_items": null,
            "left": null,
            "margin": null,
            "max_height": null,
            "max_width": null,
            "min_height": null,
            "min_width": null,
            "object_fit": null,
            "object_position": null,
            "order": null,
            "overflow": null,
            "overflow_x": null,
            "overflow_y": null,
            "padding": null,
            "right": null,
            "top": null,
            "visibility": null,
            "width": null
          }
        },
        "e95c6c8886524358b8e4e652e6f074d0": {
          "model_module": "@jupyter-widgets/base",
          "model_name": "LayoutModel",
          "model_module_version": "1.2.0",
          "state": {
            "_model_module": "@jupyter-widgets/base",
            "_model_module_version": "1.2.0",
            "_model_name": "LayoutModel",
            "_view_count": null,
            "_view_module": "@jupyter-widgets/base",
            "_view_module_version": "1.2.0",
            "_view_name": "LayoutView",
            "align_content": null,
            "align_items": null,
            "align_self": null,
            "border": null,
            "bottom": null,
            "display": null,
            "flex": null,
            "flex_flow": null,
            "grid_area": null,
            "grid_auto_columns": null,
            "grid_auto_flow": null,
            "grid_auto_rows": null,
            "grid_column": null,
            "grid_gap": null,
            "grid_row": null,
            "grid_template_areas": null,
            "grid_template_columns": null,
            "grid_template_rows": null,
            "height": null,
            "justify_content": null,
            "justify_items": null,
            "left": null,
            "margin": null,
            "max_height": null,
            "max_width": null,
            "min_height": null,
            "min_width": null,
            "object_fit": null,
            "object_position": null,
            "order": null,
            "overflow": null,
            "overflow_x": null,
            "overflow_y": null,
            "padding": null,
            "right": null,
            "top": null,
            "visibility": null,
            "width": null
          }
        },
        "f87ae37d6354492d988af7f7ecd1f33e": {
          "model_module": "@jupyter-widgets/controls",
          "model_name": "DescriptionStyleModel",
          "model_module_version": "1.5.0",
          "state": {
            "_model_module": "@jupyter-widgets/controls",
            "_model_module_version": "1.5.0",
            "_model_name": "DescriptionStyleModel",
            "_view_count": null,
            "_view_module": "@jupyter-widgets/base",
            "_view_module_version": "1.2.0",
            "_view_name": "StyleView",
            "description_width": ""
          }
        },
        "77f3d1fcfa4d42ba9f931332a550024c": {
          "model_module": "@jupyter-widgets/base",
          "model_name": "LayoutModel",
          "model_module_version": "1.2.0",
          "state": {
            "_model_module": "@jupyter-widgets/base",
            "_model_module_version": "1.2.0",
            "_model_name": "LayoutModel",
            "_view_count": null,
            "_view_module": "@jupyter-widgets/base",
            "_view_module_version": "1.2.0",
            "_view_name": "LayoutView",
            "align_content": null,
            "align_items": null,
            "align_self": null,
            "border": null,
            "bottom": null,
            "display": null,
            "flex": null,
            "flex_flow": null,
            "grid_area": null,
            "grid_auto_columns": null,
            "grid_auto_flow": null,
            "grid_auto_rows": null,
            "grid_column": null,
            "grid_gap": null,
            "grid_row": null,
            "grid_template_areas": null,
            "grid_template_columns": null,
            "grid_template_rows": null,
            "height": null,
            "justify_content": null,
            "justify_items": null,
            "left": null,
            "margin": null,
            "max_height": null,
            "max_width": null,
            "min_height": null,
            "min_width": null,
            "object_fit": null,
            "object_position": null,
            "order": null,
            "overflow": null,
            "overflow_x": null,
            "overflow_y": null,
            "padding": null,
            "right": null,
            "top": null,
            "visibility": null,
            "width": null
          }
        },
        "e9315fa1f1be4c158e007a527d55b85c": {
          "model_module": "@jupyter-widgets/controls",
          "model_name": "ProgressStyleModel",
          "model_module_version": "1.5.0",
          "state": {
            "_model_module": "@jupyter-widgets/controls",
            "_model_module_version": "1.5.0",
            "_model_name": "ProgressStyleModel",
            "_view_count": null,
            "_view_module": "@jupyter-widgets/base",
            "_view_module_version": "1.2.0",
            "_view_name": "StyleView",
            "bar_color": null,
            "description_width": ""
          }
        },
        "76ef2f98521d4db682c4a140a113f77d": {
          "model_module": "@jupyter-widgets/base",
          "model_name": "LayoutModel",
          "model_module_version": "1.2.0",
          "state": {
            "_model_module": "@jupyter-widgets/base",
            "_model_module_version": "1.2.0",
            "_model_name": "LayoutModel",
            "_view_count": null,
            "_view_module": "@jupyter-widgets/base",
            "_view_module_version": "1.2.0",
            "_view_name": "LayoutView",
            "align_content": null,
            "align_items": null,
            "align_self": null,
            "border": null,
            "bottom": null,
            "display": null,
            "flex": null,
            "flex_flow": null,
            "grid_area": null,
            "grid_auto_columns": null,
            "grid_auto_flow": null,
            "grid_auto_rows": null,
            "grid_column": null,
            "grid_gap": null,
            "grid_row": null,
            "grid_template_areas": null,
            "grid_template_columns": null,
            "grid_template_rows": null,
            "height": null,
            "justify_content": null,
            "justify_items": null,
            "left": null,
            "margin": null,
            "max_height": null,
            "max_width": null,
            "min_height": null,
            "min_width": null,
            "object_fit": null,
            "object_position": null,
            "order": null,
            "overflow": null,
            "overflow_x": null,
            "overflow_y": null,
            "padding": null,
            "right": null,
            "top": null,
            "visibility": null,
            "width": null
          }
        },
        "4f0dc8ab17454a84bf83fa7a34275a38": {
          "model_module": "@jupyter-widgets/controls",
          "model_name": "DescriptionStyleModel",
          "model_module_version": "1.5.0",
          "state": {
            "_model_module": "@jupyter-widgets/controls",
            "_model_module_version": "1.5.0",
            "_model_name": "DescriptionStyleModel",
            "_view_count": null,
            "_view_module": "@jupyter-widgets/base",
            "_view_module_version": "1.2.0",
            "_view_name": "StyleView",
            "description_width": ""
          }
        },
        "6362d5a105b54386be358cb5aaa4a786": {
          "model_module": "@jupyter-widgets/controls",
          "model_name": "HBoxModel",
          "model_module_version": "1.5.0",
          "state": {
            "_dom_classes": [],
            "_model_module": "@jupyter-widgets/controls",
            "_model_module_version": "1.5.0",
            "_model_name": "HBoxModel",
            "_view_count": null,
            "_view_module": "@jupyter-widgets/controls",
            "_view_module_version": "1.5.0",
            "_view_name": "HBoxView",
            "box_style": "",
            "children": [
              "IPY_MODEL_ca6229c8949544dcb73776d537c10368",
              "IPY_MODEL_68f55c010eae40bd817cd800d9309870",
              "IPY_MODEL_b8e55c1c732d41f189ff933022217cfc"
            ],
            "layout": "IPY_MODEL_346125f8c2744e8faa4ed1fc18b9ad03"
          }
        },
        "ca6229c8949544dcb73776d537c10368": {
          "model_module": "@jupyter-widgets/controls",
          "model_name": "HTMLModel",
          "model_module_version": "1.5.0",
          "state": {
            "_dom_classes": [],
            "_model_module": "@jupyter-widgets/controls",
            "_model_module_version": "1.5.0",
            "_model_name": "HTMLModel",
            "_view_count": null,
            "_view_module": "@jupyter-widgets/controls",
            "_view_module_version": "1.5.0",
            "_view_name": "HTMLView",
            "description": "",
            "description_tooltip": null,
            "layout": "IPY_MODEL_1418b13776b049f69eeac096322ff3e2",
            "placeholder": "​",
            "style": "IPY_MODEL_d3c50368d40d4a0ca1b9d4f1cc0c98b2",
            "value": "Map: 100%"
          }
        },
        "68f55c010eae40bd817cd800d9309870": {
          "model_module": "@jupyter-widgets/controls",
          "model_name": "FloatProgressModel",
          "model_module_version": "1.5.0",
          "state": {
            "_dom_classes": [],
            "_model_module": "@jupyter-widgets/controls",
            "_model_module_version": "1.5.0",
            "_model_name": "FloatProgressModel",
            "_view_count": null,
            "_view_module": "@jupyter-widgets/controls",
            "_view_module_version": "1.5.0",
            "_view_name": "ProgressView",
            "bar_style": "success",
            "description": "",
            "description_tooltip": null,
            "layout": "IPY_MODEL_9b9ad698b5a246ad81682932fa7915ac",
            "max": 6713,
            "min": 0,
            "orientation": "horizontal",
            "style": "IPY_MODEL_a31bd84a5ecb4b428604f486b4d3e37b",
            "value": 6713
          }
        },
        "b8e55c1c732d41f189ff933022217cfc": {
          "model_module": "@jupyter-widgets/controls",
          "model_name": "HTMLModel",
          "model_module_version": "1.5.0",
          "state": {
            "_dom_classes": [],
            "_model_module": "@jupyter-widgets/controls",
            "_model_module_version": "1.5.0",
            "_model_name": "HTMLModel",
            "_view_count": null,
            "_view_module": "@jupyter-widgets/controls",
            "_view_module_version": "1.5.0",
            "_view_name": "HTMLView",
            "description": "",
            "description_tooltip": null,
            "layout": "IPY_MODEL_c830364388d64a7896df978111633e77",
            "placeholder": "​",
            "style": "IPY_MODEL_e9cd105450a642c4aa05e7ddc73857fd",
            "value": " 6713/6713 [00:00&lt;00:00, 10629.62 examples/s]"
          }
        },
        "346125f8c2744e8faa4ed1fc18b9ad03": {
          "model_module": "@jupyter-widgets/base",
          "model_name": "LayoutModel",
          "model_module_version": "1.2.0",
          "state": {
            "_model_module": "@jupyter-widgets/base",
            "_model_module_version": "1.2.0",
            "_model_name": "LayoutModel",
            "_view_count": null,
            "_view_module": "@jupyter-widgets/base",
            "_view_module_version": "1.2.0",
            "_view_name": "LayoutView",
            "align_content": null,
            "align_items": null,
            "align_self": null,
            "border": null,
            "bottom": null,
            "display": null,
            "flex": null,
            "flex_flow": null,
            "grid_area": null,
            "grid_auto_columns": null,
            "grid_auto_flow": null,
            "grid_auto_rows": null,
            "grid_column": null,
            "grid_gap": null,
            "grid_row": null,
            "grid_template_areas": null,
            "grid_template_columns": null,
            "grid_template_rows": null,
            "height": null,
            "justify_content": null,
            "justify_items": null,
            "left": null,
            "margin": null,
            "max_height": null,
            "max_width": null,
            "min_height": null,
            "min_width": null,
            "object_fit": null,
            "object_position": null,
            "order": null,
            "overflow": null,
            "overflow_x": null,
            "overflow_y": null,
            "padding": null,
            "right": null,
            "top": null,
            "visibility": null,
            "width": null
          }
        },
        "1418b13776b049f69eeac096322ff3e2": {
          "model_module": "@jupyter-widgets/base",
          "model_name": "LayoutModel",
          "model_module_version": "1.2.0",
          "state": {
            "_model_module": "@jupyter-widgets/base",
            "_model_module_version": "1.2.0",
            "_model_name": "LayoutModel",
            "_view_count": null,
            "_view_module": "@jupyter-widgets/base",
            "_view_module_version": "1.2.0",
            "_view_name": "LayoutView",
            "align_content": null,
            "align_items": null,
            "align_self": null,
            "border": null,
            "bottom": null,
            "display": null,
            "flex": null,
            "flex_flow": null,
            "grid_area": null,
            "grid_auto_columns": null,
            "grid_auto_flow": null,
            "grid_auto_rows": null,
            "grid_column": null,
            "grid_gap": null,
            "grid_row": null,
            "grid_template_areas": null,
            "grid_template_columns": null,
            "grid_template_rows": null,
            "height": null,
            "justify_content": null,
            "justify_items": null,
            "left": null,
            "margin": null,
            "max_height": null,
            "max_width": null,
            "min_height": null,
            "min_width": null,
            "object_fit": null,
            "object_position": null,
            "order": null,
            "overflow": null,
            "overflow_x": null,
            "overflow_y": null,
            "padding": null,
            "right": null,
            "top": null,
            "visibility": null,
            "width": null
          }
        },
        "d3c50368d40d4a0ca1b9d4f1cc0c98b2": {
          "model_module": "@jupyter-widgets/controls",
          "model_name": "DescriptionStyleModel",
          "model_module_version": "1.5.0",
          "state": {
            "_model_module": "@jupyter-widgets/controls",
            "_model_module_version": "1.5.0",
            "_model_name": "DescriptionStyleModel",
            "_view_count": null,
            "_view_module": "@jupyter-widgets/base",
            "_view_module_version": "1.2.0",
            "_view_name": "StyleView",
            "description_width": ""
          }
        },
        "9b9ad698b5a246ad81682932fa7915ac": {
          "model_module": "@jupyter-widgets/base",
          "model_name": "LayoutModel",
          "model_module_version": "1.2.0",
          "state": {
            "_model_module": "@jupyter-widgets/base",
            "_model_module_version": "1.2.0",
            "_model_name": "LayoutModel",
            "_view_count": null,
            "_view_module": "@jupyter-widgets/base",
            "_view_module_version": "1.2.0",
            "_view_name": "LayoutView",
            "align_content": null,
            "align_items": null,
            "align_self": null,
            "border": null,
            "bottom": null,
            "display": null,
            "flex": null,
            "flex_flow": null,
            "grid_area": null,
            "grid_auto_columns": null,
            "grid_auto_flow": null,
            "grid_auto_rows": null,
            "grid_column": null,
            "grid_gap": null,
            "grid_row": null,
            "grid_template_areas": null,
            "grid_template_columns": null,
            "grid_template_rows": null,
            "height": null,
            "justify_content": null,
            "justify_items": null,
            "left": null,
            "margin": null,
            "max_height": null,
            "max_width": null,
            "min_height": null,
            "min_width": null,
            "object_fit": null,
            "object_position": null,
            "order": null,
            "overflow": null,
            "overflow_x": null,
            "overflow_y": null,
            "padding": null,
            "right": null,
            "top": null,
            "visibility": null,
            "width": null
          }
        },
        "a31bd84a5ecb4b428604f486b4d3e37b": {
          "model_module": "@jupyter-widgets/controls",
          "model_name": "ProgressStyleModel",
          "model_module_version": "1.5.0",
          "state": {
            "_model_module": "@jupyter-widgets/controls",
            "_model_module_version": "1.5.0",
            "_model_name": "ProgressStyleModel",
            "_view_count": null,
            "_view_module": "@jupyter-widgets/base",
            "_view_module_version": "1.2.0",
            "_view_name": "StyleView",
            "bar_color": null,
            "description_width": ""
          }
        },
        "c830364388d64a7896df978111633e77": {
          "model_module": "@jupyter-widgets/base",
          "model_name": "LayoutModel",
          "model_module_version": "1.2.0",
          "state": {
            "_model_module": "@jupyter-widgets/base",
            "_model_module_version": "1.2.0",
            "_model_name": "LayoutModel",
            "_view_count": null,
            "_view_module": "@jupyter-widgets/base",
            "_view_module_version": "1.2.0",
            "_view_name": "LayoutView",
            "align_content": null,
            "align_items": null,
            "align_self": null,
            "border": null,
            "bottom": null,
            "display": null,
            "flex": null,
            "flex_flow": null,
            "grid_area": null,
            "grid_auto_columns": null,
            "grid_auto_flow": null,
            "grid_auto_rows": null,
            "grid_column": null,
            "grid_gap": null,
            "grid_row": null,
            "grid_template_areas": null,
            "grid_template_columns": null,
            "grid_template_rows": null,
            "height": null,
            "justify_content": null,
            "justify_items": null,
            "left": null,
            "margin": null,
            "max_height": null,
            "max_width": null,
            "min_height": null,
            "min_width": null,
            "object_fit": null,
            "object_position": null,
            "order": null,
            "overflow": null,
            "overflow_x": null,
            "overflow_y": null,
            "padding": null,
            "right": null,
            "top": null,
            "visibility": null,
            "width": null
          }
        },
        "e9cd105450a642c4aa05e7ddc73857fd": {
          "model_module": "@jupyter-widgets/controls",
          "model_name": "DescriptionStyleModel",
          "model_module_version": "1.5.0",
          "state": {
            "_model_module": "@jupyter-widgets/controls",
            "_model_module_version": "1.5.0",
            "_model_name": "DescriptionStyleModel",
            "_view_count": null,
            "_view_module": "@jupyter-widgets/base",
            "_view_module_version": "1.2.0",
            "_view_name": "StyleView",
            "description_width": ""
          }
        },
        "1f45ddc436b54f0c839ece1588ce9a58": {
          "model_module": "@jupyter-widgets/controls",
          "model_name": "HBoxModel",
          "model_module_version": "1.5.0",
          "state": {
            "_dom_classes": [],
            "_model_module": "@jupyter-widgets/controls",
            "_model_module_version": "1.5.0",
            "_model_name": "HBoxModel",
            "_view_count": null,
            "_view_module": "@jupyter-widgets/controls",
            "_view_module_version": "1.5.0",
            "_view_name": "HBoxView",
            "box_style": "",
            "children": [
              "IPY_MODEL_b2a86e3bfe104ce8a04c093a1ecf8637",
              "IPY_MODEL_da7f78dae3574541aea355b5f7011d71",
              "IPY_MODEL_a7a8d0355c184f458da5bf6a02e77343"
            ],
            "layout": "IPY_MODEL_fd0cca09dadb4e129fded974a13aeff5"
          }
        },
        "b2a86e3bfe104ce8a04c093a1ecf8637": {
          "model_module": "@jupyter-widgets/controls",
          "model_name": "HTMLModel",
          "model_module_version": "1.5.0",
          "state": {
            "_dom_classes": [],
            "_model_module": "@jupyter-widgets/controls",
            "_model_module_version": "1.5.0",
            "_model_name": "HTMLModel",
            "_view_count": null,
            "_view_module": "@jupyter-widgets/controls",
            "_view_module_version": "1.5.0",
            "_view_name": "HTMLView",
            "description": "",
            "description_tooltip": null,
            "layout": "IPY_MODEL_bf97c3f79ac4484a82ddc364a242be65",
            "placeholder": "​",
            "style": "IPY_MODEL_a3d80b8d1db04338bafeecb8f4be8945",
            "value": "Map: 100%"
          }
        },
        "da7f78dae3574541aea355b5f7011d71": {
          "model_module": "@jupyter-widgets/controls",
          "model_name": "FloatProgressModel",
          "model_module_version": "1.5.0",
          "state": {
            "_dom_classes": [],
            "_model_module": "@jupyter-widgets/controls",
            "_model_module_version": "1.5.0",
            "_model_name": "FloatProgressModel",
            "_view_count": null,
            "_view_module": "@jupyter-widgets/controls",
            "_view_module_version": "1.5.0",
            "_view_name": "ProgressView",
            "bar_style": "success",
            "description": "",
            "description_tooltip": null,
            "layout": "IPY_MODEL_5674414b8a4941519d6f3024d5c7b603",
            "max": 408,
            "min": 0,
            "orientation": "horizontal",
            "style": "IPY_MODEL_c7a40c90d7b14b05aaab7a2cc12f6c10",
            "value": 408
          }
        },
        "a7a8d0355c184f458da5bf6a02e77343": {
          "model_module": "@jupyter-widgets/controls",
          "model_name": "HTMLModel",
          "model_module_version": "1.5.0",
          "state": {
            "_dom_classes": [],
            "_model_module": "@jupyter-widgets/controls",
            "_model_module_version": "1.5.0",
            "_model_name": "HTMLModel",
            "_view_count": null,
            "_view_module": "@jupyter-widgets/controls",
            "_view_module_version": "1.5.0",
            "_view_name": "HTMLView",
            "description": "",
            "description_tooltip": null,
            "layout": "IPY_MODEL_ba5afda169bc45a2b346ec2e57518b98",
            "placeholder": "​",
            "style": "IPY_MODEL_5c0ca01b1b11424dbaf5c5ec64e1dae4",
            "value": " 408/408 [00:00&lt;00:00, 4934.48 examples/s]"
          }
        },
        "fd0cca09dadb4e129fded974a13aeff5": {
          "model_module": "@jupyter-widgets/base",
          "model_name": "LayoutModel",
          "model_module_version": "1.2.0",
          "state": {
            "_model_module": "@jupyter-widgets/base",
            "_model_module_version": "1.2.0",
            "_model_name": "LayoutModel",
            "_view_count": null,
            "_view_module": "@jupyter-widgets/base",
            "_view_module_version": "1.2.0",
            "_view_name": "LayoutView",
            "align_content": null,
            "align_items": null,
            "align_self": null,
            "border": null,
            "bottom": null,
            "display": null,
            "flex": null,
            "flex_flow": null,
            "grid_area": null,
            "grid_auto_columns": null,
            "grid_auto_flow": null,
            "grid_auto_rows": null,
            "grid_column": null,
            "grid_gap": null,
            "grid_row": null,
            "grid_template_areas": null,
            "grid_template_columns": null,
            "grid_template_rows": null,
            "height": null,
            "justify_content": null,
            "justify_items": null,
            "left": null,
            "margin": null,
            "max_height": null,
            "max_width": null,
            "min_height": null,
            "min_width": null,
            "object_fit": null,
            "object_position": null,
            "order": null,
            "overflow": null,
            "overflow_x": null,
            "overflow_y": null,
            "padding": null,
            "right": null,
            "top": null,
            "visibility": null,
            "width": null
          }
        },
        "bf97c3f79ac4484a82ddc364a242be65": {
          "model_module": "@jupyter-widgets/base",
          "model_name": "LayoutModel",
          "model_module_version": "1.2.0",
          "state": {
            "_model_module": "@jupyter-widgets/base",
            "_model_module_version": "1.2.0",
            "_model_name": "LayoutModel",
            "_view_count": null,
            "_view_module": "@jupyter-widgets/base",
            "_view_module_version": "1.2.0",
            "_view_name": "LayoutView",
            "align_content": null,
            "align_items": null,
            "align_self": null,
            "border": null,
            "bottom": null,
            "display": null,
            "flex": null,
            "flex_flow": null,
            "grid_area": null,
            "grid_auto_columns": null,
            "grid_auto_flow": null,
            "grid_auto_rows": null,
            "grid_column": null,
            "grid_gap": null,
            "grid_row": null,
            "grid_template_areas": null,
            "grid_template_columns": null,
            "grid_template_rows": null,
            "height": null,
            "justify_content": null,
            "justify_items": null,
            "left": null,
            "margin": null,
            "max_height": null,
            "max_width": null,
            "min_height": null,
            "min_width": null,
            "object_fit": null,
            "object_position": null,
            "order": null,
            "overflow": null,
            "overflow_x": null,
            "overflow_y": null,
            "padding": null,
            "right": null,
            "top": null,
            "visibility": null,
            "width": null
          }
        },
        "a3d80b8d1db04338bafeecb8f4be8945": {
          "model_module": "@jupyter-widgets/controls",
          "model_name": "DescriptionStyleModel",
          "model_module_version": "1.5.0",
          "state": {
            "_model_module": "@jupyter-widgets/controls",
            "_model_module_version": "1.5.0",
            "_model_name": "DescriptionStyleModel",
            "_view_count": null,
            "_view_module": "@jupyter-widgets/base",
            "_view_module_version": "1.2.0",
            "_view_name": "StyleView",
            "description_width": ""
          }
        },
        "5674414b8a4941519d6f3024d5c7b603": {
          "model_module": "@jupyter-widgets/base",
          "model_name": "LayoutModel",
          "model_module_version": "1.2.0",
          "state": {
            "_model_module": "@jupyter-widgets/base",
            "_model_module_version": "1.2.0",
            "_model_name": "LayoutModel",
            "_view_count": null,
            "_view_module": "@jupyter-widgets/base",
            "_view_module_version": "1.2.0",
            "_view_name": "LayoutView",
            "align_content": null,
            "align_items": null,
            "align_self": null,
            "border": null,
            "bottom": null,
            "display": null,
            "flex": null,
            "flex_flow": null,
            "grid_area": null,
            "grid_auto_columns": null,
            "grid_auto_flow": null,
            "grid_auto_rows": null,
            "grid_column": null,
            "grid_gap": null,
            "grid_row": null,
            "grid_template_areas": null,
            "grid_template_columns": null,
            "grid_template_rows": null,
            "height": null,
            "justify_content": null,
            "justify_items": null,
            "left": null,
            "margin": null,
            "max_height": null,
            "max_width": null,
            "min_height": null,
            "min_width": null,
            "object_fit": null,
            "object_position": null,
            "order": null,
            "overflow": null,
            "overflow_x": null,
            "overflow_y": null,
            "padding": null,
            "right": null,
            "top": null,
            "visibility": null,
            "width": null
          }
        },
        "c7a40c90d7b14b05aaab7a2cc12f6c10": {
          "model_module": "@jupyter-widgets/controls",
          "model_name": "ProgressStyleModel",
          "model_module_version": "1.5.0",
          "state": {
            "_model_module": "@jupyter-widgets/controls",
            "_model_module_version": "1.5.0",
            "_model_name": "ProgressStyleModel",
            "_view_count": null,
            "_view_module": "@jupyter-widgets/base",
            "_view_module_version": "1.2.0",
            "_view_name": "StyleView",
            "bar_color": null,
            "description_width": ""
          }
        },
        "ba5afda169bc45a2b346ec2e57518b98": {
          "model_module": "@jupyter-widgets/base",
          "model_name": "LayoutModel",
          "model_module_version": "1.2.0",
          "state": {
            "_model_module": "@jupyter-widgets/base",
            "_model_module_version": "1.2.0",
            "_model_name": "LayoutModel",
            "_view_count": null,
            "_view_module": "@jupyter-widgets/base",
            "_view_module_version": "1.2.0",
            "_view_name": "LayoutView",
            "align_content": null,
            "align_items": null,
            "align_self": null,
            "border": null,
            "bottom": null,
            "display": null,
            "flex": null,
            "flex_flow": null,
            "grid_area": null,
            "grid_auto_columns": null,
            "grid_auto_flow": null,
            "grid_auto_rows": null,
            "grid_column": null,
            "grid_gap": null,
            "grid_row": null,
            "grid_template_areas": null,
            "grid_template_columns": null,
            "grid_template_rows": null,
            "height": null,
            "justify_content": null,
            "justify_items": null,
            "left": null,
            "margin": null,
            "max_height": null,
            "max_width": null,
            "min_height": null,
            "min_width": null,
            "object_fit": null,
            "object_position": null,
            "order": null,
            "overflow": null,
            "overflow_x": null,
            "overflow_y": null,
            "padding": null,
            "right": null,
            "top": null,
            "visibility": null,
            "width": null
          }
        },
        "5c0ca01b1b11424dbaf5c5ec64e1dae4": {
          "model_module": "@jupyter-widgets/controls",
          "model_name": "DescriptionStyleModel",
          "model_module_version": "1.5.0",
          "state": {
            "_model_module": "@jupyter-widgets/controls",
            "_model_module_version": "1.5.0",
            "_model_name": "DescriptionStyleModel",
            "_view_count": null,
            "_view_module": "@jupyter-widgets/base",
            "_view_module_version": "1.2.0",
            "_view_name": "StyleView",
            "description_width": ""
          }
        },
        "aad6b7a9cd32478599c7c5f3f3586ca3": {
          "model_module": "@jupyter-widgets/controls",
          "model_name": "HBoxModel",
          "model_module_version": "1.5.0",
          "state": {
            "_dom_classes": [],
            "_model_module": "@jupyter-widgets/controls",
            "_model_module_version": "1.5.0",
            "_model_name": "HBoxModel",
            "_view_count": null,
            "_view_module": "@jupyter-widgets/controls",
            "_view_module_version": "1.5.0",
            "_view_name": "HBoxView",
            "box_style": "",
            "children": [
              "IPY_MODEL_9778be40cb73448b9a13ccf8ffb316bb",
              "IPY_MODEL_c2181afdd53c497992195107a18f1f9c",
              "IPY_MODEL_41642342ed30441bb7b3130c59357148"
            ],
            "layout": "IPY_MODEL_5d5c46144a474210b5ad3dd3fb66826c"
          }
        },
        "9778be40cb73448b9a13ccf8ffb316bb": {
          "model_module": "@jupyter-widgets/controls",
          "model_name": "HTMLModel",
          "model_module_version": "1.5.0",
          "state": {
            "_dom_classes": [],
            "_model_module": "@jupyter-widgets/controls",
            "_model_module_version": "1.5.0",
            "_model_name": "HTMLModel",
            "_view_count": null,
            "_view_module": "@jupyter-widgets/controls",
            "_view_module_version": "1.5.0",
            "_view_name": "HTMLView",
            "description": "",
            "description_tooltip": null,
            "layout": "IPY_MODEL_c3d1f9c804704b3da677c6e669058a18",
            "placeholder": "​",
            "style": "IPY_MODEL_7699979bd1f94a958299d8e6918ad7cf",
            "value": "Loading checkpoint shards: 100%"
          }
        },
        "c2181afdd53c497992195107a18f1f9c": {
          "model_module": "@jupyter-widgets/controls",
          "model_name": "FloatProgressModel",
          "model_module_version": "1.5.0",
          "state": {
            "_dom_classes": [],
            "_model_module": "@jupyter-widgets/controls",
            "_model_module_version": "1.5.0",
            "_model_name": "FloatProgressModel",
            "_view_count": null,
            "_view_module": "@jupyter-widgets/controls",
            "_view_module_version": "1.5.0",
            "_view_name": "ProgressView",
            "bar_style": "success",
            "description": "",
            "description_tooltip": null,
            "layout": "IPY_MODEL_3a4bcd323d484a108fa190d02ffd8697",
            "max": 2,
            "min": 0,
            "orientation": "horizontal",
            "style": "IPY_MODEL_51d7056dc1b64c59b28447244fd8ad29",
            "value": 2
          }
        },
        "41642342ed30441bb7b3130c59357148": {
          "model_module": "@jupyter-widgets/controls",
          "model_name": "HTMLModel",
          "model_module_version": "1.5.0",
          "state": {
            "_dom_classes": [],
            "_model_module": "@jupyter-widgets/controls",
            "_model_module_version": "1.5.0",
            "_model_name": "HTMLModel",
            "_view_count": null,
            "_view_module": "@jupyter-widgets/controls",
            "_view_module_version": "1.5.0",
            "_view_name": "HTMLView",
            "description": "",
            "description_tooltip": null,
            "layout": "IPY_MODEL_3f62d2331e224962ac0724f85996fa1a",
            "placeholder": "​",
            "style": "IPY_MODEL_5c385eee786b4a72a3f92461d8b07e8e",
            "value": " 2/2 [00:20&lt;00:00,  9.11s/it]"
          }
        },
        "5d5c46144a474210b5ad3dd3fb66826c": {
          "model_module": "@jupyter-widgets/base",
          "model_name": "LayoutModel",
          "model_module_version": "1.2.0",
          "state": {
            "_model_module": "@jupyter-widgets/base",
            "_model_module_version": "1.2.0",
            "_model_name": "LayoutModel",
            "_view_count": null,
            "_view_module": "@jupyter-widgets/base",
            "_view_module_version": "1.2.0",
            "_view_name": "LayoutView",
            "align_content": null,
            "align_items": null,
            "align_self": null,
            "border": null,
            "bottom": null,
            "display": null,
            "flex": null,
            "flex_flow": null,
            "grid_area": null,
            "grid_auto_columns": null,
            "grid_auto_flow": null,
            "grid_auto_rows": null,
            "grid_column": null,
            "grid_gap": null,
            "grid_row": null,
            "grid_template_areas": null,
            "grid_template_columns": null,
            "grid_template_rows": null,
            "height": null,
            "justify_content": null,
            "justify_items": null,
            "left": null,
            "margin": null,
            "max_height": null,
            "max_width": null,
            "min_height": null,
            "min_width": null,
            "object_fit": null,
            "object_position": null,
            "order": null,
            "overflow": null,
            "overflow_x": null,
            "overflow_y": null,
            "padding": null,
            "right": null,
            "top": null,
            "visibility": null,
            "width": null
          }
        },
        "c3d1f9c804704b3da677c6e669058a18": {
          "model_module": "@jupyter-widgets/base",
          "model_name": "LayoutModel",
          "model_module_version": "1.2.0",
          "state": {
            "_model_module": "@jupyter-widgets/base",
            "_model_module_version": "1.2.0",
            "_model_name": "LayoutModel",
            "_view_count": null,
            "_view_module": "@jupyter-widgets/base",
            "_view_module_version": "1.2.0",
            "_view_name": "LayoutView",
            "align_content": null,
            "align_items": null,
            "align_self": null,
            "border": null,
            "bottom": null,
            "display": null,
            "flex": null,
            "flex_flow": null,
            "grid_area": null,
            "grid_auto_columns": null,
            "grid_auto_flow": null,
            "grid_auto_rows": null,
            "grid_column": null,
            "grid_gap": null,
            "grid_row": null,
            "grid_template_areas": null,
            "grid_template_columns": null,
            "grid_template_rows": null,
            "height": null,
            "justify_content": null,
            "justify_items": null,
            "left": null,
            "margin": null,
            "max_height": null,
            "max_width": null,
            "min_height": null,
            "min_width": null,
            "object_fit": null,
            "object_position": null,
            "order": null,
            "overflow": null,
            "overflow_x": null,
            "overflow_y": null,
            "padding": null,
            "right": null,
            "top": null,
            "visibility": null,
            "width": null
          }
        },
        "7699979bd1f94a958299d8e6918ad7cf": {
          "model_module": "@jupyter-widgets/controls",
          "model_name": "DescriptionStyleModel",
          "model_module_version": "1.5.0",
          "state": {
            "_model_module": "@jupyter-widgets/controls",
            "_model_module_version": "1.5.0",
            "_model_name": "DescriptionStyleModel",
            "_view_count": null,
            "_view_module": "@jupyter-widgets/base",
            "_view_module_version": "1.2.0",
            "_view_name": "StyleView",
            "description_width": ""
          }
        },
        "3a4bcd323d484a108fa190d02ffd8697": {
          "model_module": "@jupyter-widgets/base",
          "model_name": "LayoutModel",
          "model_module_version": "1.2.0",
          "state": {
            "_model_module": "@jupyter-widgets/base",
            "_model_module_version": "1.2.0",
            "_model_name": "LayoutModel",
            "_view_count": null,
            "_view_module": "@jupyter-widgets/base",
            "_view_module_version": "1.2.0",
            "_view_name": "LayoutView",
            "align_content": null,
            "align_items": null,
            "align_self": null,
            "border": null,
            "bottom": null,
            "display": null,
            "flex": null,
            "flex_flow": null,
            "grid_area": null,
            "grid_auto_columns": null,
            "grid_auto_flow": null,
            "grid_auto_rows": null,
            "grid_column": null,
            "grid_gap": null,
            "grid_row": null,
            "grid_template_areas": null,
            "grid_template_columns": null,
            "grid_template_rows": null,
            "height": null,
            "justify_content": null,
            "justify_items": null,
            "left": null,
            "margin": null,
            "max_height": null,
            "max_width": null,
            "min_height": null,
            "min_width": null,
            "object_fit": null,
            "object_position": null,
            "order": null,
            "overflow": null,
            "overflow_x": null,
            "overflow_y": null,
            "padding": null,
            "right": null,
            "top": null,
            "visibility": null,
            "width": null
          }
        },
        "51d7056dc1b64c59b28447244fd8ad29": {
          "model_module": "@jupyter-widgets/controls",
          "model_name": "ProgressStyleModel",
          "model_module_version": "1.5.0",
          "state": {
            "_model_module": "@jupyter-widgets/controls",
            "_model_module_version": "1.5.0",
            "_model_name": "ProgressStyleModel",
            "_view_count": null,
            "_view_module": "@jupyter-widgets/base",
            "_view_module_version": "1.2.0",
            "_view_name": "StyleView",
            "bar_color": null,
            "description_width": ""
          }
        },
        "3f62d2331e224962ac0724f85996fa1a": {
          "model_module": "@jupyter-widgets/base",
          "model_name": "LayoutModel",
          "model_module_version": "1.2.0",
          "state": {
            "_model_module": "@jupyter-widgets/base",
            "_model_module_version": "1.2.0",
            "_model_name": "LayoutModel",
            "_view_count": null,
            "_view_module": "@jupyter-widgets/base",
            "_view_module_version": "1.2.0",
            "_view_name": "LayoutView",
            "align_content": null,
            "align_items": null,
            "align_self": null,
            "border": null,
            "bottom": null,
            "display": null,
            "flex": null,
            "flex_flow": null,
            "grid_area": null,
            "grid_auto_columns": null,
            "grid_auto_flow": null,
            "grid_auto_rows": null,
            "grid_column": null,
            "grid_gap": null,
            "grid_row": null,
            "grid_template_areas": null,
            "grid_template_columns": null,
            "grid_template_rows": null,
            "height": null,
            "justify_content": null,
            "justify_items": null,
            "left": null,
            "margin": null,
            "max_height": null,
            "max_width": null,
            "min_height": null,
            "min_width": null,
            "object_fit": null,
            "object_position": null,
            "order": null,
            "overflow": null,
            "overflow_x": null,
            "overflow_y": null,
            "padding": null,
            "right": null,
            "top": null,
            "visibility": null,
            "width": null
          }
        },
        "5c385eee786b4a72a3f92461d8b07e8e": {
          "model_module": "@jupyter-widgets/controls",
          "model_name": "DescriptionStyleModel",
          "model_module_version": "1.5.0",
          "state": {
            "_model_module": "@jupyter-widgets/controls",
            "_model_module_version": "1.5.0",
            "_model_name": "DescriptionStyleModel",
            "_view_count": null,
            "_view_module": "@jupyter-widgets/base",
            "_view_module_version": "1.2.0",
            "_view_name": "StyleView",
            "description_width": ""
          }
        }
      }
    }
  },
  "cells": [
    {
      "cell_type": "code",
      "source": [
        "!pip install -U datasets bitsandbytes accelerate peft trl"
      ],
      "metadata": {
        "colab": {
          "base_uri": "https://localhost:8080/"
        },
        "id": "FJ0SGKJrKyTX",
        "outputId": "b211d7c9-cadd-4169-a0dc-a08a166ddc27"
      },
      "execution_count": null,
      "outputs": [
        {
          "output_type": "stream",
          "name": "stdout",
          "text": [
            "Collecting datasets\n",
            "  Downloading datasets-2.19.1-py3-none-any.whl (542 kB)\n",
            "\u001b[?25l     \u001b[90m━━━━━━━━━━━━━━━━━━━━━━━━━━━━━━━━━━━━━━━━\u001b[0m \u001b[32m0.0/542.0 kB\u001b[0m \u001b[31m?\u001b[0m eta \u001b[36m-:--:--\u001b[0m\r\u001b[2K     \u001b[91m━━━━━━━━━━━━━━━━\u001b[0m\u001b[91m╸\u001b[0m\u001b[90m━━━━━━━━━━━━━━━━━━━━━━━\u001b[0m \u001b[32m225.3/542.0 kB\u001b[0m \u001b[31m6.6 MB/s\u001b[0m eta \u001b[36m0:00:01\u001b[0m\r\u001b[2K     \u001b[90m━━━━━━━━━━━━━━━━━━━━━━━━━━━━━━━━━━━━━━━━\u001b[0m \u001b[32m542.0/542.0 kB\u001b[0m \u001b[31m10.9 MB/s\u001b[0m eta \u001b[36m0:00:00\u001b[0m\n",
            "\u001b[?25hCollecting bitsandbytes\n",
            "  Downloading bitsandbytes-0.43.1-py3-none-manylinux_2_24_x86_64.whl (119.8 MB)\n",
            "\u001b[2K     \u001b[90m━━━━━━━━━━━━━━━━━━━━━━━━━━━━━━━━━━━━━━━━\u001b[0m \u001b[32m119.8/119.8 MB\u001b[0m \u001b[31m9.1 MB/s\u001b[0m eta \u001b[36m0:00:00\u001b[0m\n",
            "\u001b[?25hCollecting accelerate\n",
            "  Downloading accelerate-0.30.1-py3-none-any.whl (302 kB)\n",
            "\u001b[2K     \u001b[90m━━━━━━━━━━━━━━━━━━━━━━━━━━━━━━━━━━━━━━━━\u001b[0m \u001b[32m302.6/302.6 kB\u001b[0m \u001b[31m37.2 MB/s\u001b[0m eta \u001b[36m0:00:00\u001b[0m\n",
            "\u001b[?25hCollecting peft\n",
            "  Downloading peft-0.11.1-py3-none-any.whl (251 kB)\n",
            "\u001b[2K     \u001b[90m━━━━━━━━━━━━━━━━━━━━━━━━━━━━━━━━━━━━━━━━\u001b[0m \u001b[32m251.6/251.6 kB\u001b[0m \u001b[31m31.9 MB/s\u001b[0m eta \u001b[36m0:00:00\u001b[0m\n",
            "\u001b[?25hCollecting trl\n",
            "  Downloading trl-0.8.6-py3-none-any.whl (245 kB)\n",
            "\u001b[2K     \u001b[90m━━━━━━━━━━━━━━━━━━━━━━━━━━━━━━━━━━━━━━━━\u001b[0m \u001b[32m245.2/245.2 kB\u001b[0m \u001b[31m31.6 MB/s\u001b[0m eta \u001b[36m0:00:00\u001b[0m\n",
            "\u001b[?25hRequirement already satisfied: filelock in /usr/local/lib/python3.10/dist-packages (from datasets) (3.14.0)\n",
            "Requirement already satisfied: numpy>=1.17 in /usr/local/lib/python3.10/dist-packages (from datasets) (1.25.2)\n",
            "Requirement already satisfied: pyarrow>=12.0.0 in /usr/local/lib/python3.10/dist-packages (from datasets) (14.0.2)\n",
            "Requirement already satisfied: pyarrow-hotfix in /usr/local/lib/python3.10/dist-packages (from datasets) (0.6)\n",
            "Collecting dill<0.3.9,>=0.3.0 (from datasets)\n",
            "  Downloading dill-0.3.8-py3-none-any.whl (116 kB)\n",
            "\u001b[2K     \u001b[90m━━━━━━━━━━━━━━━━━━━━━━━━━━━━━━━━━━━━━━━━\u001b[0m \u001b[32m116.3/116.3 kB\u001b[0m \u001b[31m18.3 MB/s\u001b[0m eta \u001b[36m0:00:00\u001b[0m\n",
            "\u001b[?25hRequirement already satisfied: pandas in /usr/local/lib/python3.10/dist-packages (from datasets) (2.0.3)\n",
            "Requirement already satisfied: requests>=2.19.0 in /usr/local/lib/python3.10/dist-packages (from datasets) (2.31.0)\n",
            "Requirement already satisfied: tqdm>=4.62.1 in /usr/local/lib/python3.10/dist-packages (from datasets) (4.66.4)\n",
            "Collecting xxhash (from datasets)\n",
            "  Downloading xxhash-3.4.1-cp310-cp310-manylinux_2_17_x86_64.manylinux2014_x86_64.whl (194 kB)\n",
            "\u001b[2K     \u001b[90m━━━━━━━━━━━━━━━━━━━━━━━━━━━━━━━━━━━━━━━━\u001b[0m \u001b[32m194.1/194.1 kB\u001b[0m \u001b[31m21.6 MB/s\u001b[0m eta \u001b[36m0:00:00\u001b[0m\n",
            "\u001b[?25hCollecting multiprocess (from datasets)\n",
            "  Downloading multiprocess-0.70.16-py310-none-any.whl (134 kB)\n",
            "\u001b[2K     \u001b[90m━━━━━━━━━━━━━━━━━━━━━━━━━━━━━━━━━━━━━━━━\u001b[0m \u001b[32m134.8/134.8 kB\u001b[0m \u001b[31m19.7 MB/s\u001b[0m eta \u001b[36m0:00:00\u001b[0m\n",
            "\u001b[?25hRequirement already satisfied: fsspec[http]<=2024.3.1,>=2023.1.0 in /usr/local/lib/python3.10/dist-packages (from datasets) (2023.6.0)\n",
            "Requirement already satisfied: aiohttp in /usr/local/lib/python3.10/dist-packages (from datasets) (3.9.5)\n",
            "Requirement already satisfied: huggingface-hub>=0.21.2 in /usr/local/lib/python3.10/dist-packages (from datasets) (0.23.1)\n",
            "Requirement already satisfied: packaging in /usr/local/lib/python3.10/dist-packages (from datasets) (24.0)\n",
            "Requirement already satisfied: pyyaml>=5.1 in /usr/local/lib/python3.10/dist-packages (from datasets) (6.0.1)\n",
            "Requirement already satisfied: torch in /usr/local/lib/python3.10/dist-packages (from bitsandbytes) (2.3.0+cu121)\n",
            "Requirement already satisfied: psutil in /usr/local/lib/python3.10/dist-packages (from accelerate) (5.9.5)\n",
            "Requirement already satisfied: safetensors>=0.3.1 in /usr/local/lib/python3.10/dist-packages (from accelerate) (0.4.3)\n",
            "Requirement already satisfied: transformers in /usr/local/lib/python3.10/dist-packages (from peft) (4.41.0)\n",
            "Collecting tyro>=0.5.11 (from trl)\n",
            "  Downloading tyro-0.8.4-py3-none-any.whl (102 kB)\n",
            "\u001b[2K     \u001b[90m━━━━━━━━━━━━━━━━━━━━━━━━━━━━━━━━━━━━━━━━\u001b[0m \u001b[32m102.4/102.4 kB\u001b[0m \u001b[31m13.4 MB/s\u001b[0m eta \u001b[36m0:00:00\u001b[0m\n",
            "\u001b[?25hRequirement already satisfied: aiosignal>=1.1.2 in /usr/local/lib/python3.10/dist-packages (from aiohttp->datasets) (1.3.1)\n",
            "Requirement already satisfied: attrs>=17.3.0 in /usr/local/lib/python3.10/dist-packages (from aiohttp->datasets) (23.2.0)\n",
            "Requirement already satisfied: frozenlist>=1.1.1 in /usr/local/lib/python3.10/dist-packages (from aiohttp->datasets) (1.4.1)\n",
            "Requirement already satisfied: multidict<7.0,>=4.5 in /usr/local/lib/python3.10/dist-packages (from aiohttp->datasets) (6.0.5)\n",
            "Requirement already satisfied: yarl<2.0,>=1.0 in /usr/local/lib/python3.10/dist-packages (from aiohttp->datasets) (1.9.4)\n",
            "Requirement already satisfied: async-timeout<5.0,>=4.0 in /usr/local/lib/python3.10/dist-packages (from aiohttp->datasets) (4.0.3)\n",
            "Requirement already satisfied: typing-extensions>=3.7.4.3 in /usr/local/lib/python3.10/dist-packages (from huggingface-hub>=0.21.2->datasets) (4.11.0)\n",
            "Requirement already satisfied: charset-normalizer<4,>=2 in /usr/local/lib/python3.10/dist-packages (from requests>=2.19.0->datasets) (3.3.2)\n",
            "Requirement already satisfied: idna<4,>=2.5 in /usr/local/lib/python3.10/dist-packages (from requests>=2.19.0->datasets) (3.7)\n",
            "Requirement already satisfied: urllib3<3,>=1.21.1 in /usr/local/lib/python3.10/dist-packages (from requests>=2.19.0->datasets) (2.0.7)\n",
            "Requirement already satisfied: certifi>=2017.4.17 in /usr/local/lib/python3.10/dist-packages (from requests>=2.19.0->datasets) (2024.2.2)\n",
            "Requirement already satisfied: sympy in /usr/local/lib/python3.10/dist-packages (from torch->bitsandbytes) (1.12)\n",
            "Requirement already satisfied: networkx in /usr/local/lib/python3.10/dist-packages (from torch->bitsandbytes) (3.3)\n",
            "Requirement already satisfied: jinja2 in /usr/local/lib/python3.10/dist-packages (from torch->bitsandbytes) (3.1.4)\n",
            "Collecting nvidia-cuda-nvrtc-cu12==12.1.105 (from torch->bitsandbytes)\n",
            "  Using cached nvidia_cuda_nvrtc_cu12-12.1.105-py3-none-manylinux1_x86_64.whl (23.7 MB)\n",
            "Collecting nvidia-cuda-runtime-cu12==12.1.105 (from torch->bitsandbytes)\n",
            "  Using cached nvidia_cuda_runtime_cu12-12.1.105-py3-none-manylinux1_x86_64.whl (823 kB)\n",
            "Collecting nvidia-cuda-cupti-cu12==12.1.105 (from torch->bitsandbytes)\n",
            "  Using cached nvidia_cuda_cupti_cu12-12.1.105-py3-none-manylinux1_x86_64.whl (14.1 MB)\n",
            "Collecting nvidia-cudnn-cu12==8.9.2.26 (from torch->bitsandbytes)\n",
            "  Using cached nvidia_cudnn_cu12-8.9.2.26-py3-none-manylinux1_x86_64.whl (731.7 MB)\n",
            "Collecting nvidia-cublas-cu12==12.1.3.1 (from torch->bitsandbytes)\n",
            "  Using cached nvidia_cublas_cu12-12.1.3.1-py3-none-manylinux1_x86_64.whl (410.6 MB)\n",
            "Collecting nvidia-cufft-cu12==11.0.2.54 (from torch->bitsandbytes)\n",
            "  Using cached nvidia_cufft_cu12-11.0.2.54-py3-none-manylinux1_x86_64.whl (121.6 MB)\n",
            "Collecting nvidia-curand-cu12==10.3.2.106 (from torch->bitsandbytes)\n",
            "  Using cached nvidia_curand_cu12-10.3.2.106-py3-none-manylinux1_x86_64.whl (56.5 MB)\n",
            "Collecting nvidia-cusolver-cu12==11.4.5.107 (from torch->bitsandbytes)\n",
            "  Using cached nvidia_cusolver_cu12-11.4.5.107-py3-none-manylinux1_x86_64.whl (124.2 MB)\n",
            "Collecting nvidia-cusparse-cu12==12.1.0.106 (from torch->bitsandbytes)\n",
            "  Using cached nvidia_cusparse_cu12-12.1.0.106-py3-none-manylinux1_x86_64.whl (196.0 MB)\n",
            "Collecting nvidia-nccl-cu12==2.20.5 (from torch->bitsandbytes)\n",
            "  Using cached nvidia_nccl_cu12-2.20.5-py3-none-manylinux2014_x86_64.whl (176.2 MB)\n",
            "Collecting nvidia-nvtx-cu12==12.1.105 (from torch->bitsandbytes)\n",
            "  Using cached nvidia_nvtx_cu12-12.1.105-py3-none-manylinux1_x86_64.whl (99 kB)\n",
            "Requirement already satisfied: triton==2.3.0 in /usr/local/lib/python3.10/dist-packages (from torch->bitsandbytes) (2.3.0)\n",
            "Collecting nvidia-nvjitlink-cu12 (from nvidia-cusolver-cu12==11.4.5.107->torch->bitsandbytes)\n",
            "  Downloading nvidia_nvjitlink_cu12-12.5.40-py3-none-manylinux2014_x86_64.whl (21.3 MB)\n",
            "\u001b[2K     \u001b[90m━━━━━━━━━━━━━━━━━━━━━━━━━━━━━━━━━━━━━━━━\u001b[0m \u001b[32m21.3/21.3 MB\u001b[0m \u001b[31m30.1 MB/s\u001b[0m eta \u001b[36m0:00:00\u001b[0m\n",
            "\u001b[?25hRequirement already satisfied: regex!=2019.12.17 in /usr/local/lib/python3.10/dist-packages (from transformers->peft) (2023.12.25)\n",
            "Requirement already satisfied: tokenizers<0.20,>=0.19 in /usr/local/lib/python3.10/dist-packages (from transformers->peft) (0.19.1)\n",
            "Requirement already satisfied: docstring-parser>=0.14.1 in /usr/local/lib/python3.10/dist-packages (from tyro>=0.5.11->trl) (0.16)\n",
            "Requirement already satisfied: rich>=11.1.0 in /usr/local/lib/python3.10/dist-packages (from tyro>=0.5.11->trl) (13.7.1)\n",
            "Collecting shtab>=1.5.6 (from tyro>=0.5.11->trl)\n",
            "  Downloading shtab-1.7.1-py3-none-any.whl (14 kB)\n",
            "Requirement already satisfied: python-dateutil>=2.8.2 in /usr/local/lib/python3.10/dist-packages (from pandas->datasets) (2.8.2)\n",
            "Requirement already satisfied: pytz>=2020.1 in /usr/local/lib/python3.10/dist-packages (from pandas->datasets) (2023.4)\n",
            "Requirement already satisfied: tzdata>=2022.1 in /usr/local/lib/python3.10/dist-packages (from pandas->datasets) (2024.1)\n",
            "Requirement already satisfied: six>=1.5 in /usr/local/lib/python3.10/dist-packages (from python-dateutil>=2.8.2->pandas->datasets) (1.16.0)\n",
            "Requirement already satisfied: markdown-it-py>=2.2.0 in /usr/local/lib/python3.10/dist-packages (from rich>=11.1.0->tyro>=0.5.11->trl) (3.0.0)\n",
            "Requirement already satisfied: pygments<3.0.0,>=2.13.0 in /usr/local/lib/python3.10/dist-packages (from rich>=11.1.0->tyro>=0.5.11->trl) (2.16.1)\n",
            "Requirement already satisfied: MarkupSafe>=2.0 in /usr/local/lib/python3.10/dist-packages (from jinja2->torch->bitsandbytes) (2.1.5)\n",
            "Requirement already satisfied: mpmath>=0.19 in /usr/local/lib/python3.10/dist-packages (from sympy->torch->bitsandbytes) (1.3.0)\n",
            "Requirement already satisfied: mdurl~=0.1 in /usr/local/lib/python3.10/dist-packages (from markdown-it-py>=2.2.0->rich>=11.1.0->tyro>=0.5.11->trl) (0.1.2)\n",
            "Installing collected packages: xxhash, shtab, nvidia-nvtx-cu12, nvidia-nvjitlink-cu12, nvidia-nccl-cu12, nvidia-curand-cu12, nvidia-cufft-cu12, nvidia-cuda-runtime-cu12, nvidia-cuda-nvrtc-cu12, nvidia-cuda-cupti-cu12, nvidia-cublas-cu12, dill, nvidia-cusparse-cu12, nvidia-cudnn-cu12, multiprocess, tyro, nvidia-cusolver-cu12, datasets, bitsandbytes, accelerate, trl, peft\n",
            "Successfully installed accelerate-0.30.1 bitsandbytes-0.43.1 datasets-2.19.1 dill-0.3.8 multiprocess-0.70.16 nvidia-cublas-cu12-12.1.3.1 nvidia-cuda-cupti-cu12-12.1.105 nvidia-cuda-nvrtc-cu12-12.1.105 nvidia-cuda-runtime-cu12-12.1.105 nvidia-cudnn-cu12-8.9.2.26 nvidia-cufft-cu12-11.0.2.54 nvidia-curand-cu12-10.3.2.106 nvidia-cusolver-cu12-11.4.5.107 nvidia-cusparse-cu12-12.1.0.106 nvidia-nccl-cu12-2.20.5 nvidia-nvjitlink-cu12-12.5.40 nvidia-nvtx-cu12-12.1.105 peft-0.11.1 shtab-1.7.1 trl-0.8.6 tyro-0.8.4 xxhash-3.4.1\n"
          ]
        }
      ]
    },
    {
      "cell_type": "code",
      "source": [
        "import os\n",
        "import torch\n",
        "from datasets import Dataset, load_dataset\n",
        "from transformers import BitsAndBytesConfig\n",
        "from transformers import AutoModelForCausalLM, AutoTokenizer, set_seed\n",
        "\n",
        "def set_deterministic(seed):\n",
        "    # SET DETERMINISTIC\n",
        "    torch.backends.cudnn.benchmark = False\n",
        "    torch.backends.cudnn.deterministic = True\n",
        "    torch.use_deterministic_algorithms(True, warn_only=True)\n",
        "    os.putenv(\"CUBLAS_WORKSPACE_CONFIG\", \":4096:8\")\n",
        "    set_seed(seed, deterministic=True)"
      ],
      "metadata": {
        "id": "bfxdlnEkK1xi"
      },
      "execution_count": null,
      "outputs": []
    },
    {
      "cell_type": "code",
      "source": [
        "dataset = load_dataset(\"djagatiya/synthetic_text_to_sql_d14\")\n",
        "dataset"
      ],
      "metadata": {
        "colab": {
          "base_uri": "https://localhost:8080/",
          "height": 475,
          "referenced_widgets": [
            "b674767459b7429c84973a4282617d0d",
            "14cdff0d76f14d69b8f3b2a19bc355ab",
            "6ff32fdcbfaa4a0eb006a6bad80c0003",
            "ad42e3fb83254bac87e4270da2e036a7",
            "68ce93a630b8425e9cc5bdfddc7c738f",
            "f8b4775ed2d9481381a8e839ebe70805",
            "7023487e77f24d32906e938864324357",
            "7884a60c3c584eb8a8795246f9a941a8",
            "9c82564d98a046e5bceef88db9aee1d5",
            "15399ffab5ea4d30aa1a552059610d24",
            "86aae9ce66f047b88705b0643238d190",
            "eacb247f3378445da2578754bd36076d",
            "3a8932ac3f0e4c0d8f1a51cad236ecd1",
            "ada66a759b5641179c0d1a717b895958",
            "2ed4541e0cfc463381826326cbbccc0f",
            "c2046a7f227846588dc8b3c425afefe0",
            "b86d89c0ddca4ba1a089582289dd3643",
            "c835e08ee51a4883bac6e75ccf558941",
            "4eab65a856b148fdbe767eb778e0e997",
            "3bf1cdcf6c4e4f8681be4811c07fd9d8",
            "c2bbbf675d1c4ad7a7c47f66302ebae5",
            "ee9f3aea34994544a3979b8b587e4655",
            "9ea1278f131f450aaa00aa38eb01c932",
            "319ab16ca7524546b391021da5ab43d6",
            "77fbb4c001a540ebbebc4abce2aee165",
            "1b2586d6554d465cabc16b9109f30125",
            "659390c80d204f438b05dad68a49f053",
            "dec457f3e55c4fc386489fbee474f68c",
            "e92a4576ccbf4ddd82d0fa379e5a0b9b",
            "0f660dd22568457f9d80333943a51dbd",
            "9c27b2c02aee4ca38caac2a9fafcc691",
            "54ac9eacc3fc4d0a8ac3f7a254e5a0f3",
            "d8e76d3066974d3eb19c0da5090503cd",
            "d298eae7a4074a7f8c0719ab0120f56a",
            "e42d22ebb6094f4b89f8353b2805a381",
            "445ca18bc94040bc9e2971a3d0f48db6",
            "17999f8b4c4a497d934421d16f68c156",
            "ce2dd5b7bdfa4207af2919c91bc1e56f",
            "af3a21cde1c649dca9b9703edb332b85",
            "98fccd8bec324fb3a902a189a35a408f",
            "2829411f8b274d9b820d4acd6448418d",
            "db291b53537a4b8c884861d0acd1c654",
            "e3c47678a1804f558415346e12d4ba9d",
            "94555e391ec343d6baeca4a4f53a6f46",
            "0c852898161440e2836245776b4a6972",
            "60bec06fcfca40729e5c01023ca0b8b9",
            "657fbe359cc442749a2e20b4ca50636d",
            "a5b4563849cd417a8597619c23727f1f",
            "6823f1b3a5e0446a953413d8bb8a1538",
            "e95c6c8886524358b8e4e652e6f074d0",
            "f87ae37d6354492d988af7f7ecd1f33e",
            "77f3d1fcfa4d42ba9f931332a550024c",
            "e9315fa1f1be4c158e007a527d55b85c",
            "76ef2f98521d4db682c4a140a113f77d",
            "4f0dc8ab17454a84bf83fa7a34275a38"
          ]
        },
        "id": "fxEMdJ7pLUEb",
        "outputId": "2a04c70f-d377-4428-92bc-b1f5e9963648"
      },
      "execution_count": null,
      "outputs": [
        {
          "output_type": "stream",
          "name": "stderr",
          "text": [
            "/usr/local/lib/python3.10/dist-packages/huggingface_hub/utils/_token.py:89: UserWarning: \n",
            "The secret `HF_TOKEN` does not exist in your Colab secrets.\n",
            "To authenticate with the Hugging Face Hub, create a token in your settings tab (https://huggingface.co/settings/tokens), set it as secret in your Google Colab and restart your session.\n",
            "You will be able to reuse this secret in all of your notebooks.\n",
            "Please note that authentication is recommended but still optional to access public models or datasets.\n",
            "  warnings.warn(\n"
          ]
        },
        {
          "output_type": "display_data",
          "data": {
            "text/plain": [
              "Downloading readme:   0%|          | 0.00/1.57k [00:00<?, ?B/s]"
            ],
            "application/vnd.jupyter.widget-view+json": {
              "version_major": 2,
              "version_minor": 0,
              "model_id": "b674767459b7429c84973a4282617d0d"
            }
          },
          "metadata": {}
        },
        {
          "output_type": "display_data",
          "data": {
            "text/plain": [
              "Downloading data:   0%|          | 0.00/1.48M [00:00<?, ?B/s]"
            ],
            "application/vnd.jupyter.widget-view+json": {
              "version_major": 2,
              "version_minor": 0,
              "model_id": "eacb247f3378445da2578754bd36076d"
            }
          },
          "metadata": {}
        },
        {
          "output_type": "display_data",
          "data": {
            "text/plain": [
              "Downloading data:   0%|          | 0.00/95.7k [00:00<?, ?B/s]"
            ],
            "application/vnd.jupyter.widget-view+json": {
              "version_major": 2,
              "version_minor": 0,
              "model_id": "9ea1278f131f450aaa00aa38eb01c932"
            }
          },
          "metadata": {}
        },
        {
          "output_type": "display_data",
          "data": {
            "text/plain": [
              "Generating train split:   0%|          | 0/6713 [00:00<?, ? examples/s]"
            ],
            "application/vnd.jupyter.widget-view+json": {
              "version_major": 2,
              "version_minor": 0,
              "model_id": "d298eae7a4074a7f8c0719ab0120f56a"
            }
          },
          "metadata": {}
        },
        {
          "output_type": "display_data",
          "data": {
            "text/plain": [
              "Generating test split:   0%|          | 0/408 [00:00<?, ? examples/s]"
            ],
            "application/vnd.jupyter.widget-view+json": {
              "version_major": 2,
              "version_minor": 0,
              "model_id": "0c852898161440e2836245776b4a6972"
            }
          },
          "metadata": {}
        },
        {
          "output_type": "execute_result",
          "data": {
            "text/plain": [
              "DatasetDict({\n",
              "    train: Dataset({\n",
              "        features: ['id', 'domain', 'sql_complexity', 'sql_prompt', 'sql_context', 'sql'],\n",
              "        num_rows: 6713\n",
              "    })\n",
              "    test: Dataset({\n",
              "        features: ['id', 'domain', 'sql_complexity', 'sql_prompt', 'sql_context', 'sql'],\n",
              "        num_rows: 408\n",
              "    })\n",
              "})"
            ]
          },
          "metadata": {},
          "execution_count": 3
        }
      ]
    },
    {
      "cell_type": "code",
      "source": [
        "dataset['train'][0]"
      ],
      "metadata": {
        "colab": {
          "base_uri": "https://localhost:8080/"
        },
        "id": "mASwD8nhLmsM",
        "outputId": "d635aeba-de10-46a5-e8d3-db6023a8bd64"
      },
      "execution_count": null,
      "outputs": [
        {
          "output_type": "execute_result",
          "data": {
            "text/plain": [
              "{'id': 5131,\n",
              " 'domain': 'healthcare',\n",
              " 'sql_complexity': 'basic SQL',\n",
              " 'sql_prompt': 'What is the minimum cultural competency score by worker?',\n",
              " 'sql_context': 'CREATE TABLE worker_scores (worker_id INT, score INT); INSERT INTO worker_scores (worker_id, score) VALUES (1, 95), (2, 88), (3, 72);',\n",
              " 'sql': 'SELECT worker_id, MIN(score) FROM worker_scores;'}"
            ]
          },
          "metadata": {},
          "execution_count": 4
        }
      ]
    },
    {
      "cell_type": "markdown",
      "source": [
        "### Prepare Dataset"
      ],
      "metadata": {
        "id": "SbIYs-HvNaef"
      }
    },
    {
      "cell_type": "code",
      "source": [
        "SQL_PROMPT = \"\"\"\n",
        "Instruct: Write SQL query of question asked by user based on following database structure context.\n",
        "Context: {context}\n",
        "Question: {question}\n",
        "Output: {sql}\n",
        "<|endoftext|>\n",
        "\"\"\"\n",
        "\n",
        "def prepare_dataset(sample):\n",
        "\n",
        "    sample['text'] = SQL_PROMPT.format(\n",
        "        context=sample['sql_context'],\n",
        "        question=sample['sql_prompt'],\n",
        "        sql=sample['sql']\n",
        "    ).strip()\n",
        "\n",
        "    return sample"
      ],
      "metadata": {
        "id": "qDLf1ZpxLT37"
      },
      "execution_count": null,
      "outputs": []
    },
    {
      "cell_type": "code",
      "source": [
        "dataset = dataset.map(prepare_dataset)"
      ],
      "metadata": {
        "colab": {
          "base_uri": "https://localhost:8080/",
          "height": 81,
          "referenced_widgets": [
            "6362d5a105b54386be358cb5aaa4a786",
            "ca6229c8949544dcb73776d537c10368",
            "68f55c010eae40bd817cd800d9309870",
            "b8e55c1c732d41f189ff933022217cfc",
            "346125f8c2744e8faa4ed1fc18b9ad03",
            "1418b13776b049f69eeac096322ff3e2",
            "d3c50368d40d4a0ca1b9d4f1cc0c98b2",
            "9b9ad698b5a246ad81682932fa7915ac",
            "a31bd84a5ecb4b428604f486b4d3e37b",
            "c830364388d64a7896df978111633e77",
            "e9cd105450a642c4aa05e7ddc73857fd",
            "1f45ddc436b54f0c839ece1588ce9a58",
            "b2a86e3bfe104ce8a04c093a1ecf8637",
            "da7f78dae3574541aea355b5f7011d71",
            "a7a8d0355c184f458da5bf6a02e77343",
            "fd0cca09dadb4e129fded974a13aeff5",
            "bf97c3f79ac4484a82ddc364a242be65",
            "a3d80b8d1db04338bafeecb8f4be8945",
            "5674414b8a4941519d6f3024d5c7b603",
            "c7a40c90d7b14b05aaab7a2cc12f6c10",
            "ba5afda169bc45a2b346ec2e57518b98",
            "5c0ca01b1b11424dbaf5c5ec64e1dae4"
          ]
        },
        "id": "9VGIHSJDM5Ih",
        "outputId": "0b03d5a8-0f30-4092-cebd-61ae5db49d6d"
      },
      "execution_count": null,
      "outputs": [
        {
          "output_type": "display_data",
          "data": {
            "text/plain": [
              "Map:   0%|          | 0/6713 [00:00<?, ? examples/s]"
            ],
            "application/vnd.jupyter.widget-view+json": {
              "version_major": 2,
              "version_minor": 0,
              "model_id": "6362d5a105b54386be358cb5aaa4a786"
            }
          },
          "metadata": {}
        },
        {
          "output_type": "display_data",
          "data": {
            "text/plain": [
              "Map:   0%|          | 0/408 [00:00<?, ? examples/s]"
            ],
            "application/vnd.jupyter.widget-view+json": {
              "version_major": 2,
              "version_minor": 0,
              "model_id": "1f45ddc436b54f0c839ece1588ce9a58"
            }
          },
          "metadata": {}
        }
      ]
    },
    {
      "cell_type": "code",
      "source": [
        "print(dataset['train'][0]['text'])"
      ],
      "metadata": {
        "colab": {
          "base_uri": "https://localhost:8080/"
        },
        "id": "FzE23TNVM8NM",
        "outputId": "8f5448e5-363e-4375-8c90-747548299569"
      },
      "execution_count": null,
      "outputs": [
        {
          "output_type": "stream",
          "name": "stdout",
          "text": [
            "Instruct: Write SQL query of question asked by user based on following database structure context.\n",
            "Context: CREATE TABLE worker_scores (worker_id INT, score INT); INSERT INTO worker_scores (worker_id, score) VALUES (1, 95), (2, 88), (3, 72);\n",
            "Question: What is the minimum cultural competency score by worker?\n",
            "Output: SELECT worker_id, MIN(score) FROM worker_scores;\n",
            "<|endoftext|>\n"
          ]
        }
      ]
    },
    {
      "cell_type": "markdown",
      "source": [
        "### Model Building"
      ],
      "metadata": {
        "id": "Zg1Z5c1B2qac"
      }
    },
    {
      "cell_type": "code",
      "source": [
        "model_name='microsoft/phi-2'"
      ],
      "metadata": {
        "id": "6GWe84ueN0BB"
      },
      "execution_count": null,
      "outputs": []
    },
    {
      "cell_type": "code",
      "source": [
        "tokenizer = AutoTokenizer.from_pretrained(\n",
        "    model_name,\n",
        "    padding_side=\"left\",\n",
        "    use_fast=False,\n",
        "    trust_remote_code=True\n",
        ")\n",
        "tokenizer.add_special_tokens({'pad_token': '<|padding|>'})\n",
        "print(tokenizer.all_special_tokens)"
      ],
      "metadata": {
        "colab": {
          "base_uri": "https://localhost:8080/",
          "height": 264,
          "referenced_widgets": [
            "c297d43f6fcb41948820e872e72a8fb2",
            "67eeb2654674481cbc75a996f09fbfdf",
            "0ff9c14e2119403daa6630197757dff2",
            "3bcd33395c0e44a486e90086580fbb04",
            "01ea85d527e04257b88b69700740ee23",
            "25f76c4e17e9438295aa803b33c56149",
            "a7f7f29fac344882847ed6dd883a8516",
            "233721379ee14a328e6898d71a44818e",
            "6684f4ed329c4915bcc076a0ed657939",
            "32b2db82f94b4adf98a4c0068cd8adf6",
            "bb6dc497d5a449c6bf23bf9fdee7b670",
            "1540718316e443598cf6f44567e1fe84",
            "868e7cff901743238cfab288c1310219",
            "3d97fb55e7464650bbd2f941745f7495",
            "d210e6282e8e4e939ac0482a46bc5a78",
            "217643eb22204cc5ba83a85cafb2bca7",
            "19eeced442474c19af6d5eb917c6479a",
            "22c4bb1b890b41ba9d5a9b236b012bc9",
            "30d0ab1bf323459684824a0fcf6f5609",
            "802135d62a664cc991dec29f3117d7d2",
            "16559b3274c9486b9b53442428143add",
            "6374207233be46638176178b6094983b",
            "3e0e5d3f41054035b58725f4b7159101",
            "59304aaf3f8e409cbad68e5dfe8ddd33",
            "eaaa88c684c44f2e84911854c69a2cf6",
            "27a2c0ee100b4888bb6e2d55ad6fed44",
            "699cd992e40c4831adeee2c6d0e65272",
            "04bb86f33b9d4d7789f6c46b60f47aea",
            "d7b57048fe4b40d999512f69a9fef471",
            "547b22dfe1e848bdbcb9272222933eb5",
            "452a88d1e90e401d92869aa15ea9ea06",
            "ca6f775c14254fedbdbe219d9a6c0870",
            "0cd2142237e8459882f88162f1add727",
            "809e48e61ae24507830ece23b799a49b",
            "4f4c3015039146ee86f1b53d78eff737",
            "6359ca3af5d347a4bbdb1f5fafff6e19",
            "7adfe5f5091845e7b29574dfbcd5ba41",
            "af628ce873074b4f884d21aa3aa91f4e",
            "db71f0025b1947219baf24672b621b93",
            "bcfb48fc93d747d3bfbfa7b7dc7909d9",
            "9878c73b27704fc9b1a379c6d9dc7228",
            "7fcc98dfc5594c038c9ff4a1177e3887",
            "ded9eedb026e4599b2c15dedfa0e0621",
            "fb1892654eaf49b695d6a6a4b17b91a4",
            "76834fb7788e4d2c8619a71c3e49bd89",
            "a68f7e6d7aeb41d69fecf87585063026",
            "b1c26b1618dd4b40a7a9637794f5ab5b",
            "ecfd445d3fce41c9b3b2cf8e38feb528",
            "4262eb1dc254431c8940f89131a95474",
            "8e7f7a683e57455b8edfb58a74b9b304",
            "d0bbcf615158453b99143877dec3eb51",
            "8eb081ea8dc6413b833b186a6626bee0",
            "88cc4b82c1b242c480c400988b3ed30d",
            "f0ae98e420e44268883ddae58a1a6918",
            "d585308d6bb64f8c8171af838506fe38",
            "c4402960083a47e6b495031380eeca9f",
            "502e63038ef544dc9e2862e9b951272c",
            "56d082ccd8f84ad79c7523bf60a39ad1",
            "9f21d74c3a4d4796aa1f7c40f165b3ef",
            "7eae4f39410b4385b13c167d9bbb715e",
            "5cf0a9ed2f61460781bcd9ac9ed738d2",
            "c3c55ba1cd384fdc803ff3e71e6f8dee",
            "120d82940bd746b68fb32d79d8642d1c",
            "40118636efbf419282fdc38cd79ad50f",
            "040f54b0bab741a2aef1b185ebf967a1",
            "f8f3153308c74499936a6f78356d46f7"
          ]
        },
        "id": "k1J7hXX1Nz3L",
        "outputId": "88f87d26-c82b-4350-c416-9c734c0fadef"
      },
      "execution_count": null,
      "outputs": [
        {
          "output_type": "display_data",
          "data": {
            "text/plain": [
              "tokenizer_config.json:   0%|          | 0.00/7.34k [00:00<?, ?B/s]"
            ],
            "application/vnd.jupyter.widget-view+json": {
              "version_major": 2,
              "version_minor": 0,
              "model_id": "c297d43f6fcb41948820e872e72a8fb2"
            }
          },
          "metadata": {}
        },
        {
          "output_type": "display_data",
          "data": {
            "text/plain": [
              "vocab.json:   0%|          | 0.00/798k [00:00<?, ?B/s]"
            ],
            "application/vnd.jupyter.widget-view+json": {
              "version_major": 2,
              "version_minor": 0,
              "model_id": "1540718316e443598cf6f44567e1fe84"
            }
          },
          "metadata": {}
        },
        {
          "output_type": "display_data",
          "data": {
            "text/plain": [
              "merges.txt:   0%|          | 0.00/456k [00:00<?, ?B/s]"
            ],
            "application/vnd.jupyter.widget-view+json": {
              "version_major": 2,
              "version_minor": 0,
              "model_id": "3e0e5d3f41054035b58725f4b7159101"
            }
          },
          "metadata": {}
        },
        {
          "output_type": "display_data",
          "data": {
            "text/plain": [
              "added_tokens.json:   0%|          | 0.00/1.08k [00:00<?, ?B/s]"
            ],
            "application/vnd.jupyter.widget-view+json": {
              "version_major": 2,
              "version_minor": 0,
              "model_id": "809e48e61ae24507830ece23b799a49b"
            }
          },
          "metadata": {}
        },
        {
          "output_type": "display_data",
          "data": {
            "text/plain": [
              "special_tokens_map.json:   0%|          | 0.00/99.0 [00:00<?, ?B/s]"
            ],
            "application/vnd.jupyter.widget-view+json": {
              "version_major": 2,
              "version_minor": 0,
              "model_id": "76834fb7788e4d2c8619a71c3e49bd89"
            }
          },
          "metadata": {}
        },
        {
          "output_type": "display_data",
          "data": {
            "text/plain": [
              "tokenizer.json:   0%|          | 0.00/2.11M [00:00<?, ?B/s]"
            ],
            "application/vnd.jupyter.widget-view+json": {
              "version_major": 2,
              "version_minor": 0,
              "model_id": "c4402960083a47e6b495031380eeca9f"
            }
          },
          "metadata": {}
        },
        {
          "output_type": "stream",
          "name": "stderr",
          "text": [
            "Special tokens have been added in the vocabulary, make sure the associated word embeddings are fine-tuned or trained.\n"
          ]
        },
        {
          "output_type": "stream",
          "name": "stdout",
          "text": [
            "['<|endoftext|>', '<|padding|>']\n"
          ]
        }
      ]
    },
    {
      "cell_type": "code",
      "source": [
        "encoded = tokenizer(\"Hello world<|endoftext|>\", add_special_tokens=True, max_length=10, padding='max_length')\n",
        "encoded"
      ],
      "metadata": {
        "colab": {
          "base_uri": "https://localhost:8080/"
        },
        "id": "JG0BjUjQNVwU",
        "outputId": "d5a5f36b-56eb-4f63-e668-2aa4cbdcd0fc"
      },
      "execution_count": null,
      "outputs": [
        {
          "output_type": "execute_result",
          "data": {
            "text/plain": [
              "{'input_ids': [50295, 50295, 50295, 50295, 50295, 50295, 50295, 15496, 995, 50256], 'attention_mask': [0, 0, 0, 0, 0, 0, 0, 1, 1, 1]}"
            ]
          },
          "metadata": {},
          "execution_count": 19
        }
      ]
    },
    {
      "cell_type": "code",
      "source": [
        "tokenizer.convert_ids_to_tokens(encoded['input_ids'], skip_special_tokens=False)"
      ],
      "metadata": {
        "colab": {
          "base_uri": "https://localhost:8080/"
        },
        "id": "BFD849qGNVuH",
        "outputId": "4ca970a5-5f4b-46e4-a537-709089c82fdc"
      },
      "execution_count": null,
      "outputs": [
        {
          "output_type": "execute_result",
          "data": {
            "text/plain": [
              "['<|padding|>',\n",
              " '<|padding|>',\n",
              " '<|padding|>',\n",
              " '<|padding|>',\n",
              " '<|padding|>',\n",
              " '<|padding|>',\n",
              " '<|padding|>',\n",
              " 'Hello',\n",
              " 'Ġworld',\n",
              " '<|endoftext|>']"
            ]
          },
          "metadata": {},
          "execution_count": 20
        }
      ]
    },
    {
      "cell_type": "code",
      "source": [
        "train_max_len = max([len(tokenizer.encode(t)) for t in dataset['train']['text']])\n",
        "train_max_len"
      ],
      "metadata": {
        "colab": {
          "base_uri": "https://localhost:8080/"
        },
        "id": "QOE1fjCoNVk9",
        "outputId": "ca3e21fe-423d-4a5d-9bb4-079f70395cd6"
      },
      "execution_count": null,
      "outputs": [
        {
          "output_type": "execute_result",
          "data": {
            "text/plain": [
              "534"
            ]
          },
          "metadata": {},
          "execution_count": 28
        }
      ]
    },
    {
      "cell_type": "code",
      "source": [
        "# Free memory\n",
        "import gc\n",
        "if 'model' in globals():\n",
        "    print(\"Existing model deleted.\")\n",
        "    del model\n",
        "gc.collect()\n",
        "torch.cuda.empty_cache()\n",
        "\n",
        "# Set Seed\n",
        "set_deterministic(1)\n",
        "\n",
        "bnb_config = BitsAndBytesConfig(\n",
        "    load_in_4bit=True,\n",
        "    bnb_4bit_quant_type='nf4',\n",
        "    bnb_4bit_compute_dtype='float16',\n",
        "    bnb_4bit_use_double_quant=False,\n",
        ")\n",
        "\n",
        "model = AutoModelForCausalLM.from_pretrained(\n",
        "    model_name,\n",
        "    device_map=0,\n",
        "    quantization_config=bnb_config,\n",
        ")\n",
        "\n",
        "model.resize_token_embeddings(len(tokenizer))\n",
        "\n",
        "from peft import LoraConfig, get_peft_model\n",
        "\n",
        "peft_config = LoraConfig(\n",
        "    lora_alpha=32,\n",
        "    lora_dropout=0.1,\n",
        "    r=64,\n",
        "    bias=\"none\",\n",
        "    task_type=\"CAUSAL_LM\",\n",
        "    target_modules=[\"q_proj\", \"k_proj\", \"mlp.fc1\", \"mlp.fc2\"],\n",
        "    modules_to_save=[\"lm_head\", \"embed_tokens\"]\n",
        ")\n",
        "\n",
        "model = get_peft_model(model, peft_config)\n",
        "\n",
        "model.print_trainable_parameters()"
      ],
      "metadata": {
        "colab": {
          "base_uri": "https://localhost:8080/",
          "height": 104,
          "referenced_widgets": [
            "db6cb6b0fe77473ea0237ea41b5c47ad",
            "83699ff773194fbcaafa8dc29e5d5f5d",
            "7c3b723311ef428298235a003f5feb25",
            "ed0fa5fcb8d74492a6a2dbea1a1352ad",
            "469bdb2d29914e93b67d3e63af9ba6a7",
            "0d4e1d791d2b498dab3d01cdd09df66c",
            "78de069401bf46d1baa50b16d4bc2bcc",
            "f3b01bbc02244b2d8fd8ed573c852b2d",
            "0483e70095e04ab5913be568daec6001",
            "f74c979956f546589eba2615b4ffc503",
            "a84fd072d16441308481acbfdb932b12"
          ]
        },
        "id": "vr_TkeOzNVix",
        "outputId": "83efdea0-73af-423c-ece7-2bdb0f8bc66f"
      },
      "execution_count": null,
      "outputs": [
        {
          "output_type": "stream",
          "name": "stdout",
          "text": [
            "Existing model deleted.\n"
          ]
        },
        {
          "output_type": "display_data",
          "data": {
            "text/plain": [
              "Loading checkpoint shards:   0%|          | 0/2 [00:00<?, ?it/s]"
            ],
            "application/vnd.jupyter.widget-view+json": {
              "version_major": 2,
              "version_minor": 0,
              "model_id": "db6cb6b0fe77473ea0237ea41b5c47ad"
            }
          },
          "metadata": {}
        },
        {
          "output_type": "stream",
          "name": "stdout",
          "text": [
            "trainable params: 330,966,136 || all params: 3,106,020,592 || trainable%: 10.6556\n"
          ]
        }
      ]
    },
    {
      "cell_type": "code",
      "source": [
        "from trl import SFTTrainer, DataCollatorForCompletionOnlyLM\n",
        "from transformers import DataCollatorForLanguageModeling, TrainingArguments"
      ],
      "metadata": {
        "id": "l290GcLlNVge"
      },
      "execution_count": null,
      "outputs": []
    },
    {
      "cell_type": "code",
      "source": [
        "response_template_with_context = \"\\nOutput:\"\n",
        "response_template_ids = tokenizer.encode(response_template_with_context, add_special_tokens=False)\n",
        "response_template_ids"
      ],
      "metadata": {
        "colab": {
          "base_uri": "https://localhost:8080/"
        },
        "id": "8lAlUzW4Pvfk",
        "outputId": "a71acac8-e731-4a4b-a852-1e2550755031"
      },
      "execution_count": null,
      "outputs": [
        {
          "output_type": "execute_result",
          "data": {
            "text/plain": [
              "[198, 26410, 25]"
            ]
          },
          "metadata": {},
          "execution_count": 62
        }
      ]
    },
    {
      "cell_type": "code",
      "source": [
        "collator = DataCollatorForCompletionOnlyLM(\n",
        "    response_template_ids,\n",
        "    tokenizer=tokenizer,\n",
        "    mlm=False\n",
        ")"
      ],
      "metadata": {
        "id": "1p8SVTXmPsem"
      },
      "execution_count": null,
      "outputs": []
    },
    {
      "cell_type": "code",
      "source": [
        "train_ds, test_ds = dataset['train'], dataset['test']"
      ],
      "metadata": {
        "id": "BV8VZB15RAMx"
      },
      "execution_count": null,
      "outputs": []
    },
    {
      "cell_type": "code",
      "source": [
        "args = TrainingArguments(\n",
        "    per_device_train_batch_size=1,\n",
        "    gradient_accumulation_steps=4,\n",
        "    per_device_eval_batch_size=1,\n",
        "    num_train_epochs=2,\n",
        "    # learning_rate=1e-4,\n",
        "    optim=\"adamw_8bit\",\n",
        "    output_dir=\"model2\",\n",
        "    # save_embedding_layers=True,\n",
        "    logging_strategy='steps',\n",
        "    save_strategy='steps',\n",
        "    evaluation_strategy='steps',\n",
        "    eval_steps=300,\n",
        "    logging_steps=300,\n",
        "    save_steps=300,\n",
        "    save_only_model=True\n",
        ")\n",
        "\n",
        "trainer = SFTTrainer(\n",
        "    model,\n",
        "    tokenizer=tokenizer,\n",
        "    data_collator=collator,\n",
        "    args=args,\n",
        "    dataset_text_field='text',\n",
        "    train_dataset=train_ds,\n",
        "    eval_dataset=test_ds,\n",
        "    max_seq_length=600\n",
        ")\n",
        "\n",
        "trainer.train()"
      ],
      "metadata": {
        "colab": {
          "base_uri": "https://localhost:8080/",
          "height": 832
        },
        "id": "JBq4zIdtNVeN",
        "outputId": "70929714-4969-4962-a6e6-71629b3d6d31"
      },
      "execution_count": null,
      "outputs": [
        {
          "metadata": {
            "tags": null
          },
          "name": "stderr",
          "output_type": "stream",
          "text": [
            "/usr/local/lib/python3.10/dist-packages/transformers/training_args.py:1474: FutureWarning: `evaluation_strategy` is deprecated and will be removed in version 4.46 of 🤗 Transformers. Use `eval_strategy` instead\n",
            "  warnings.warn(\n",
            "/usr/local/lib/python3.10/dist-packages/trl/trainer/sft_trainer.py:318: UserWarning: You passed a tokenizer with `padding_side` not equal to `right` to the SFTTrainer. This might lead to some unexpected behaviour due to overflow issues when training a model in half-precision. You might consider adding `tokenizer.padding_side = 'right'` to your code.\n",
            "  warnings.warn(\n"
          ]
        },
        {
          "data": {
            "text/html": [
              "\n",
              "    <div>\n",
              "      \n",
              "      <progress value='1466' max='3356' style='width:300px; height:20px; vertical-align: middle;'></progress>\n",
              "      [1466/3356 59:00 < 1:16:11, 0.41 it/s, Epoch 0.87/2]\n",
              "    </div>\n",
              "    <table border=\"1\" class=\"dataframe\">\n",
              "  <thead>\n",
              " <tr style=\"text-align: left;\">\n",
              "      <th>Step</th>\n",
              "      <th>Training Loss</th>\n",
              "      <th>Validation Loss</th>\n",
              "    </tr>\n",
              "  </thead>\n",
              "  <tbody>\n",
              "    <tr>\n",
              "      <td>300</td>\n",
              "      <td>0.197300</td>\n",
              "      <td>0.170346</td>\n",
              "    </tr>\n",
              "    <tr>\n",
              "      <td>600</td>\n",
              "      <td>0.189900</td>\n",
              "      <td>0.162319</td>\n",
              "    </tr>\n",
              "    <tr>\n",
              "      <td>900</td>\n",
              "      <td>0.177800</td>\n",
              "      <td>0.159404</td>\n",
              "    </tr>\n",
              "    <tr>\n",
              "      <td>1200</td>\n",
              "      <td>0.176000</td>\n",
              "      <td>0.154415</td>\n",
              "    </tr>\n",
              "  </tbody>\n",
              "</table><p>"
            ],
            "text/plain": [
              "<IPython.core.display.HTML object>"
            ]
          },
          "metadata": {},
          "output_type": "display_data"
        },
        {
          "metadata": {
            "tags": null
          },
          "name": "stderr",
          "output_type": "stream",
          "text": [
            "/usr/local/lib/python3.10/dist-packages/huggingface_hub/file_download.py:1132: FutureWarning: `resume_download` is deprecated and will be removed in version 1.0.0. Downloads always resume when possible. If you want to force a new download, use `force_download=True`.\n",
            "  warnings.warn(\n",
            "/usr/local/lib/python3.10/dist-packages/peft/utils/save_and_load.py:209: UserWarning: Setting `save_embedding_layers` to `True` as the embedding layer has been resized during finetuning.\n",
            "  warnings.warn(\n"
          ]
        },
        {
          "output_type": "display_data",
          "data": {
            "text/plain": [
              "<IPython.core.display.HTML object>"
            ],
            "text/html": [
              "\n",
              "    <div>\n",
              "      \n",
              "      <progress value='3356' max='3356' style='width:300px; height:20px; vertical-align: middle;'></progress>\n",
              "      [3356/3356 2:12:07, Epoch 1/2]\n",
              "    </div>\n",
              "    <table border=\"1\" class=\"dataframe\">\n",
              "  <thead>\n",
              " <tr style=\"text-align: left;\">\n",
              "      <th>Step</th>\n",
              "      <th>Training Loss</th>\n",
              "      <th>Validation Loss</th>\n",
              "    </tr>\n",
              "  </thead>\n",
              "  <tbody>\n",
              "    <tr>\n",
              "      <td>300</td>\n",
              "      <td>0.197300</td>\n",
              "      <td>0.170346</td>\n",
              "    </tr>\n",
              "    <tr>\n",
              "      <td>600</td>\n",
              "      <td>0.189900</td>\n",
              "      <td>0.162319</td>\n",
              "    </tr>\n",
              "    <tr>\n",
              "      <td>900</td>\n",
              "      <td>0.177800</td>\n",
              "      <td>0.159404</td>\n",
              "    </tr>\n",
              "    <tr>\n",
              "      <td>1200</td>\n",
              "      <td>0.176000</td>\n",
              "      <td>0.154415</td>\n",
              "    </tr>\n",
              "    <tr>\n",
              "      <td>1500</td>\n",
              "      <td>0.160100</td>\n",
              "      <td>0.149537</td>\n",
              "    </tr>\n",
              "    <tr>\n",
              "      <td>1800</td>\n",
              "      <td>0.147500</td>\n",
              "      <td>0.145144</td>\n",
              "    </tr>\n",
              "    <tr>\n",
              "      <td>2100</td>\n",
              "      <td>0.138400</td>\n",
              "      <td>0.139313</td>\n",
              "    </tr>\n",
              "    <tr>\n",
              "      <td>2400</td>\n",
              "      <td>0.133900</td>\n",
              "      <td>0.135821</td>\n",
              "    </tr>\n",
              "    <tr>\n",
              "      <td>2700</td>\n",
              "      <td>0.131400</td>\n",
              "      <td>0.136104</td>\n",
              "    </tr>\n",
              "    <tr>\n",
              "      <td>3000</td>\n",
              "      <td>0.125800</td>\n",
              "      <td>0.135440</td>\n",
              "    </tr>\n",
              "    <tr>\n",
              "      <td>3300</td>\n",
              "      <td>0.127500</td>\n",
              "      <td>0.134419</td>\n",
              "    </tr>\n",
              "  </tbody>\n",
              "</table><p>"
            ]
          },
          "metadata": {}
        },
        {
          "output_type": "execute_result",
          "data": {
            "text/plain": [
              "TrainOutput(global_step=3356, training_loss=0.15461336415487478, metrics={'train_runtime': 7930.59, 'train_samples_per_second': 1.693, 'train_steps_per_second': 0.423, 'total_flos': 4.043936056164211e+16, 'train_loss': 0.15461336415487478, 'epoch': 1.9997020706092656})"
            ]
          },
          "metadata": {},
          "execution_count": 65
        }
      ]
    },
    {
      "cell_type": "markdown",
      "source": [
        "### Evaluation"
      ],
      "metadata": {
        "id": "K8itz4YV3W4f"
      }
    },
    {
      "cell_type": "code",
      "source": [
        "!zip -rj checkpoint-3300.zip /content/model2/checkpoint-3300"
      ],
      "metadata": {
        "colab": {
          "base_uri": "https://localhost:8080/"
        },
        "id": "iVBK_ZCiNVcB",
        "outputId": "cbb10e4a-257a-4937-c9ea-b52ee13b67af"
      },
      "execution_count": null,
      "outputs": [
        {
          "output_type": "stream",
          "name": "stdout",
          "text": [
            "  adding: trainer_state.json (deflated 75%)\n",
            "  adding: tokenizer_config.json (deflated 93%)\n",
            "  adding: README.md (deflated 66%)\n",
            "  adding: special_tokens_map.json (deflated 79%)\n",
            "  adding: added_tokens.json (deflated 82%)\n",
            "  adding: merges.txt (deflated 53%)\n",
            "  adding: adapter_config.json (deflated 52%)\n",
            "  adding: vocab.json (deflated 68%)\n",
            "  adding: training_args.bin (deflated 51%)\n",
            "  adding: adapter_model.safetensors (deflated 8%)\n"
          ]
        }
      ]
    },
    {
      "cell_type": "code",
      "source": [
        "!cp /content/checkpoint-3300.zip /content/drive/MyDrive"
      ],
      "metadata": {
        "id": "7XdUO9dBNVZg"
      },
      "execution_count": null,
      "outputs": []
    },
    {
      "cell_type": "code",
      "source": [
        "!unzip /content/drive/MyDrive/checkpoint-3300.zip -d phi2_text2sql"
      ],
      "metadata": {
        "colab": {
          "base_uri": "https://localhost:8080/"
        },
        "id": "8CTT2efZ3hpQ",
        "outputId": "6e99ebfd-e341-4737-ec1b-4eb7eae02b22"
      },
      "execution_count": null,
      "outputs": [
        {
          "output_type": "stream",
          "name": "stdout",
          "text": [
            "Archive:  /content/drive/MyDrive/checkpoint-3300.zip\n",
            "  inflating: phi2_text2sql/trainer_state.json  \n",
            "  inflating: phi2_text2sql/tokenizer_config.json  \n",
            "  inflating: phi2_text2sql/README.md  \n",
            "  inflating: phi2_text2sql/special_tokens_map.json  \n",
            "  inflating: phi2_text2sql/added_tokens.json  \n",
            "  inflating: phi2_text2sql/merges.txt  \n",
            "  inflating: phi2_text2sql/adapter_config.json  \n",
            "  inflating: phi2_text2sql/vocab.json  \n",
            "  inflating: phi2_text2sql/training_args.bin  \n",
            "  inflating: phi2_text2sql/adapter_model.safetensors  \n"
          ]
        }
      ]
    },
    {
      "cell_type": "code",
      "source": [
        "load_model_name = '/content/phi2_text2sql'\n",
        "\n",
        "tokenizer = AutoTokenizer.from_pretrained(\n",
        "    load_model_name,\n",
        "    padding_side=\"left\",\n",
        "    use_fast=False,\n",
        "    trust_remote_code=True\n",
        ")\n",
        "\n",
        "model = AutoModelForCausalLM.from_pretrained(\n",
        "    'microsoft/phi-2',\n",
        "    device_map=0,\n",
        "    quantization_config=BitsAndBytesConfig(\n",
        "    load_in_4bit=True,\n",
        "    bnb_4bit_quant_type='nf4',\n",
        "    bnb_4bit_compute_dtype='float16',\n",
        "    bnb_4bit_use_double_quant=False)\n",
        ")\n",
        "\n",
        "model.resize_token_embeddings(len(tokenizer))\n",
        "\n",
        "from peft import PeftModel\n",
        "\n",
        "# Load the LoRA model\n",
        "inference_model = PeftModel.from_pretrained(model, load_model_name)\n",
        "inference_model = inference_model.eval()"
      ],
      "metadata": {
        "id": "un9SOZLLNVXO",
        "colab": {
          "base_uri": "https://localhost:8080/",
          "height": 66,
          "referenced_widgets": [
            "aad6b7a9cd32478599c7c5f3f3586ca3",
            "9778be40cb73448b9a13ccf8ffb316bb",
            "c2181afdd53c497992195107a18f1f9c",
            "41642342ed30441bb7b3130c59357148",
            "5d5c46144a474210b5ad3dd3fb66826c",
            "c3d1f9c804704b3da677c6e669058a18",
            "7699979bd1f94a958299d8e6918ad7cf",
            "3a4bcd323d484a108fa190d02ffd8697",
            "51d7056dc1b64c59b28447244fd8ad29",
            "3f62d2331e224962ac0724f85996fa1a",
            "5c385eee786b4a72a3f92461d8b07e8e"
          ]
        },
        "outputId": "d1521539-1a64-4825-ebb9-4f8b9ca8998b"
      },
      "execution_count": null,
      "outputs": [
        {
          "output_type": "stream",
          "name": "stderr",
          "text": [
            "Special tokens have been added in the vocabulary, make sure the associated word embeddings are fine-tuned or trained.\n"
          ]
        },
        {
          "output_type": "display_data",
          "data": {
            "text/plain": [
              "Loading checkpoint shards:   0%|          | 0/2 [00:00<?, ?it/s]"
            ],
            "application/vnd.jupyter.widget-view+json": {
              "version_major": 2,
              "version_minor": 0,
              "model_id": "aad6b7a9cd32478599c7c5f3f3586ca3"
            }
          },
          "metadata": {}
        }
      ]
    },
    {
      "cell_type": "code",
      "source": [
        "inference_model"
      ],
      "metadata": {
        "colab": {
          "base_uri": "https://localhost:8080/"
        },
        "id": "rj5eRubY-JVC",
        "outputId": "929ae35c-3d60-4ab9-9dac-62890c264abd"
      },
      "execution_count": null,
      "outputs": [
        {
          "output_type": "execute_result",
          "data": {
            "text/plain": [
              "PeftModelForCausalLM(\n",
              "  (base_model): LoraModel(\n",
              "    (model): PhiForCausalLM(\n",
              "      (model): PhiModel(\n",
              "        (embed_tokens): ModulesToSaveWrapper(\n",
              "          (original_module): Embedding(50296, 2560)\n",
              "          (modules_to_save): ModuleDict(\n",
              "            (default): Embedding(50296, 2560)\n",
              "          )\n",
              "        )\n",
              "        (embed_dropout): Dropout(p=0.0, inplace=False)\n",
              "        (layers): ModuleList(\n",
              "          (0-31): 32 x PhiDecoderLayer(\n",
              "            (self_attn): PhiSdpaAttention(\n",
              "              (q_proj): lora.Linear4bit(\n",
              "                (base_layer): Linear4bit(in_features=2560, out_features=2560, bias=True)\n",
              "                (lora_dropout): ModuleDict(\n",
              "                  (default): Dropout(p=0.1, inplace=False)\n",
              "                )\n",
              "                (lora_A): ModuleDict(\n",
              "                  (default): Linear(in_features=2560, out_features=64, bias=False)\n",
              "                )\n",
              "                (lora_B): ModuleDict(\n",
              "                  (default): Linear(in_features=64, out_features=2560, bias=False)\n",
              "                )\n",
              "                (lora_embedding_A): ParameterDict()\n",
              "                (lora_embedding_B): ParameterDict()\n",
              "              )\n",
              "              (k_proj): lora.Linear4bit(\n",
              "                (base_layer): Linear4bit(in_features=2560, out_features=2560, bias=True)\n",
              "                (lora_dropout): ModuleDict(\n",
              "                  (default): Dropout(p=0.1, inplace=False)\n",
              "                )\n",
              "                (lora_A): ModuleDict(\n",
              "                  (default): Linear(in_features=2560, out_features=64, bias=False)\n",
              "                )\n",
              "                (lora_B): ModuleDict(\n",
              "                  (default): Linear(in_features=64, out_features=2560, bias=False)\n",
              "                )\n",
              "                (lora_embedding_A): ParameterDict()\n",
              "                (lora_embedding_B): ParameterDict()\n",
              "              )\n",
              "              (v_proj): Linear4bit(in_features=2560, out_features=2560, bias=True)\n",
              "              (dense): Linear4bit(in_features=2560, out_features=2560, bias=True)\n",
              "              (rotary_emb): PhiRotaryEmbedding()\n",
              "            )\n",
              "            (mlp): PhiMLP(\n",
              "              (activation_fn): NewGELUActivation()\n",
              "              (fc1): lora.Linear4bit(\n",
              "                (base_layer): Linear4bit(in_features=2560, out_features=10240, bias=True)\n",
              "                (lora_dropout): ModuleDict(\n",
              "                  (default): Dropout(p=0.1, inplace=False)\n",
              "                )\n",
              "                (lora_A): ModuleDict(\n",
              "                  (default): Linear(in_features=2560, out_features=64, bias=False)\n",
              "                )\n",
              "                (lora_B): ModuleDict(\n",
              "                  (default): Linear(in_features=64, out_features=10240, bias=False)\n",
              "                )\n",
              "                (lora_embedding_A): ParameterDict()\n",
              "                (lora_embedding_B): ParameterDict()\n",
              "              )\n",
              "              (fc2): lora.Linear4bit(\n",
              "                (base_layer): Linear4bit(in_features=10240, out_features=2560, bias=True)\n",
              "                (lora_dropout): ModuleDict(\n",
              "                  (default): Dropout(p=0.1, inplace=False)\n",
              "                )\n",
              "                (lora_A): ModuleDict(\n",
              "                  (default): Linear(in_features=10240, out_features=64, bias=False)\n",
              "                )\n",
              "                (lora_B): ModuleDict(\n",
              "                  (default): Linear(in_features=64, out_features=2560, bias=False)\n",
              "                )\n",
              "                (lora_embedding_A): ParameterDict()\n",
              "                (lora_embedding_B): ParameterDict()\n",
              "              )\n",
              "            )\n",
              "            (input_layernorm): LayerNorm((2560,), eps=1e-05, elementwise_affine=True)\n",
              "            (resid_dropout): Dropout(p=0.1, inplace=False)\n",
              "          )\n",
              "        )\n",
              "        (final_layernorm): LayerNorm((2560,), eps=1e-05, elementwise_affine=True)\n",
              "      )\n",
              "      (lm_head): ModulesToSaveWrapper(\n",
              "        (original_module): Linear(in_features=2560, out_features=50296, bias=True)\n",
              "        (modules_to_save): ModuleDict(\n",
              "          (default): Linear(in_features=2560, out_features=50296, bias=True)\n",
              "        )\n",
              "      )\n",
              "    )\n",
              "  )\n",
              ")"
            ]
          },
          "metadata": {},
          "execution_count": 30
        }
      ]
    },
    {
      "cell_type": "code",
      "source": [
        "import sqlite3\n",
        "\n",
        "def query_execution_eval(context, true_sql, pred_sql):\n",
        "    try:\n",
        "        db = sqlite3.connect(\":memory:\")\n",
        "        cur = db.cursor()\n",
        "        cur.executescript(context)\n",
        "        true_result = str(cur.execute(true_sql).fetchall())\n",
        "        pred_result = str(cur.execute(pred_sql).fetchall())\n",
        "        return true_result == pred_result\n",
        "    except:\n",
        "        return False"
      ],
      "metadata": {
        "id": "qqpQZQjw7YTt"
      },
      "execution_count": null,
      "outputs": []
    },
    {
      "cell_type": "code",
      "source": [
        "PRED_SQL_PROMPT = \"\"\"\n",
        "Instruct: Write SQL query of question asked by user based on following database structure context.\n",
        "Context: {context}\n",
        "Question: {question}\n",
        "Output:\"\"\"\n",
        "\n",
        "def prediction(samples):\n",
        "\n",
        "    inputs = []\n",
        "    for i in range(len(samples['id'])):\n",
        "        inputs.append(PRED_SQL_PROMPT.format(\n",
        "            context=samples['sql_context'][i],\n",
        "            question=samples['sql_prompt'][i],\n",
        "        ))\n",
        "\n",
        "    # print(inputs)\n",
        "\n",
        "    model_inputs = tokenizer(inputs, padding=True, return_tensors=\"pt\").to(\"cuda\")\n",
        "    # print(model_inputs)\n",
        "\n",
        "    generated_ids = inference_model.generate(**model_inputs, max_new_tokens=500)\n",
        "    result = tokenizer.batch_decode(generated_ids[:, model_inputs['input_ids'].shape[1]:], skip_special_tokens=True)\n",
        "    result = [r.strip() for r in result]\n",
        "\n",
        "    # AVOID REPEATATIVE\n",
        "    for i in range(len(result)):\n",
        "        r = result[i]\n",
        "        stop_index = r.find(\";\")\n",
        "        if stop_index != -1:\n",
        "            result[i] = r[:stop_index+1]\n",
        "\n",
        "    return result"
      ],
      "metadata": {
        "id": "4y11S01N7p3V"
      },
      "execution_count": null,
      "outputs": []
    },
    {
      "cell_type": "code",
      "source": [
        "import math\n",
        "\n",
        "start_index, batch_size = 0, 8\n",
        "\n",
        "all_evals = []\n",
        "pred_sqls = []\n",
        "\n",
        "for i in range(math.ceil(len(test_ds) / batch_size)):\n",
        "\n",
        "    end_index = start_index + batch_size\n",
        "\n",
        "    print(start_index, end_index)\n",
        "    samples = test_ds[start_index:end_index]\n",
        "    results = prediction(samples)\n",
        "    print(results)\n",
        "    pred_sqls.extend(results)\n",
        "\n",
        "    eval_result = [query_execution_eval(context, sql, pred) \\\n",
        "        for context, sql, pred in \\\n",
        "        zip(samples['sql_context'], samples['sql'], results)]\n",
        "\n",
        "    print(eval_result)\n",
        "\n",
        "    all_evals.extend(eval_result)\n",
        "\n",
        "    start_index = end_index"
      ],
      "metadata": {
        "colab": {
          "base_uri": "https://localhost:8080/"
        },
        "id": "yb6jfu-U778F",
        "outputId": "d8281642-9851-4d8f-e388-f6323c4df695"
      },
      "execution_count": null,
      "outputs": [
        {
          "output_type": "stream",
          "name": "stderr",
          "text": [
            "Setting `pad_token_id` to `eos_token_id`:50256 for open-end generation.\n"
          ]
        },
        {
          "output_type": "stream",
          "name": "stdout",
          "text": [
            "0 8\n"
          ]
        },
        {
          "output_type": "stream",
          "name": "stderr",
          "text": [
            "Setting `pad_token_id` to `eos_token_id`:50256 for open-end generation.\n"
          ]
        },
        {
          "output_type": "stream",
          "name": "stdout",
          "text": [
            "[\"SELECT name FROM renewable_project WHERE country = 'India' AND budget BETWEEN 50.0 AND 200.0;\", \"SELECT AVG(energy_rating) FROM energy_efficiency WHERE building_type = 'Commercial' AND location = 'Texas';\", 'SELECT player, AVG(running_speed) FROM world_cup WHERE match_id = 2020 GROUP BY player;', 'SELECT name, total_transactions FROM shariah_compliant_institutions;', 'SELECT gender, race, SUM(reoffender) as reoffenders_2017, SUM(reoffenders_2017) as total_reoffenders_2017, SUM(reoffenders_2018) as reoffenders_2018, SUM(reoffenders_2018) as total_reoffenders_2018 FROM parolee WHERE year IN (2017, 2018) GROUP BY gender, race;', 'SELECT district_id, SUM(cases) FROM restorative_justice GROUP BY district_id;', 'SELECT Director, AVG(Rating) as AvgRating FROM DirectorMoviesRating GROUP BY Director;', \"SELECT AVG(rating) FROM movies WHERE production_year BETWEEN 2010 AND 2020 AND country = 'USA';\"]\n",
            "[True, False, False, False, False, True, True, True]\n",
            "8 16\n"
          ]
        },
        {
          "output_type": "stream",
          "name": "stderr",
          "text": [
            "Setting `pad_token_id` to `eos_token_id`:50256 for open-end generation.\n"
          ]
        },
        {
          "output_type": "stream",
          "name": "stdout",
          "text": [
            "[\"SELECT SUM(quantity) FROM sales WHERE product_category = 'Apparel' AND year = 2021;\", 'SELECT source_type, MAX(size) as max_size, MIN(size) as min_size FROM space_debris GROUP BY source_type;', 'SELECT grade_name, AVG(mental_health_score) as avg_score FROM student_mental_health GROUP BY grade_name ORDER BY avg_score DESC;', \"SELECT COUNT(*) FROM power_plants WHERE state = 'Texas' AND source_type IN ('Wind', 'Solar', 'Hydro');\", 'SELECT name, AVG(points) FROM hockey_players JOIN nhl_teams ON hockey_players.id = nhl_teams.players_id GROUP BY name;', \"SELECT product_name FROM shariah_compliant_products WHERE region = 'Southeast Asia';\", 'SELECT release_year, COUNT(*) as num_movies FROM movies GROUP BY release_year;', \"SELECT SUM(mass) FROM space_objects_heo WHERE orbit = 'High Earth Orbit';\"]\n",
            "[False, True, False, False, False, True, True, True]\n",
            "16 24\n"
          ]
        },
        {
          "output_type": "stream",
          "name": "stderr",
          "text": [
            "Setting `pad_token_id` to `eos_token_id`:50256 for open-end generation.\n"
          ]
        },
        {
          "output_type": "stream",
          "name": "stdout",
          "text": [
            "['SELECT team_name, SUM(points_home - points_away) as total_points FROM baseball_season GROUP BY team_name;', 'SELECT warehouse_id, revenue * 0.9 AS discounted_revenue FROM warehouse_revenue;', 'SELECT genre, SUM(frequency) FROM media_content GROUP BY genre;', 'SELECT COUNT(*) FROM space_objects_count;', \"SELECT AVG(mental_health_score) FROM students JOIN courses ON students.course_id = courses.course_id WHERE courses.course_type = 'Traditional';\", 'SELECT name, position, MAX(points_per_game) FROM points GROUP BY name, position;', \"SELECT AVG(price) FROM products WHERE category = 'Electronics' AND is_circular_supply_chain = TRUE;\", \"SELECT store_id, SUM(revenue) FROM sales WHERE region = 'Northern' GROUP BY store_id;\"]\n",
            "[True, True, True, True, True, False, True, True]\n",
            "24 32\n"
          ]
        },
        {
          "output_type": "stream",
          "name": "stderr",
          "text": [
            "Setting `pad_token_id` to `eos_token_id`:50256 for open-end generation.\n"
          ]
        },
        {
          "output_type": "stream",
          "name": "stdout",
          "text": [
            "[\"SELECT COUNT(*) FROM storage_projects WHERE country = 'China' AND year_built BETWEEN 2010 AND 2020;\", 'SELECT AVG(attendance) FROM nfl_games;', \"SELECT AVG(amount) FROM loans WHERE country IN ('Turkey', 'Iran');\", \"SELECT SUM(services_provided) FROM legal_aid_services WHERE location = 'Rural Area' AND state = 'California' AND year = 2021;\", 'SELECT name, country FROM content_creators WHERE represents_group = true ORDER BY views DESC;', \"SELECT SUM(mass) FROM space_debris WHERE orbit = 'MEO' AND launch_date < '2010-01-01';\", \"SELECT AVG(revenue) FROM RetailSales WHERE garment_type = 'Jeans' AND country = 'Mexico' AND year = 2021;\", \"SELECT AVG(sustainability_score) FROM garment_data_2 WHERE collection = 'Autumn 2021';\"]\n",
            "[True, True, True, True, False, True, True, True]\n",
            "32 40\n"
          ]
        },
        {
          "output_type": "stream",
          "name": "stderr",
          "text": [
            "Setting `pad_token_id` to `eos_token_id`:50256 for open-end generation.\n"
          ]
        },
        {
          "output_type": "stream",
          "name": "stdout",
          "text": [
            "['SELECT country, COUNT(*) FROM farm_data WHERE is_organic = true GROUP BY country;', 'SELECT team_name, SUM(points_scored) FROM nba_teams GROUP BY team_name;', 'SELECT continent, name FROM ethics_by_continent;', 'SELECT country, COUNT(*) FROM socially_responsible_loans GROUP BY country;', \"SELECT SUM(income) FROM clients WHERE country = 'Canada' AND is_socially_responsible_investor = true;\", \"SELECT AVG(transit_time) FROM ground_freight_routes WHERE origin = 'Toronto' AND destination = 'Montreal';\", \"SELECT initiative, country FROM historical_legal_tech WHERE launch_date >= '2010-01-01';\", \"SELECT SUM(quantity) FROM inventory WHERE fabric_name IN ('Tencel Lyocell', 'Bamboo Viscose');\"]\n",
            "[True, True, True, True, True, True, True, True]\n",
            "40 48\n"
          ]
        },
        {
          "output_type": "stream",
          "name": "stderr",
          "text": [
            "Setting `pad_token_id` to `eos_token_id`:50256 for open-end generation.\n"
          ]
        },
        {
          "output_type": "stream",
          "name": "stdout",
          "text": [
            "['SELECT name, SUM(area_in_hectares) FROM crop GROUP BY name;', \"SELECT * FROM Farmers WHERE location = 'Asia';\", \"SELECT AVG(mental_health_score) FROM students WHERE gender = 'Female';\", \"SELECT SUM(capacity) FROM energy_storage WHERE country IN ('Australia', 'Canada') AND year >= 2018;\", \"SELECT warehouse.location FROM inventory INNER JOIN warehouse ON inventory.warehouse_id = warehouse.id WHERE inventory.item_code = 'ORG-01' GROUP BY warehouse.location ORDER BY inventory.warehouse_id LIMIT 1;\", 'SELECT COUNT(*) FROM workers JOIN factories ON workers.factory_id = factories.id WHERE factories.audit_passed = TRUE;', \"SELECT SUM(quantity) FROM WAREHOUSE WHERE product = 'Product A';\", 'SELECT SUM(sales_quantity) FROM mexico_mens_garments WHERE quarter = 4 AND year = 2020;']\n",
            "[True, True, True, True, False, True, True, True]\n",
            "48 56\n"
          ]
        },
        {
          "output_type": "stream",
          "name": "stderr",
          "text": [
            "Setting `pad_token_id` to `eos_token_id`:50256 for open-end generation.\n"
          ]
        },
        {
          "output_type": "stream",
          "name": "stdout",
          "text": [
            "[\"SELECT name FROM research_institutes WHERE type = 'Non-profit' AND location!= 'Midwest';\", \"SELECT SUM(num_projects) FROM latam_renewable_projects WHERE country IN ('Colombia', 'Peru') AND year IN (2020, 2021);\", \"SELECT SUM(savings) FROM energy_efficiency WHERE state = 'Texas' AND year = 2020;\", \"SELECT MIN(quantity) FROM products WHERE category = 'gifts';\", 'SELECT AVG(num_satellites) FROM countries INNER JOIN space_programs ON countries.id = space_programs.country WHERE country IS NOT NULL;', \"SELECT MAX(SpaceMissions) FROM Astronauts WHERE Nationality = 'Japan';\", \"SELECT SUM(mass) FROM space_debris WHERE orbit = 'LEO' AND mass > 10;\", 'SELECT (COUNT(*) FILTER (WHERE hours > 20)) * 100.0 / COUNT(*) FROM teachers;']\n",
            "[False, True, True, True, False, False, True, True]\n",
            "56 64\n"
          ]
        },
        {
          "output_type": "stream",
          "name": "stderr",
          "text": [
            "Setting `pad_token_id` to `eos_token_id`:50256 for open-end generation.\n"
          ]
        },
        {
          "output_type": "stream",
          "name": "stdout",
          "text": [
            "['SELECT AVG(age) FROM cricket_players;', 'SELECT player_name, goals FROM world_cup_goals ORDER BY goals DESC LIMIT 3;', 'SELECT Program FROM Social_Good_Tech WHERE Month BETWEEN 1 AND 6;', \"SELECT AVG(financial_wellbeing_score) FROM shariah_compliant_customers WHERE shariah_compliant_account = true AND wellbeing_assessment_date BETWEEN '2022-04-01' AND '2022-06-30';\", 'SELECT MAX(amount_invested) FROM shariah_compliant_funds_investments;', 'SELECT state, 100.0 * SUM(spokes_spanish) / COUNT(*) as percentage_speaking_spanish FROM community_health_workers_lang GROUP BY state;', \"SELECT COUNT(*) FROM community_health_workers WHERE state IN ('New York', 'California');\", \"SELECT crops.name, SUM(crops.yield) FROM crops JOIN farmers ON crops.farmer_id = farmers.id WHERE farmers.country = 'Asia' GROUP BY crops.name;\"]\n",
            "[True, True, False, True, False, False, True, False]\n",
            "64 72\n"
          ]
        },
        {
          "output_type": "stream",
          "name": "stderr",
          "text": [
            "Setting `pad_token_id` to `eos_token_id`:50256 for open-end generation.\n"
          ]
        },
        {
          "output_type": "stream",
          "name": "stdout",
          "text": [
            "['SELECT team_name, wins FROM football_teams ORDER BY wins DESC LIMIT 1;', 'SELECT WarehouseId, Country, SUM(Quantity) as TotalQuantity FROM Shipments GROUP BY WarehouseId, Country;', \"SELECT MAX(mental_health_score) FROM student_mental_health WHERE date BETWEEN '2021-09-01' AND '2021-09-30';\", \"SELECT position, name FROM players WHERE sport = 'Hockey';\", 'SELECT name, team, AVG(points_per_game) as avg_points_per_game FROM players GROUP BY name, team ORDER BY avg_points_per_game DESC LIMIT 5;', 'SELECT country, COUNT(*) FROM shipments GROUP BY country;', 'SELECT route_id, start_location, end_location, distance FROM parcel_delivery WHERE distance > 1000;', 'SELECT location, MIN(age) as min_age, MAX(age) as max_age, AVG(age) as avg_age FROM victims JOIN restorative_justice_participants ON victims.id = restorative_justice_participants.victim_id GROUP BY location;']\n",
            "[False, False, True, False, True, True, True, True]\n",
            "72 80\n"
          ]
        },
        {
          "output_type": "stream",
          "name": "stderr",
          "text": [
            "Setting `pad_token_id` to `eos_token_id`:50256 for open-end generation.\n"
          ]
        },
        {
          "output_type": "stream",
          "name": "stdout",
          "text": [
            "['SELECT suppliers.supplier_id, suppliers.supplier_name FROM suppliers INNER JOIN materials ON suppliers.supplier_id = materials.supplier_id GROUP BY suppliers.supplier_id HAVING COUNT(*) >= 3;', \"SELECT COUNT(*) FROM orders JOIN garments ON orders.garment_id = garments.id WHERE garments.name = 'Vegan Leather Shoes' AND garments.country = 'France' AND orders.quantity > 3;\", 'SELECT collection, AVG(co2_emissions) FROM emissions GROUP BY collection;', 'SELECT Gender, COUNT(*) FROM MentalHealthParityGender GROUP BY Gender;', 'SELECT District, CrimeType, COUNT(*) as Count FROM Crimes GROUP BY District, CrimeType ORDER BY District, CrimeType;', \"SELECT garment_name FROM Spring2023 WHERE material IN ('Silk', 'Cotton');\", \"SELECT MIN(budget) FROM ai_projects WHERE country IN ('Germany', 'France', 'UK', 'Spain');\", 'SELECT SUM(num_employees) FROM Companies WHERE has_ethical_ai = true;']\n",
            "[False, True, True, True, False, True, True, True]\n",
            "80 88\n"
          ]
        },
        {
          "output_type": "stream",
          "name": "stderr",
          "text": [
            "Setting `pad_token_id` to `eos_token_id`:50256 for open-end generation.\n"
          ]
        },
        {
          "output_type": "stream",
          "name": "stdout",
          "text": [
            "['SELECT category, SUM(quantity) FROM products GROUP BY category;', \"SELECT COUNT(*) FROM Satellites WHERE Orbit = 'Low Earth Orbit' AND Operational = TRUE;\", \"SELECT AVG(age) FROM astronauts WHERE country = 'Japan';\", 'SELECT COUNT(*) FROM mars_missions;', 'SELECT team, SUM(games) FROM nba_schedule GROUP BY team;', 'SELECT SUM(penalties) FROM penalties WHERE team_id = 306;', \"SELECT COUNT(*) FROM loans WHERE is_socially_responsible = true AND region = 'South';\", 'SELECT location, total_inventory FROM warehouse;']\n",
            "[False, True, True, True, False, True, True, True]\n",
            "88 96\n"
          ]
        },
        {
          "output_type": "stream",
          "name": "stderr",
          "text": [
            "Setting `pad_token_id` to `eos_token_id`:50256 for open-end generation.\n"
          ]
        },
        {
          "output_type": "stream",
          "name": "stdout",
          "text": [
            "['SELECT SUM(quantity) FROM inventory;', 'SELECT type, resolution_method, SUM(success) as success_rate FROM disputes GROUP BY type, resolution_method;', 'SELECT m.manufacturer_name, SUM(w.retail_price) as total_retail_value FROM Winter2022 w JOIN Manufacturers m ON w.manufacturer_id = m.manufacturer_id GROUP BY m.manufacturer_name;', \"SELECT SUM(capacity) FROM energy_storage WHERE region = 'California' AND year IN (2018, 2019);\", \"SELECT MIN(tech_accessibility_score), MAX(tech_accessibility_score) FROM org_accessibility WHERE sector = 'education';\", 'SELECT salesperson, SUM(items) FROM sales GROUP BY salesperson;', 'SELECT program_id, COUNT(DISTINCT org_id) as org_count FROM community_orgs GROUP BY program_id;', \"SELECT COUNT(*) FROM agroecology_research WHERE country IN ('CO', 'PE');\"]\n",
            "[True, False, True, False, True, True, True, False]\n",
            "96 104\n"
          ]
        },
        {
          "output_type": "stream",
          "name": "stderr",
          "text": [
            "Setting `pad_token_id` to `eos_token_id`:50256 for open-end generation.\n"
          ]
        },
        {
          "output_type": "stream",
          "name": "stdout",
          "text": [
            "['SELECT AVG(years_of_experience) FROM teachers WHERE mental_health_resource_access IS NOT NULL;', \"SELECT COUNT(*) FROM renewable_count WHERE location = 'Country R';\", 'SELECT country, production_quantity FROM solar_energy ORDER BY production_quantity DESC LIMIT 3;', \"SELECT SUM(initiative_id, region, funds) FROM ethical_ai_initiatives WHERE region = 'North America';\", \"SELECT organization FROM ai_oversight WHERE region = 'Canada';\", \"SELECT AVG(weight) FROM Shipments WHERE origin_country = 'UK' AND shipment_date BETWEEN '2022-01-01' AND '2022-01-31';\", \"SELECT worker_name, SUM(patients_served) as total_patients_served FROM community_workers WHERE community_type IN ('African American', 'Hispanic', 'LGBTQ+', 'Rural', 'Asian', 'Native American') GROUP BY worker_name ORDER BY total_patients_served DESC LIMIT 1;\", \"SELECT (COUNT(*) FILTER (WHERE city = 'Los Angeles' AND has_been_homeless = true)) * 100.0 / COUNT(*) FROM legal_aid_clients;\"]\n",
            "[True, True, True, False, True, True, False, True]\n",
            "104 112\n"
          ]
        },
        {
          "output_type": "stream",
          "name": "stderr",
          "text": [
            "Setting `pad_token_id` to `eos_token_id`:50256 for open-end generation.\n"
          ]
        },
        {
          "output_type": "stream",
          "name": "stdout",
          "text": [
            "['SELECT judge_name, COUNT(*) as total_cases FROM criminal_cases GROUP BY judge_name;', \"SELECT COUNT(*) FROM Spacecrafts WHERE Manufacturer = 'SpaceX' AND Operational = TRUE;\", 'SELECT MIN(launch_date) FROM space_missions;', \"SELECT garment_type, SUM(quantity) as total_quantity FROM garment_sales WHERE region = 'Europe' GROUP BY garment_type ORDER BY total_quantity DESC LIMIT 3;\", 'SELECT student_id, MAX(score) - MIN(score) as improvement FROM student_mental_health GROUP BY student_id;', \"SELECT SUM(energy_produced) FROM renewable_energy WHERE country = 'Germany' AND year = 2020;\", \"SELECT COUNT(*) FROM games WHERE league = 'NHL' AND year >= 2000;\", 'SELECT team, AVG(engagement) as avg_engagement FROM social_media GROUP BY team;']\n",
            "[True, True, True, True, False, True, True, True]\n",
            "112 120\n"
          ]
        },
        {
          "output_type": "stream",
          "name": "stderr",
          "text": [
            "Setting `pad_token_id` to `eos_token_id`:50256 for open-end generation.\n"
          ]
        },
        {
          "output_type": "stream",
          "name": "stdout",
          "text": [
            "[\"SELECT MIN(price) FROM Devices WHERE community LIKE '%Underrepresented%';\", \"SELECT SUM(quantity) FROM production WHERE category = 'Ethical Clothing' AND year IN (2021, 2022);\", 'SELECT grade_level, AVG(participation_score) FROM student_open_pedagogy GROUP BY grade_level;', \"SELECT COUNT(*) FROM legal_tech_events WHERE location IN ('New York', 'California');\", 'SELECT language, format, SUM(views) as total_views FROM open_education_resources GROUP BY language, format ORDER BY total_views DESC;', \"SELECT SUM(projects) FROM Ethical_AI WHERE sector = 'Healthcare';\", \"SELECT client_country, COUNT(*) as num_clients FROM socially_responsible_loans WHERE client_country NOT IN ('Saudi Arabia', 'UAE') GROUP BY client_country;\", \"SELECT ProductName, SUM(Quantity) FROM Shipments JOIN Warehouses ON Shipments.WarehouseID = Warehouses.WarehouseID WHERE Warehouses.WarehouseName = 'Tokyo Warehouse' GROUP BY ProductName;\"]\n",
            "[False, False, True, True, True, False, True, True]\n",
            "120 128\n"
          ]
        },
        {
          "output_type": "stream",
          "name": "stderr",
          "text": [
            "Setting `pad_token_id` to `eos_token_id`:50256 for open-end generation.\n"
          ]
        },
        {
          "output_type": "stream",
          "name": "stdout",
          "text": [
            "['SELECT genre, AVG(length) as avg_length FROM tracks GROUP BY genre ORDER BY avg_length DESC;', \"SELECT SUM(weight) FROM shipments WHERE origin = 'Canada' AND destination = 'United States' AND shipped_at BETWEEN '2021-01-01' AND '2021-01-31';\", 'SELECT ht, SUM(programs) FROM language_access GROUP BY ht;', \"SELECT product_name, price FROM products WHERE country_of_manufacture!= 'USA' AND is_on_sale = FALSE;\", 'SELECT c.customer_name, SUM(p.purchase_value) as total_spent_ethical_fashion FROM ethical_fashion_purchases p JOIN customers c ON p.customer_id = c.customer_id WHERE p.purchase_id BETWEEN 10 AND 13 AND p.customer_id IN (1, 2) GROUP BY c.customer_name ORDER BY total_spent_ethical_fashion DESC LIMIT 3;', 'SELECT AVG(Moons) FROM SolarSystem;', 'SELECT country, SUM(cost) FROM missions GROUP BY country;', \"SELECT COUNT(*) FROM transactions WHERE region = 'Midwest' AND non_gmo = true;\"]\n",
            "[False, True, False, True, False, False, False, True]\n",
            "128 136\n"
          ]
        },
        {
          "output_type": "stream",
          "name": "stderr",
          "text": [
            "Setting `pad_token_id` to `eos_token_id`:50256 for open-end generation.\n"
          ]
        },
        {
          "output_type": "stream",
          "name": "stdout",
          "text": [
            "[\"SELECT SUM(capacity) FROM renewable_plants WHERE country = 'Australia';\", \"SELECT name FROM solar_plants WHERE country = 'Spain' AND capacity > 50;\", \"SELECT AVG(score) FROM ai_tools WHERE type = 'PersonsWithDisabilities';\", \"SELECT SUM(violation_date) FROM mental_health_parity WHERE location = 'Illinois' AND violation_date BETWEEN '2020-01-01' AND '2020-12-31';\", 'SELECT District, AVG(HearingDuration) as AvgHearingDuration FROM CommunityCourtHearings GROUP BY District;', \"SELECT MAX(likes) FROM posts WHERE domain = 'Media Literacy' AND region = 'Asia';\", \"SELECT COUNT(*) FROM products WHERE category = 'grocery';\", \"SELECT artists.artist_name, COUNT(streams.stream_id) as streams_count FROM artists JOIN streams ON artists.artist_id = streams.artist_id WHERE streams.stream_date BETWEEN '2019-01-01' AND '2019-03-31' GROUP BY artists.artist_name;\"]\n",
            "[True, False, True, False, False, True, True, True]\n",
            "136 144\n"
          ]
        },
        {
          "output_type": "stream",
          "name": "stderr",
          "text": [
            "Setting `pad_token_id` to `eos_token_id`:50256 for open-end generation.\n"
          ]
        },
        {
          "output_type": "stream",
          "name": "stdout",
          "text": [
            "['SELECT student_id FROM student_lifelong_learning WHERE course_id IS NULL;', 'SELECT team_name, wins FROM nba_teams ORDER BY wins DESC LIMIT 3;', 'SELECT athlete, AVG(time_in_pool) FROM olympic_swimming GROUP BY athlete;', \"SELECT client_id, account_balance FROM microfinance_program WHERE program_name = 'Socially Responsible Microfinance';\", \"SELECT warehouse_country, warehouse_city, MAX(pallets) FROM warehouse_stats WHERE warehouse_country = 'Colombia' GROUP BY warehouse_country, warehouse_city;\", \"SELECT AVG(products.price) FROM products JOIN vendors ON products.vendor_id = vendors.vendor_id WHERE products.organic = true AND vendors.country = 'USA';\", \"SELECT SUM(revenue) FROM carbon_pricing WHERE country = 'Canada' AND year = 2021;\", 'SELECT name, AVG(home_run_distance) FROM players;']\n",
            "[True, True, False, False, False, True, True, False]\n",
            "144 152\n"
          ]
        },
        {
          "output_type": "stream",
          "name": "stderr",
          "text": [
            "Setting `pad_token_id` to `eos_token_id`:50256 for open-end generation.\n"
          ]
        },
        {
          "output_type": "stream",
          "name": "stdout",
          "text": [
            "[\"SELECT MAX(distance) FROM Routes WHERE destination_city = 'City X';\", 'SELECT m.name, COUNT(t.training_id) as num_trainings FROM mental_health_parity_officers m JOIN trainings_conducted t ON m.officer_id = t.officer_id GROUP BY m.name;', \"SELECT AVG(mental_health_score) FROM patients WHERE community IN ('African American', 'Latinx', 'Asian American');\", \"SELECT MAX(altitude) FROM leo_satellites WHERE type = 'LEO';\", 'SELECT country, COUNT(*) as launches_count FROM launches GROUP BY country;', 'SELECT Agency_Name, COUNT(*) as Num_Satellites FROM Space_Satellites GROUP BY Agency_Name ORDER BY Num_Satellites DESC;', \"SELECT COUNT(*) FROM Urban_Agriculture WHERE State IN ('California', 'New York') AND Year = 2019;\", \"SELECT country, SUM(quantity) FROM production WHERE crop = 'rice' GROUP BY country;\"]\n",
            "[False, True, False, False, True, True, True, True]\n",
            "152 160\n"
          ]
        },
        {
          "output_type": "stream",
          "name": "stderr",
          "text": [
            "Setting `pad_token_id` to `eos_token_id`:50256 for open-end generation.\n"
          ]
        },
        {
          "output_type": "stream",
          "name": "stdout",
          "text": [
            "['SELECT gender, AVG(mental_health_score) FROM students GROUP BY gender;', \"SELECT COUNT(*) FROM Team_B_Matches WHERE result = 'Win';\", 'SELECT r.region, COUNT(t.id) as num_countries FROM technology_access t JOIN regions r ON t.region = r.region GROUP BY r.region ORDER BY num_countries ASC LIMIT 1;', \"SELECT Name, Sentence FROM Sentences WHERE Sentence = 'Life Imprisonment without Parole';\", 'SELECT AVG(days_in_space) FROM astronauts;', 'SELECT ConcertID, COUNT(DISTINCT Artist) FROM ArtistConcert GROUP BY ConcertID;', 'SELECT CountryName, AVG(Budget) as AvgBudget FROM Country GROUP BY CountryName;', \"SELECT AVG(account_balance) FROM islamic_banking_clients WHERE segment = 'Islamic Banking';\"]\n",
            "[True, True, False, True, True, True, False, True]\n",
            "160 168\n"
          ]
        },
        {
          "output_type": "stream",
          "name": "stderr",
          "text": [
            "Setting `pad_token_id` to `eos_token_id`:50256 for open-end generation.\n"
          ]
        },
        {
          "output_type": "stream",
          "name": "stdout",
          "text": [
            "[\"SELECT destination_province, MAX(weight) FROM Packages JOIN Warehouses ON Packages.warehouse_id = Warehouses.id WHERE Warehouses.city = 'Mexico City' GROUP BY destination_province;\", \"SELECT COUNT(*) FROM cases WHERE resolution_type = 'Mediation' AND resolution_date >= '2020-01-01' AND city = 'New York';\", \"SELECT AVG(price) FROM products WHERE vegan = true AND country = 'USA';\", 'SELECT COUNT(DISTINCT Country) FROM Country_Spacecraft;', 'SELECT DISTINCT principle FROM ethical_ai_principles;', \"SELECT AVG(budget) FROM ai_projects WHERE region = 'Latin America';\", \"SELECT name, capacity FROM Warehouses WHERE country = 'Canada';\", \"SELECT AVG(temperature), AVG(precipitation) FROM weather JOIN farms ON weather.farm_id = farms.id WHERE farms.location = 'Urban' AND weather.month = 4;\"]\n",
            "[True, True, False, True, True, True, True, False]\n",
            "168 176\n"
          ]
        },
        {
          "output_type": "stream",
          "name": "stderr",
          "text": [
            "Setting `pad_token_id` to `eos_token_id`:50256 for open-end generation.\n"
          ]
        },
        {
          "output_type": "stream",
          "name": "stdout",
          "text": [
            "[\"SELECT teams.team_name, SUM(points.points) FROM teams INNER JOIN points ON teams.team_id = points.team_id WHERE points.season = '2021' GROUP BY teams.team_name;\", 'SELECT contributor, contributions FROM accessibility_contributors ORDER BY contributions DESC LIMIT 3;', \"SELECT COUNT(*) FROM Packages WHERE arrived >= '2021-01-01' AND destination = 'Texas' AND (arrived < '2021-01-01' OR arrived >= '2021-01-01' AND arrived < '2021-01-01' AND arrived >= '2021-01-01' AND arrived < '2021-01-01' AND arrived >= '2021-01-01' AND arrived < '2021-01-01' AND arrived >= '2021-01-01' AND arrived < '2021-01-01' AND arrived >= '2021-01-01' AND arrived < '2021-01-01' AND arrived >= '2021-01-01' AND arrived < '2021-01-01' AND arrived >= '2021-01-01' AND arrived < '2021-01-01' AND arrived >= '2021-01-01' AND arrived < '2021-01-01' AND arrived >= '2021-01-01' AND arrived < '2021-01-01' AND arrived >= '2021-01-01' AND arrived < '2021-01-01' AND arrived >= '2021-01-01' AND arrived < '2021-01-01' AND arrived >= '2021-01-01' AND arrived < '2021-01-01' AND arrived >= '2021-01-01' AND arrived < '2021-01-01' AND arrived >= '2021-01-01' AND arrived < '2021-01-01' AND arrived >= '2021-01-01' AND arrived < '2021-01-01' AND arrived >= '2021-01-01' AND arrived < '2021-01-01' AND arrived >= '2021-01-01' AND arrived < '2021-01-01' AND arrived >= '2021-01-01' AND arrived < '2021-01-01' AND arrived >= '2021-01-01' AND arrived < '2021-01-01' AND arrived >= '2021-01-01' AND arrived < '2021-01-01' AND arrived >= '2021-01-01' AND arrived < '2021-01-01'\", \"SELECT AVG(quantity) FROM inventory JOIN warehouses ON inventory.warehouse_id = warehouses.id WHERE warehouses.country = 'France';\", \"SELECT AVG(revenue) FROM RetailSales WHERE garment_type = 'Shirt' AND country = 'USA';\", \"SELECT MAX(price) FROM carbon_prices_gn WHERE country IN ('Germany', 'Norway');\", 'SELECT team_id, SUM(tries) as total_tries FROM tries GROUP BY team_id ORDER BY total_tries DESC LIMIT 1;', 'SELECT COUNT(DISTINCT device) FROM device_accessibility_europe;']\n",
            "[True, False, False, True, True, True, True, False]\n",
            "176 184\n"
          ]
        },
        {
          "output_type": "stream",
          "name": "stderr",
          "text": [
            "Setting `pad_token_id` to `eos_token_id`:50256 for open-end generation.\n"
          ]
        },
        {
          "output_type": "stream",
          "name": "stdout",
          "text": [
            "['SELECT ReportYear, COUNT(*) FROM MentalHealthParity WHERE ReportYear IN (2020, 2021) GROUP BY ReportYear;', \"SELECT MIN(views) FROM videos_3 WHERE category ='music';\", 'SELECT region, SUM(score) as total_score FROM media_representation GROUP BY region;', \"SELECT SUM(mass_kg) FROM spacecraft WHERE name = 'Juno';\", 'SELECT customer_id, total_sales_2022 FROM customers ORDER BY total_sales_2022 DESC LIMIT 1;', \"SELECT MAX(capacity) FROM max_energy_storage WHERE country = 'Australia';\", 'SELECT foul_type, COUNT(*) as foul_count FROM basketball_fouls GROUP BY foul_type ORDER BY foul_count DESC LIMIT 1;', \"SELECT account_type, SUM(loan_amount) FROM loans WHERE client_region = 'Asia-Pacific' GROUP BY account_type;\"]\n",
            "[False, True, True, True, True, True, False, True]\n",
            "184 192\n"
          ]
        },
        {
          "output_type": "stream",
          "name": "stderr",
          "text": [
            "Setting `pad_token_id` to `eos_token_id`:50256 for open-end generation.\n"
          ]
        },
        {
          "output_type": "stream",
          "name": "stdout",
          "text": [
            "['SELECT MIN(lead_time) FROM WarehouseTransfers WHERE source_warehouse_id = 6;', 'SELECT teacher_id, COUNT(course_id) as courses_completed FROM teacher_pd GROUP BY teacher_id ORDER BY courses_completed DESC;', \"SELECT COUNT(*) FROM solar_projects WHERE country IN ('Germany', 'Spain') AND completed = true;\", 'SELECT COUNT(*) FROM acc_proj;', \"SELECT MAX(score) FROM financial_capability WHERE country IN ('South Africa', 'Egypt', 'Nigeria');\", \"SELECT MAX(delivery_time) FROM deliveries WHERE warehouse = 'Mumbai' AND quarter = 4;\", 'SELECT d.name FROM directors d JOIN movies_per_director m ON d.id = m.id ORDER BY m.movies_count DESC LIMIT 1;', 'SELECT outcome, COUNT(*) as count FROM space_missions GROUP BY outcome;']\n",
            "[True, True, True, False, False, True, False, True]\n",
            "192 200\n"
          ]
        },
        {
          "output_type": "stream",
          "name": "stderr",
          "text": [
            "Setting `pad_token_id` to `eos_token_id`:50256 for open-end generation.\n"
          ]
        },
        {
          "output_type": "stream",
          "name": "stdout",
          "text": [
            "['SELECT City, 100.0 * SUM(FullPrice) / COUNT(*) as FullPricePercentage FROM Transactions GROUP BY City;', 'SELECT crop_type, AVG(yield/acres) as avg_yield_per_acre FROM crop_types GROUP BY crop_type;', 'SELECT department, AVG(course_completed) FROM teacher_professional_development GROUP BY department;', \"SELECT COUNT(*) FROM employee_roster WHERE team = 'Ethical AI' AND join_date > '2021-06-01';\", 'SELECT CountryName, SUM(CertificationCount) as TotalCertifications FROM EthicalAICertifications GROUP BY CountryName;', \"SELECT program_name FROM fwp_programs WHERE country IN ('USA', 'UK');\", \"SELECT Warehouse.name, SUM(Handling.pallets) FROM Handling INNER JOIN Warehouse ON Handling.warehouse_id = Warehouse.id WHERE Warehouse.city = 'Paris' GROUP BY Warehouse.name;\", \"SELECT SUM(volume) FROM Canada_Freight WHERE origin_country = 'Mexico' AND destination_country = 'Canada';\"]\n",
            "[False, True, True, True, True, True, True, True]\n",
            "200 208\n"
          ]
        },
        {
          "output_type": "stream",
          "name": "stderr",
          "text": [
            "Setting `pad_token_id` to `eos_token_id`:50256 for open-end generation.\n"
          ]
        },
        {
          "output_type": "stream",
          "name": "stdout",
          "text": [
            "[\"SELECT SUM(weight) FROM shipments WHERE country = 'USA';\", \"SELECT SUM(revenue) FROM Sales WHERE market = 'US';\", \"SELECT product_name, SUM(units_sold) FROM product_sales WHERE country = 'Canada' AND quarter IN (2, 3) GROUP BY product_name;\", \"SELECT artists.artist_name, COUNT(*) as song_count FROM songs JOIN artists ON songs.artist_name = artists.artist_name WHERE songs.genre = 'R&B' GROUP BY artists.artist_name ORDER BY song_count DESC LIMIT 2;\", 'SELECT s.school_name, 100.0 * COUNT(*) FILTER (WHERE s.school_id = s.participant_in_program) / COUNT(*) FROM school_lifelong_learning_participation s JOIN schools s ON s.school_id = s.school_id GROUP BY s.school_name;', 'SELECT AVG(capacity_MW) FROM geothermal_plants;', \"SELECT COUNT(*) FROM patents WHERE ethical = true AND filed_country IN ('Mexico', 'Argentina', 'Colombia');\", \"SELECT AVG(cost) FROM warehouse_costs_apac WHERE warehouse_location IN ('Sydney Warehouse', 'Melbourne Warehouse') AND quarter = 2 AND year = 2023;\"]\n",
            "[True, True, True, True, False, True, True, False]\n",
            "208 216\n"
          ]
        },
        {
          "output_type": "stream",
          "name": "stderr",
          "text": [
            "Setting `pad_token_id` to `eos_token_id`:50256 for open-end generation.\n"
          ]
        },
        {
          "output_type": "stream",
          "name": "stdout",
          "text": [
            "[\"SELECT name FROM Astronauts WHERE agency = 'Roscosmos';\", 'SELECT m.name, COUNT(s.id) as num_satellites FROM satellites s JOIN manufacturers m ON s.manufacturer_id = m.id GROUP BY m.name ORDER BY num_satellites DESC LIMIT 1;', 'SELECT SUM(amount) FROM funding JOIN organizations ON funding.org_id = organizations.org_id WHERE implemented_digital_divide_initiatives = TRUE;', 'SELECT country, COUNT(*) FROM financial_wellbeing_programs GROUP BY country;', \"SELECT AVG(amount) FROM shariah_financing WHERE client_country IN ('Indonesia', 'Bahrain', 'UAE') GROUP BY client_country ORDER BY AVG(amount) DESC LIMIT 3;\", \"SELECT COUNT(*) FROM SpaceMissions WHERE agency = 'NASA' AND year < 2000 AND manned = true;\", 'SELECT region, AVG(score) FROM energy_efficiency WHERE year = 2021 GROUP BY region;', 'SELECT AVG(rebounds) FROM wilt_stats WHERE game = 1;']\n",
            "[True, False, True, True, False, True, True, False]\n",
            "216 224\n"
          ]
        },
        {
          "output_type": "stream",
          "name": "stderr",
          "text": [
            "Setting `pad_token_id` to `eos_token_id`:50256 for open-end generation.\n"
          ]
        },
        {
          "output_type": "stream",
          "name": "stdout",
          "text": [
            "['SELECT continent, SUM(quantity) FROM shipments JOIN shipment_items ON shipments.shipment_id = shipment_items.shipment_id GROUP BY continent;', 'SELECT title FROM shows WHERE runtime > 60;', \"SELECT AVG(labor_cost) FROM factories WHERE country LIKE 'Africa%';\", \"SELECT SUM(streams) FROM song_streams WHERE song_title = 'Bohemian Rhapsody' AND platform IN ('Spotify', 'Apple Music');\", \"SELECT SUM(courses_completed) FROM teachers WHERE school = 'Westside' AND year = 2019;\", \"SELECT SUM(EnergyConsumption.Consumption) FROM EnergyConsumption INNER JOIN Emissions ON EnergyConsumption.Sector = Emissions.Sector WHERE EnergyConsumption.Year = 2020 AND EnergyConsumption.Sector IN ('Residential', 'Commercial');\", \"SELECT SUM(capacity) FROM solar_farm WHERE country IN ('China', 'Spain');\", 'SELECT name FROM organizations WHERE gov_funding = TRUE AND private_funding = FALSE;']\n",
            "[True, True, False, True, True, False, True, True]\n",
            "224 232\n"
          ]
        },
        {
          "output_type": "stream",
          "name": "stderr",
          "text": [
            "Setting `pad_token_id` to `eos_token_id`:50256 for open-end generation.\n"
          ]
        },
        {
          "output_type": "stream",
          "name": "stdout",
          "text": [
            "[\"SELECT AVG(score) FROM ai_tools WHERE type = 'SocialGood';\", \"SELECT MIN(budget) FROM projects WHERE region = 'Africa';\", \"SELECT COUNT(*) FROM shariah_compliant_finance WHERE country = 'United Arab Emirates';\", \"SELECT SUM(shipment_weight) FROM ShipmentWeights WHERE destination_continent = 'South America';\", \"SELECT COUNT(*) FROM farms WHERE country = 'USA' AND organic = TRUE;\", \"SELECT State, AVG(Age) FROM CommunityHealthWorkers WHERE Gender = 'Non-binary' GROUP BY State;\", 'SELECT home_team, SUM(yellow_cards_home) as total_yellow_cards FROM soccer_matches GROUP BY home_team;', \"SELECT name FROM organizations WHERE region = 'Asia' AND involvement ='social good';\"]\n",
            "[True, False, True, True, True, True, False, True]\n",
            "232 240\n"
          ]
        },
        {
          "output_type": "stream",
          "name": "stderr",
          "text": [
            "Setting `pad_token_id` to `eos_token_id`:50256 for open-end generation.\n"
          ]
        },
        {
          "output_type": "stream",
          "name": "stdout",
          "text": [
            "[\"SELECT * FROM ReverseLogistics WHERE date BETWEEN '2023-01-01' AND '2023-01-31';\", 'SELECT State, SUM(Coverage) as TotalCoverage FROM MentalHealthParity GROUP BY State ORDER BY TotalCoverage DESC;', \"SELECT COUNT(*) FROM Manufacturing WHERE garment_type = 'T-Shirt' AND country = 'Turkey' AND year = 2022;\", 'SELECT system_name, production FROM african_indigenous_systems ORDER BY production DESC;', \"SELECT emissions FROM co2_emissions WHERE country = 'Australia' AND sector = 'Energy';\", \"SELECT AVG(generation) FROM hydro_power WHERE country IN ('Norway', 'Sweden');\", \"SELECT name FROM users WHERE region = 'North America' AND age > 30;\", \"SELECT artist_name, MAX(total_streams) FROM artist_streams WHERE platform IN ('Spotify', 'Apple Music') GROUP BY artist_name;\"]\n",
            "[False, True, True, False, True, False, True, True]\n",
            "240 248\n"
          ]
        },
        {
          "output_type": "stream",
          "name": "stderr",
          "text": [
            "Setting `pad_token_id` to `eos_token_id`:50256 for open-end generation.\n"
          ]
        },
        {
          "output_type": "stream",
          "name": "stdout",
          "text": [
            "['SELECT sport, AVG(salary) FROM athlete_salaries GROUP BY sport;', \"SELECT MAX(SocialGoodBudget.Budget) FROM SocialGoodBudget INNER JOIN Countries ON SocialGoodBudget.Country = Countries.Country WHERE Countries.Continent = 'Africa';\", 'SELECT destination_continent, SUM(quantity) FROM Shipment GROUP BY destination_continent;', 'SELECT article_language, COUNT(*) as article_count FROM articles GROUP BY article_language;', \"SELECT AVG(yield) FROM crops WHERE region = 'Pacific' AND year = 2021;\", \"SELECT COUNT(*) FROM open_pedagogy_resources WHERE access_date >= '2022-03-01' AND access_date < '2022-04-01';\", 'SELECT socially_responsible_loans.client_id, credit_cards.card_type FROM socially_responsible_loans INNER JOIN credit_cards ON socially_responsible_loans.client_id = credit_cards.client_id WHERE socially_responsible_loans.client_id IS NOT NULL AND credit_cards.client_id IS NOT NULL;', \"SELECT Name, CulturalCompetencyScore FROM Hospitals WHERE Region = 'Northeast';\"]\n",
            "[True, True, True, True, False, False, False, False]\n",
            "248 256\n"
          ]
        },
        {
          "output_type": "stream",
          "name": "stderr",
          "text": [
            "Setting `pad_token_id` to `eos_token_id`:50256 for open-end generation.\n"
          ]
        },
        {
          "output_type": "stream",
          "name": "stdout",
          "text": [
            "[\"SELECT SUM(amount) FROM sales JOIN vendors ON sales.vendor_id = vendors.vendor_id WHERE vendors.region = 'Midwest';\", \"SELECT project_name, SUM(budget) FROM energy_efficiency_projects WHERE state = 'California' GROUP BY project_name;\", \"SELECT COUNT(*) FROM ethical_ai_initiatives WHERE region IN ('Asia', 'Europe');\", 'SELECT Area, AVG(MentalHealthScore) as Avg_Score FROM MentalHealthScores GROUP BY Area;', \"SELECT SUM(number_of_cases) FROM court_cases WHERE county = 'Los Angeles' AND year = 2020;\", 'SELECT country, frequency FROM media_content;', 'SELECT supplier_id, COUNT(*) FROM product GROUP BY supplier_id;', 'SELECT mass_range, COUNT(*) as count FROM space_debris_by_mass GROUP BY mass_range;']\n",
            "[True, True, False, False, True, False, True, False]\n",
            "256 264\n"
          ]
        },
        {
          "output_type": "stream",
          "name": "stderr",
          "text": [
            "Setting `pad_token_id` to `eos_token_id`:50256 for open-end generation.\n"
          ]
        },
        {
          "output_type": "stream",
          "name": "stdout",
          "text": [
            "[\"SELECT AVG(area_ha) FROM agroecological_projects WHERE location = 'Asia';\", 'SELECT region FROM initiatives WHERE success_score > 75 ORDER BY success_score DESC;', \"SELECT type, COUNT(*) as count FROM resources WHERE district = 'Brookside' GROUP BY type ORDER BY count ASC LIMIT 1;\", 'SELECT SUM(program_completed) FROM teacher_development WHERE program_completed > 0;', 'SELECT Category, Resolution, COUNT(Cases) FROM CasesByJusticeCategory WHERE Year = 2021 GROUP BY Category, Resolution;', \"SELECT MAX(case_type) FROM cases WHERE country = 'Australia' AND case_type = 'Restorative Justice';\", 'SELECT vendors.vendor_name, SUM(sales.amount) FROM vendors INNER JOIN sales ON vendors.vendor_id = sales.vendor_id WHERE sales.amount > 10000 GROUP BY vendors.vendor_name;', \"SELECT name FROM teachers WHERE subject = 'Computer Science' ORDER BY hire_date;\"]\n",
            "[True, False, True, True, False, False, True, False]\n",
            "264 272\n"
          ]
        },
        {
          "output_type": "stream",
          "name": "stderr",
          "text": [
            "Setting `pad_token_id` to `eos_token_id`:50256 for open-end generation.\n"
          ]
        },
        {
          "output_type": "stream",
          "name": "stdout",
          "text": [
            "['SELECT team_name, AVG(strikeouts) FROM baseball_teams GROUP BY team_name;', \"SELECT MAX(goals_scored) FROM goals WHERE team = 'Montreal Canadiens';\", 'SELECT Ethnicity, COUNT(*) as TotalCases FROM DiversityInJustice GROUP BY Ethnicity;', 'SELECT AVG(volunteer_age) FROM restorative_justice_programs;', 'SELECT hour_type, location, ethnicity, SUM(hours) FROM legal_aid_hours_ethnicity GROUP BY hour_type, location, ethnicity;', 'SELECT country, COUNT(*) as num_successes FROM space_missions GROUP BY country;', \"SELECT f.name, COUNT(DISTINCT c.variety) as unique_varieties FROM farms f JOIN crops c ON f.id = c.farm_id WHERE f.location = 'Asia' AND c.last_harvest_date >= '2022-01-01' GROUP BY f.name;\", 'SELECT name, location FROM Farmers WHERE years_of_experience > 10;']\n",
            "[True, True, False, True, True, False, False, False]\n",
            "272 280\n"
          ]
        },
        {
          "output_type": "stream",
          "name": "stderr",
          "text": [
            "Setting `pad_token_id` to `eos_token_id`:50256 for open-end generation.\n"
          ]
        },
        {
          "output_type": "stream",
          "name": "stdout",
          "text": [
            "['SELECT MAX(home_team_player_hat_tricks + away_team_player_hat_tricks) FROM german_matches;', 'SELECT AVG(weight) FROM shipment WHERE warehouse_id = 3;', 'SELECT product_category, SUM(sales) FROM sales GROUP BY product_category;', \"SELECT SUM(capacity) FROM windfarm WHERE country IN ('Germany', 'France');\", \"SELECT SUM(budget) FROM accessible_tech WHERE sector = 'education';\", \"SELECT SUM(amount) FROM donations WHERE donor = 'Aisha' AND donation_date BETWEEN '2021-01-01' AND '2021-12-31';\", 'SELECT transportation_mode, COUNT(DISTINCT item_type) FROM shipments GROUP BY transportation_mode;', \"SELECT MAX(number) FROM mental_health_parity_violations WHERE state IN ('Alabama', 'Georgia', 'Florida', 'North Carolina', 'South Carolina', 'Mississippi', 'Louisiana', 'Arkansas', 'Tennessee', 'Kentucky', 'Virginia');\"]\n",
            "[True, True, True, True, True, True, True, True]\n",
            "280 288\n"
          ]
        },
        {
          "output_type": "stream",
          "name": "stderr",
          "text": [
            "Setting `pad_token_id` to `eos_token_id`:50256 for open-end generation.\n"
          ]
        },
        {
          "output_type": "stream",
          "name": "stdout",
          "text": [
            "['SELECT COUNT(DISTINCT service_type) FROM defendant_services;', \"SELECT AVG(songs.song_length) FROM songs JOIN artists ON songs.artist_id = artists.artist_id WHERE artists.country = 'United States';\", 'SELECT district_name, AVG(mental_health_score) as avg_score FROM student_mental_health GROUP BY district_name ORDER BY avg_score DESC;', \"SELECT SUM(generation) FROM energy_generation WHERE country IN ('Kenya', 'Nigeria', 'South Africa') AND generation_date BETWEEN '2021-01-01' AND '2021-03-31';\", 'SELECT name, MAX(home_runs) FROM baseball_stats;', \"SELECT SUM(income) as total_income, SUM(expenses) as total_expenses FROM FinancialWellbeingPrograms WHERE country = 'Australia';\", \"SELECT SUM(weight) FROM parcels JOIN shipments ON parcels.id = shipments.shipment_id WHERE shipments.source_airport = 'FRA' AND shipments.destination_airport = 'ICN' AND shipped_date BETWEEN '2022-03-01' AND '2022-03-31';\", \"SELECT country, SUM(product_quantity) as total_quantity FROM ethical_brands JOIN sales ON ethical_brands.brand_id = sales.brand_id WHERE product_category = 'Clothing' GROUP BY country ORDER BY total_quantity DESC;\"]\n",
            "[True, True, False, False, True, False, False, True]\n",
            "288 296\n"
          ]
        },
        {
          "output_type": "stream",
          "name": "stderr",
          "text": [
            "Setting `pad_token_id` to `eos_token_id`:50256 for open-end generation.\n"
          ]
        },
        {
          "output_type": "stream",
          "name": "stdout",
          "text": [
            "['SELECT stadium_name, capacity FROM stadiums WHERE capacity > 70000;', 'SELECT DISTINCT city FROM conferences JOIN ethical_ai_topics ON conferences.id = ethical_ai_topics.conference_id WHERE conference_id IN (1, 4);', \"SELECT AVG(amount) FROM shariah_compliant_loans WHERE region IN ('Middle East', 'Africa');\", \"SELECT COUNT(*) FROM financial_institutions WHERE country IN ('UAE', 'Egypt') AND is_shariah_compliant = true;\", 'SELECT District, COUNT(*) as NumOfPrograms FROM ADRPrograms WHERE YearEstablished BETWEEN 2010 AND 2020 GROUP BY District;', 'SELECT r.name, AVG(m.carbon_footprint) FROM regions r JOIN manufacturers m ON r.id = m.region_id GROUP BY r.name;', \"SELECT MIN(Price) FROM Products INNER JOIN Stores ON Products.StoreID = Stores.StoreID WHERE Products.Category = 'Grocery' AND Stores.Country = 'USA' AND Stores.State = 'New York';\", \"SELECT SUM(quantity) FROM sales WHERE business_size ='small';\"]\n",
            "[True, False, True, False, True, True, True, True]\n",
            "296 304\n"
          ]
        },
        {
          "output_type": "stream",
          "name": "stderr",
          "text": [
            "Setting `pad_token_id` to `eos_token_id`:50256 for open-end generation.\n"
          ]
        },
        {
          "output_type": "stream",
          "name": "stdout",
          "text": [
            "['SELECT COUNT(DISTINCT country) FROM space_agencies;', \"SELECT mission_name, launch_date FROM missions WHERE country = 'Russia';\", 'SELECT country, COUNT(*) as mission_count FROM SpaceMissions GROUP BY country;', 'SELECT return_point, COUNT(*) as count FROM returns WHERE return_half = 1 AND return_year = 2022 GROUP BY return_point ORDER BY count DESC LIMIT 3;', 'SELECT region, worker_count FROM region_health_workers;', 'SELECT county, COUNT(*) as org_count FROM legal_aid_organizations GROUP BY county;', 'SELECT country, COUNT(*) as num_missions FROM space_missions GROUP BY country;', \"SELECT SUM(quantity) FROM emissions WHERE emission_type = 'CO2' AND country = 'France';\"]\n",
            "[True, True, True, False, False, True, True, True]\n",
            "304 312\n"
          ]
        },
        {
          "output_type": "stream",
          "name": "stderr",
          "text": [
            "Setting `pad_token_id` to `eos_token_id`:50256 for open-end generation.\n"
          ]
        },
        {
          "output_type": "stream",
          "name": "stdout",
          "text": [
            "[\"SELECT title, streams FROM songs WHERE genre = 'Hip-Hop' AND year = 2021 ORDER BY streams DESC LIMIT 3;\", 'SELECT country, SUM(energy_consumption) as total_consumption FROM energy_consumption WHERE year = 2020 GROUP BY country;', \"SELECT name, wins FROM teams WHERE league = 'UEFA Champions League';\", 'SELECT MAX(homeruns) FROM single_game_homeruns;', \"SELECT MAX(loan_amount) FROM socially_responsible_loans WHERE region = 'Asia-Pacific';\", \"SELECT genre, COUNT(*) as num_shows, MAX(rating) as max_rating FROM tv_shows WHERE production_country = 'Japan' AND release_year BETWEEN 2015 AND 2020 GROUP BY genre ORDER BY max_rating DESC;\", 'SELECT region, COUNT(*) FROM socially_responsible_lending GROUP BY region;', \"SELECT warehouse_location, SUM(quantity) FROM warehouse_data WHERE item_name = 'Widget' GROUP BY warehouse_location HAVING SUM(quantity) < 50;\"]\n",
            "[True, True, False, True, True, False, True, False]\n",
            "312 320\n"
          ]
        },
        {
          "output_type": "stream",
          "name": "stderr",
          "text": [
            "Setting `pad_token_id` to `eos_token_id`:50256 for open-end generation.\n"
          ]
        },
        {
          "output_type": "stream",
          "name": "stdout",
          "text": [
            "['SELECT Region, HealthWorkerCount FROM RegionHealthWorkers;', 'SELECT case_type, AVG(processing_time) FROM case_processing GROUP BY case_type;', \"SELECT SUM(production) FROM production_data WHERE country = 'Kenya';\", \"SELECT name, energy_star_rating FROM appliances WHERE country = 'USA' ORDER BY energy_star_rating DESC LIMIT 3;\", \"SELECT state, year, SUM(consumption) as total_consumption, energy_type, SUM(consumption) as renewable_consumption, SUM(consumption) as non_renewable_consumption FROM energy_consumption WHERE state = 'New York' AND year = 2020 GROUP BY state, year, energy_type;\", 'SELECT AVG(goals_home) FROM games WHERE attendance > 50000;', \"SELECT MIN(health_equity_metric_score) FROM healthcare_providers WHERE location = 'Rural';\", \"SELECT category, COUNT(*) FROM media_content WHERE studio_location IN ('Brazil', 'Japan') GROUP BY category;\"]\n",
            "[True, True, False, True, False, True, True, True]\n",
            "320 328\n"
          ]
        },
        {
          "output_type": "stream",
          "name": "stderr",
          "text": [
            "Setting `pad_token_id` to `eos_token_id`:50256 for open-end generation.\n"
          ]
        },
        {
          "output_type": "stream",
          "name": "stdout",
          "text": [
            "['SELECT country, SUM(cost) FROM missions GROUP BY country;', \"SELECT organization, COUNT(*) as num_projects FROM ai_ethics WHERE country = 'Canada' GROUP BY organization;\", \"SELECT gender, AVG(followers) FROM news_anchors WHERE news_channel = 'Channel1' GROUP BY gender;\", 'SELECT type, AVG(temperature) FROM crop GROUP BY type;', \"SELECT name FROM urban_agriculture_initiatives WHERE location = 'Montreal' AND area_ha > 0.5;\", 'SELECT COUNT(DISTINCT organization_name) FROM social_good_middle_east;', 'SELECT occupation, gender, AVG(score) as avg_score FROM financial_capability_3 GROUP BY occupation, gender;', \"SELECT COUNT(*) FROM podcasts WHERE publication_year = 2019 AND creator_community = 'Underrepresented Community';\"]\n",
            "[False, True, True, True, True, True, False, True]\n",
            "328 336\n"
          ]
        },
        {
          "output_type": "stream",
          "name": "stderr",
          "text": [
            "Setting `pad_token_id` to `eos_token_id`:50256 for open-end generation.\n"
          ]
        },
        {
          "output_type": "stream",
          "name": "stdout",
          "text": [
            "[\"SELECT MAX(units_sold) FROM product_sales WHERE country = 'Germany' AND year = 2020;\", 'SELECT country, SUM(satellites) as total_satellites FROM SpaceRadar GROUP BY country ORDER BY total_satellites DESC;', \"SELECT SUM(quantity) FROM shipments JOIN warehouses ON shipments.warehouse_id = warehouses.warehouse_id WHERE warehouses.city = 'NYC';\", \"SELECT COUNT(*) FROM tv_shows WHERE country = 'Spain' AND year = 2017;\", \"SELECT MIN(pub_date) FROM articles_tech WHERE category = 'Tech';\", \"SELECT SUM(Revenue) FROM Revenue WHERE Practice = 'Ethical Labor' AND Country = 'South America';\", \"SELECT name FROM space_craft WHERE orbit = 'GTO' ORDER BY mass DESC LIMIT 1;\", 'SELECT SUM(Mass) FROM Space_Debris;']\n",
            "[True, True, True, True, True, True, True, True]\n",
            "336 344\n"
          ]
        },
        {
          "output_type": "stream",
          "name": "stderr",
          "text": [
            "Setting `pad_token_id` to `eos_token_id`:50256 for open-end generation.\n"
          ]
        },
        {
          "output_type": "stream",
          "name": "stdout",
          "text": [
            "['SELECT salesperson_id, COUNT(*) AS sales_count, SUM(revenue) AS total_revenue FROM sales GROUP BY salesperson_id ORDER BY sales_count DESC;', 'SELECT country, MAX(initiatives) as max_initiatives FROM urban_agriculture GROUP BY country ORDER BY max_initiatives DESC;', \"SELECT AVG(efficiency_rating) FROM energy_efficiency WHERE building_type = 'Residential' AND country = 'India';\", \"SELECT SUM(sessions) FROM financial_capability_training WHERE country = 'Germany' AND quarter = 1 AND year = 2022;\", \"SELECT worker_id, region, SUM(CASE WHEN metric1 THEN 1 ELSE 0 END) AS metric1_met, SUM(CASE WHEN metric2 THEN 1 ELSE 0 END) AS metric2_met, SUM(CASE WHEN metric3 THEN 1 ELSE 0 END) AS metric3_met FROM health_equity_metrics_worker WHERE region = 'West' AND year = 2020 GROUP BY worker_id, region, metric1_met + metric2_met + metric3_met;\", \"SELECT product_category, SUM(sale_amount) as total_sales FROM sales JOIN products ON sales.product_id = products.product_id WHERE sale_region = 'Europe' GROUP BY product_category ORDER BY total_sales DESC LIMIT 3;\", \"SELECT COUNT(*) FROM albums WHERE genre = 'jazz' AND country = 'US' AND release_quarter = 4 AND sales > 1000;\", 'SELECT region, AVG(price) FROM carbon_prices GROUP BY region;']\n",
            "[True, True, True, False, False, False, False, True]\n",
            "344 352\n"
          ]
        },
        {
          "output_type": "stream",
          "name": "stderr",
          "text": [
            "Setting `pad_token_id` to `eos_token_id`:50256 for open-end generation.\n"
          ]
        },
        {
          "output_type": "stream",
          "name": "stdout",
          "text": [
            "[\"SELECT AVG(height) FROM players WHERE team = 'Atlanta Hawks';\", \"SELECT AVG(funding) FROM projects WHERE category = 'SocialGood' AND name LIKE '%Technology%';\", 'SELECT route, AVG(delivery_time) FROM delivery GROUP BY route;', \"SELECT SUM(Shipments.Weight) FROM Shipments JOIN FreightForwarders ON Shipments.FreightForwarderID = FreightForwarders.ID WHERE Shipments.Origin = 'Brazil' AND Shipments.Destination = 'India' AND FreightForwarders.Name = 'DEF Logistics';\", \"SELECT AVG(rating) FROM movies WHERE director LIKE '%Woman%';\", \"SELECT SUM(duration) FROM Videos WHERE category = 'Entertainment' AND rating > 8;\", 'SELECT SUM(mass) FROM exoplanets WHERE atmosphere = true;', \"SELECT COUNT(*) FROM streams WHERE genre = 'Country' AND country = 'USA' AND stream_date BETWEEN '2021-02-01' AND '2021-02-28';\"]\n",
            "[True, False, True, True, False, True, True, True]\n",
            "352 360\n"
          ]
        },
        {
          "output_type": "stream",
          "name": "stderr",
          "text": [
            "Setting `pad_token_id` to `eos_token_id`:50256 for open-end generation.\n"
          ]
        },
        {
          "output_type": "stream",
          "name": "stdout",
          "text": [
            "[\"SELECT ProjectName FROM Projects WHERE LeaderCommunity LIKE 'Historically Underrepresented%' AND Domain = 'Social Good';\", \"SELECT principle_name FROM EthicalAI WHERE project_location = 'India';\", \"SELECT AVG(budget) FROM company_tech WHERE name LIKE '%ethical AI%';\", \"SELECT MIN(salary) FROM salaries WHERE team = 'Social Good';\", \"SELECT Warehouses.name, SUM(Inventory.pallets) FROM Inventory INNER JOIN Warehouses ON Inventory.warehouse_id = Warehouses.id WHERE Warehouses.country = 'France' GROUP BY Warehouses.name;\", \"SELECT COUNT(*) FROM shipment WHERE warehouse_id = 4 AND delivery_location = 'Berlin' AND shipped_date BETWEEN '2021-02-01' AND '2021-02-28' AND weight > 15;\", \"SELECT victim_name FROM restorative_justice_programs WHERE program_state = 'New York';\", 'SELECT location, COUNT(DISTINCT genre) FROM media GROUP BY location;']\n",
            "[True, True, False, True, True, True, True, True]\n",
            "360 368\n"
          ]
        },
        {
          "output_type": "stream",
          "name": "stderr",
          "text": [
            "Setting `pad_token_id` to `eos_token_id`:50256 for open-end generation.\n"
          ]
        },
        {
          "output_type": "stream",
          "name": "stdout",
          "text": [
            "['SELECT AVG(altitude) FROM geostationary_satellites;', \"SELECT SUM(satellites) FROM satellite_launches WHERE country IN ('India', 'USA');\", 'SELECT artist_name, COUNT(*) as song_count FROM Songs GROUP BY artist_name;', 'SELECT COUNT(DISTINCT customer_id) FROM credit_cards;', \"SELECT AVG(score) FROM financial_wellbeing_eu WHERE country IN ('Germany', 'France', 'UK');\", 'SELECT year, country, SUM(num_satellites) FROM satellite_launches_by_year_country GROUP BY year, country;', \"SELECT SUM(Quantity) FROM MaizeProduction WHERE System = 'Indigenous Food Systems';\", 'SELECT warehouse_id, AVG(weight) FROM packages WHERE weight <= 80 GROUP BY warehouse_id;']\n",
            "[True, True, True, False, True, True, True, True]\n",
            "368 376\n"
          ]
        },
        {
          "output_type": "stream",
          "name": "stderr",
          "text": [
            "Setting `pad_token_id` to `eos_token_id`:50256 for open-end generation.\n"
          ]
        },
        {
          "output_type": "stream",
          "name": "stdout",
          "text": [
            "[\"SELECT Metric_Name, Metric_Value FROM HealthEquityMetrics WHERE Region = 'rural';\", 'SELECT AVG(cost) FROM mars_missions;', \"SELECT f.name, f.age, f.location, p.product_name, p.price FROM Agroecology_Farmers f JOIN Agroecology_Produce p ON f.id = p.farmer_id WHERE f.location IN ('Senegalese Savannah', 'Kenyan Highlands');\", \"SELECT SUM(yield) FROM organic_farms WHERE state IN ('CA', 'TX') AND year = 2020;\", 'SELECT gender, age, ethnicity, AVG(mental_health_score) as avg_mental_health_score FROM students GROUP BY gender, age, ethnicity;', 'SELECT AVG(mental_health_score) FROM students WHERE participated_in_open_pedagogy = TRUE;', 'SELECT country, COUNT(*) as num_resources FROM student_access JOIN open_resources ON student_access.resource_id = open_resources.resource_id GROUP BY country;', 'SELECT player_name, SUM(points) FROM nba_scores GROUP BY player_name;']\n",
            "[True, True, False, True, True, True, True, True]\n",
            "376 384\n"
          ]
        },
        {
          "output_type": "stream",
          "name": "stderr",
          "text": [
            "Setting `pad_token_id` to `eos_token_id`:50256 for open-end generation.\n"
          ]
        },
        {
          "output_type": "stream",
          "name": "stdout",
          "text": [
            "[\"SELECT COUNT(*) FROM digital_divide_initiatives WHERE region = 'Asia';\", \"SELECT name FROM farms WHERE size > 150 AND location = 'Texas';\", \"SELECT SUM(revenue) FROM sales_view WHERE farmer_id = 1 AND crop_name = 'Potatoes';\", \"SELECT ArtistName, SUM(SalesAmount) as TotalRevenue FROM MusicSales WHERE Genre = 'Digital' GROUP BY ArtistName ORDER BY TotalRevenue DESC LIMIT 3;\", \"SELECT AVG(Budget) FROM Accessible_Tech_Projects WHERE Location = 'Africa';\", 'SELECT name, MAX(balance) FROM shariah_compliant_finance GROUP BY name;', 'SELECT WarehouseManagementTransactions.TransactionID, WarehouseManagementTransactions.TransactionStatus, WarehouseManagementTransactions.TransactionDate FROM WarehouseManagementTransactions WHERE WarehouseManagementTransactions.WarehouseID = 3;', \"SELECT COUNT(*) FROM community_health_workers WHERE community IN ('First Nations', 'Inuit', 'Métis');\"]\n",
            "[True, True, True, False, True, False, True, True]\n",
            "384 392\n"
          ]
        },
        {
          "output_type": "stream",
          "name": "stderr",
          "text": [
            "Setting `pad_token_id` to `eos_token_id`:50256 for open-end generation.\n"
          ]
        },
        {
          "output_type": "stream",
          "name": "stdout",
          "text": [
            "[\"SELECT MAX(altitude) FROM RocketAltitudes WHERE rocket = 'Falcon 9';\", 'SELECT country, SUM(cost) FROM satellites GROUP BY country;', 'SELECT Country, AVG(Consumption) as AvgConsumptionPerCapita FROM EnergyConsumptionPerCapita WHERE Year = 2021 GROUP BY Country;', \"SELECT MAX(usage) FROM power_usage WHERE building_type = 'Industrial' AND location = 'California';\", \"SELECT matches FROM tennis_tournaments WHERE court = 'Grass';\", \"SELECT SUM(fans_attended) FROM matches WHERE team = 'Manchester United' AND year = 2020;\", 'SELECT Genre, SUM(RunningTime) FROM GenreRunningTimes GROUP BY Genre;', \"SELECT products.name, suppliers.name FROM products INNER JOIN suppliers ON products.supplier_id = suppliers.id WHERE suppliers.name!= 'Green Cotton Inc.';\"]\n",
            "[True, True, True, False, False, True, True, True]\n",
            "392 400\n"
          ]
        },
        {
          "output_type": "stream",
          "name": "stderr",
          "text": [
            "Setting `pad_token_id` to `eos_token_id`:50256 for open-end generation.\n"
          ]
        },
        {
          "output_type": "stream",
          "name": "stdout",
          "text": [
            "[\"SELECT SUM(mass) FROM gso_debris WHERE orbit = 'GSO' AND source = 'Defunct Satellite';\", 'SELECT MAX(cost) FROM rover_missions;', 'SELECT SUM(cost) FROM space_missions;', 'SELECT s.name, AVG(l.progress) as avg_progress FROM lifelong_learning l JOIN schools s ON l.school_id = s.school_id GROUP BY s.name;', \"SELECT COUNT(cards) FROM yellow_cards JOIN teams ON yellow_cards.team_id = teams.team_id WHERE teams.name = 'Bayern Munich' AND tournament = 'Champions League';\", 'SELECT COUNT(*) FROM clients JOIN loans ON clients.client_id = loans.client_id WHERE clients.is_financially_capable = true;', \"SELECT COUNT(*) FROM Warehouses WHERE city = 'City Y' AND capacity > 100000;\", \"SELECT outlet_name, COUNT(*) as num_articles FROM media_outlets JOIN fact_checks ON media_outlets.outlet_id = fact_checks.outlet_id WHERE fact_checks.is_true = TRUE AND fact_checks.fact_check_date >= '2021-01-01' GROUP BY outlet_name ORDER BY num_articles DESC LIMIT 5;\"]\n",
            "[True, False, True, False, False, True, True, True]\n",
            "400 408\n",
            "[\"SELECT COUNT(*) FROM suppliers WHERE location = 'United States';\", \"SELECT SUM(assets) FROM financial_institutions WHERE shariah_compliant = TRUE AND location IN ('Saudi Arabia', 'Kuwait');\", \"SELECT AVG(temperature) FROM weather WHERE country = 'Brazil' AND region = 'Northeast' AND month = 1;\", \"SELECT COUNT(*) FROM indigenous_food_systems WHERE country = 'Australia';\", 'SELECT investor_name, SUM(investments.investment_value) as total_investments, SUM(investments.investment_value) * investments.is_shariah_compliant as shariah_investments FROM investments JOIN investors ON investments.investor_id = investors.investor_id GROUP BY investor_name ORDER BY total_investments DESC LIMIT 5;', \"SELECT capacity FROM warehouse WHERE city = 'San Francisco';\", \"SELECT Job_Title, COUNT(*) FROM CommunityHealthWorkers WHERE Language = 'Spanish' GROUP BY Job_Title;\", \"SELECT SUM(quantity) FROM Fabrics WHERE type LIKE '%Organic%' OR type LIKE '%Recycled%' AND year = 2020;\"]\n",
            "[False, False, True, True, False, False, True, True]\n"
          ]
        }
      ]
    },
    {
      "cell_type": "code",
      "source": [
        "len(all_evals), np.array(all_evals).mean()"
      ],
      "metadata": {
        "colab": {
          "base_uri": "https://localhost:8080/"
        },
        "id": "4df3S_8b-TMB",
        "outputId": "04e47c6f-f0fd-4318-b00c-62c177642f8b"
      },
      "execution_count": null,
      "outputs": [
        {
          "output_type": "execute_result",
          "data": {
            "text/plain": [
              "(408, 0.6936274509803921)"
            ]
          },
          "metadata": {},
          "execution_count": 54
        }
      ]
    },
    {
      "cell_type": "code",
      "source": [
        "# test_ds = test_ds.remove_columns(['score', 'pred_sql'])\n",
        "test_ds = test_ds.add_column('score', np.array(all_evals))\n",
        "test_ds = test_ds.add_column('pred_sql', pred_sqls)"
      ],
      "metadata": {
        "id": "Hr9t7ydrCBVK"
      },
      "execution_count": null,
      "outputs": []
    },
    {
      "cell_type": "code",
      "source": [
        "check_df = pd.DataFrame(test_ds)"
      ],
      "metadata": {
        "id": "JMcZ7YUNCFvA"
      },
      "execution_count": null,
      "outputs": []
    },
    {
      "cell_type": "code",
      "source": [
        "check_df.groupby(['sql_complexity'])['score'].mean()"
      ],
      "metadata": {
        "colab": {
          "base_uri": "https://localhost:8080/"
        },
        "id": "ZxmybraSCKPE",
        "outputId": "eb7c432b-2c3a-41f8-d6f1-6b1e2b5db5a0"
      },
      "execution_count": null,
      "outputs": [
        {
          "output_type": "execute_result",
          "data": {
            "text/plain": [
              "sql_complexity\n",
              "aggregation    0.631148\n",
              "basic SQL      0.756637\n",
              "single join    0.583333\n",
              "Name: score, dtype: float64"
            ]
          },
          "metadata": {},
          "execution_count": 75
        }
      ]
    },
    {
      "cell_type": "code",
      "source": [],
      "metadata": {
        "id": "ad-ldo1TNRFh"
      },
      "execution_count": null,
      "outputs": []
    }
  ]
}